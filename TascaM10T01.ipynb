{
 "cells": [
  {
   "cell_type": "markdown",
   "metadata": {},
   "source": [
    "# Tasca M10 T01\n",
    "Exercicis de Web Scrapin"
   ]
  },
  {
   "cell_type": "markdown",
   "metadata": {},
   "source": [
    "### Exercici 1\n",
    "Realitza web scraping de dues de les tres pàgines web proposades utilitzant BeautifulSoup primer i Selenium després. \n",
    "\n",
    "- http://quotes.toscrape.com\n",
    "\n",
    "- https://www.bolsamadrid.es\n",
    "\n",
    "- www.wikipedia.es (fes alguna cerca primer i escrapeja algun contingut)"
   ]
  },
  {
   "cell_type": "markdown",
   "metadata": {},
   "source": [
    "##### + BeautifulSoup\n",
    "###### Quotes to Scape"
   ]
  },
  {
   "cell_type": "code",
   "execution_count": 1,
   "metadata": {},
   "outputs": [
    {
     "name": "stdout",
     "output_type": "stream",
     "text": [
      "Quote: “The world as we have created it is a process of our thinking. It cannot be changed without changing our thinking.”\n",
      "Author: Albert Einstein\n",
      "Tags: change, deep-thoughts, thinking, world\n",
      "\n",
      "Quote: “It is our choices, Harry, that show what we truly are, far more than our abilities.”\n",
      "Author: J.K. Rowling\n",
      "Tags: abilities, choices\n",
      "\n",
      "Quote: “There are only two ways to live your life. One is as though nothing is a miracle. The other is as though everything is a miracle.”\n",
      "Author: Albert Einstein\n",
      "Tags: inspirational, life, live, miracle, miracles\n",
      "\n",
      "Quote: “The person, be it gentleman or lady, who has not pleasure in a good novel, must be intolerably stupid.”\n",
      "Author: Jane Austen\n",
      "Tags: aliteracy, books, classic, humor\n",
      "\n",
      "Quote: “Imperfection is beauty, madness is genius and it's better to be absolutely ridiculous than absolutely boring.”\n",
      "Author: Marilyn Monroe\n",
      "Tags: be-yourself, inspirational\n",
      "\n",
      "Quote: “Try not to become a man of success. Rather become a man of value.”\n",
      "Author: Albert Einstein\n",
      "Tags: adulthood, success, value\n",
      "\n",
      "Quote: “It is better to be hated for what you are than to be loved for what you are not.”\n",
      "Author: André Gide\n",
      "Tags: life, love\n",
      "\n",
      "Quote: “I have not failed. I've just found 10,000 ways that won't work.”\n",
      "Author: Thomas A. Edison\n",
      "Tags: edison, failure, inspirational, paraphrased\n",
      "\n",
      "Quote: “A woman is like a tea bag; you never know how strong it is until it's in hot water.”\n",
      "Author: Eleanor Roosevelt\n",
      "Tags: misattributed-eleanor-roosevelt\n",
      "\n",
      "Quote: “A day without sunshine is like, you know, night.”\n",
      "Author: Steve Martin\n",
      "Tags: humor, obvious, simile\n",
      "\n"
     ]
    }
   ],
   "source": [
    "import requests\n",
    "from bs4 import BeautifulSoup\n",
    "\n",
    "URL = \"http://quotes.toscrape.com\"\n",
    "page = requests.get(URL)\n",
    "\n",
    "soup = BeautifulSoup(page.content, \"html.parser\")\n",
    "\n",
    "# Find all the quotes on the page\n",
    "quotes = soup.find_all(\"div\", class_=\"quote\")\n",
    "\n",
    "for quote in quotes:\n",
    "    # Extract the quote text\n",
    "    quote_text = quote.find(\"span\", class_=\"text\").text.strip()\n",
    "    # Extract the author's name\n",
    "    author = quote.find(\"small\", class_=\"author\").text.strip()\n",
    "    # Extract the tags\n",
    "    tags = [tag.text for tag in quote.find(\"div\", class_=\"tags\").find_all(\"a\", class_=\"tag\")]\n",
    "\n",
    "    print(\"Quote:\", quote_text)\n",
    "    print(\"Author:\", author)\n",
    "    print(\"Tags:\", \", \".join(tags))\n",
    "    print()\n"
   ]
  },
  {
   "cell_type": "markdown",
   "metadata": {},
   "source": [
    "###### Wikipedia"
   ]
  },
  {
   "cell_type": "code",
   "execution_count": 2,
   "metadata": {},
   "outputs": [
    {
     "name": "stdout",
     "output_type": "stream",
     "text": [
      "title: Overview\n",
      "\n",
      "title: Species groups\n",
      "\n",
      "title: Aquatic plants\n",
      "\n",
      "title: Seaweed farming\n",
      "\n",
      "title: Fish\n",
      "\n",
      "title: Crustaceans\n",
      "\n",
      "title: Molluscs\n",
      "\n",
      "title: Other groups\n",
      "\n",
      "title: Global fish production\n",
      "\n",
      "title: Over-reporting by China\n",
      "\n",
      "title: Aquacultural methods\n",
      "\n",
      "title: Mariculture\n",
      "\n",
      "title: Integrated\n",
      "\n",
      "title: Urban aquaculture\n",
      "\n",
      "title: Netting materials\n",
      "\n",
      "title: Issues\n",
      "\n",
      "title: Impacts on wild fish\n",
      "\n",
      "title: Animal welfare\n",
      "\n",
      "title: Common welfare concerns\n",
      "\n",
      "title: Improving welfare\n",
      "\n",
      "title: Coastal ecosystems\n",
      "\n",
      "title: Pollution from sea cage aquaculture\n",
      "\n",
      "title: Freshwater ecosystems\n",
      "\n",
      "title: Genetic modification\n",
      "\n",
      "title: Fish diseases, parasites and vaccines\n",
      "\n",
      "title: Needs of the aquaculture sector in vaccines\n",
      "\n",
      "title: Development of new vaccines\n",
      "\n",
      "title: Recent vaccines development in aquaculture\n",
      "\n",
      "title: Economic gains\n",
      "\n",
      "title: Salinization/acidification of soils\n",
      "\n",
      "title: Plastic pollution\n",
      "\n",
      "title: Ecological benefits\n",
      "\n",
      "title: Prospects\n",
      "\n",
      "title: Global goals\n",
      "\n",
      "title: National laws, regulations, and management\n",
      "\n",
      "title: By country\n",
      "\n",
      "title: History\n",
      "\n",
      "title: See also\n",
      "\n",
      "title: References\n",
      "\n",
      "title: Sources\n",
      "\n",
      "title: Free content work\n",
      "\n",
      "title: Further reading\n",
      "\n",
      "title: External links\n",
      "\n"
     ]
    }
   ],
   "source": [
    "URL = \"https://en.wikipedia.org/wiki/Aquaculture\"\n",
    "page = requests.get(URL)\n",
    "\n",
    "soup = BeautifulSoup(page.content, \"html.parser\")\n",
    "# Find all the quotes on the page\n",
    "titles = soup.find_all(\"span\", class_=\"mw-headline\")\n",
    "\n",
    "for title in titles:\n",
    "    # Extract the quote text\n",
    "    title_text = title.text.strip()\n",
    "\n",
    "    print(\"title:\", title_text)\n",
    "    print()"
   ]
  },
  {
   "cell_type": "markdown",
   "metadata": {},
   "source": [
    "##### + Selenium\n",
    "###### Quotes to Scape"
   ]
  },
  {
   "cell_type": "code",
   "execution_count": 25,
   "metadata": {},
   "outputs": [],
   "source": [
    "from selenium import webdriver\n",
    "from selenium.webdriver.common.keys import Keys\n",
    "from selenium.webdriver.common.by import By\n",
    "\n",
    "driver = webdriver.Edge()\n",
    "driver.get(\"http://quotes.toscrape.com\")"
   ]
  },
  {
   "cell_type": "code",
   "execution_count": 12,
   "metadata": {},
   "outputs": [
    {
     "name": "stdout",
     "output_type": "stream",
     "text": [
      "“The world as we have created it is a process of our thinking. It cannot be changed without changing our thinking.”\n",
      "Albert Einstein\n",
      "Tags: change deep-thoughts thinking world\n",
      "\n",
      "“It is our choices, Harry, that show what we truly are, far more than our abilities.”\n",
      "J.K. Rowling\n",
      "Tags: abilities choices\n",
      "\n",
      "“There are only two ways to live your life. One is as though nothing is a miracle. The other is as though everything is a miracle.”\n",
      "Albert Einstein\n",
      "Tags: inspirational life live miracle miracles\n",
      "\n",
      "“The person, be it gentleman or lady, who has not pleasure in a good novel, must be intolerably stupid.”\n",
      "Jane Austen\n",
      "Tags: aliteracy books classic humor\n",
      "\n",
      "“Imperfection is beauty, madness is genius and it's better to be absolutely ridiculous than absolutely boring.”\n",
      "Marilyn Monroe\n",
      "Tags: be-yourself inspirational\n",
      "\n",
      "“Try not to become a man of success. Rather become a man of value.”\n",
      "Albert Einstein\n",
      "Tags: adulthood success value\n",
      "\n",
      "“It is better to be hated for what you are than to be loved for what you are not.”\n",
      "André Gide\n",
      "Tags: life love\n",
      "\n",
      "“I have not failed. I've just found 10,000 ways that won't work.”\n",
      "Thomas A. Edison\n",
      "Tags: edison failure inspirational paraphrased\n",
      "\n",
      "“A woman is like a tea bag; you never know how strong it is until it's in hot water.”\n",
      "Eleanor Roosevelt\n",
      "Tags: misattributed-eleanor-roosevelt\n",
      "\n",
      "“A day without sunshine is like, you know, night.”\n",
      "Steve Martin\n",
      "Tags: humor obvious simile\n",
      "\n"
     ]
    }
   ],
   "source": [
    "quotes = driver.find_elements(By.CLASS_NAME,\"quote\")\n",
    "\n",
    "for quote in quotes:\n",
    "    text = quote.find_element(By.CLASS_NAME,\"text\")\n",
    "    author = quote.find_element(By.CLASS_NAME,\"author\")\n",
    "    tags = quote.find_element(By.CLASS_NAME, \"tags\")\n",
    "    print(text.text)\n",
    "    print(author.text)\n",
    "    print(tags.text)\n",
    "    print()"
   ]
  },
  {
   "cell_type": "markdown",
   "metadata": {},
   "source": [
    "###### Wikipiedia"
   ]
  },
  {
   "cell_type": "code",
   "execution_count": 21,
   "metadata": {},
   "outputs": [],
   "source": [
    "driver = webdriver.Edge()\n",
    "driver.get(\"https://en.wikipedia.org/wiki/Aquaculture\")"
   ]
  },
  {
   "cell_type": "code",
   "execution_count": 22,
   "metadata": {},
   "outputs": [
    {
     "name": "stdout",
     "output_type": "stream",
     "text": [
      "Overview\n",
      "\n",
      "Species groups\n",
      "\n",
      "Aquatic plants\n",
      "\n",
      "Seaweed farming\n",
      "\n",
      "Fish\n",
      "\n",
      "Crustaceans\n",
      "\n",
      "Molluscs\n",
      "\n",
      "Other groups\n",
      "\n",
      "Global fish production\n",
      "\n",
      "Over-reporting by China\n",
      "\n",
      "Aquacultural methods\n",
      "\n",
      "Mariculture\n",
      "\n",
      "Integrated\n",
      "\n",
      "Urban aquaculture\n",
      "\n",
      "Netting materials\n",
      "\n",
      "Issues\n",
      "\n",
      "Impacts on wild fish\n",
      "\n",
      "Animal welfare\n",
      "\n",
      "Common welfare concerns\n",
      "\n",
      "Improving welfare\n",
      "\n",
      "Coastal ecosystems\n",
      "\n",
      "Pollution from sea cage aquaculture\n",
      "\n",
      "Freshwater ecosystems\n",
      "\n",
      "Genetic modification\n",
      "\n",
      "Fish diseases, parasites and vaccines\n",
      "\n",
      "Needs of the aquaculture sector in vaccines\n",
      "\n",
      "Development of new vaccines\n",
      "\n",
      "Recent vaccines development in aquaculture\n",
      "\n",
      "Economic gains\n",
      "\n",
      "Salinization/acidification of soils\n",
      "\n",
      "Plastic pollution\n",
      "\n",
      "Ecological benefits\n",
      "\n",
      "Prospects\n",
      "\n",
      "Global goals\n",
      "\n",
      "National laws, regulations, and management\n",
      "\n",
      "By country\n",
      "\n",
      "History\n",
      "\n",
      "See also\n",
      "\n",
      "References\n",
      "\n",
      "Sources\n",
      "\n",
      "Free content work\n",
      "\n",
      "Further reading\n",
      "\n",
      "External links\n",
      "\n"
     ]
    }
   ],
   "source": [
    "titles = driver.find_elements(By.CLASS_NAME,\"mw-headline\")\n",
    "\n",
    "for title in titles:\n",
    "    print(title.text)\n",
    "    print()"
   ]
  },
  {
   "cell_type": "markdown",
   "metadata": {},
   "source": [
    "### Exercici 2\n",
    "Documenta en un Word el teu conjunt de dades generat amb la informació que tenen els diferents arxius de Kaggle.\n",
    "\n",
    " Per saber més\n",
    "\n",
    "A manera d'exemple del que es demana pots consultar aquest enllaç:\n",
    "\n",
    "->https://www.kaggle.com/datasets/vivovinco/20212022-football-team-stats."
   ]
  },
  {
   "cell_type": "code",
   "execution_count": 10,
   "metadata": {},
   "outputs": [
    {
     "data": {
      "text/html": [
       "<div>\n",
       "<style scoped>\n",
       "    .dataframe tbody tr th:only-of-type {\n",
       "        vertical-align: middle;\n",
       "    }\n",
       "\n",
       "    .dataframe tbody tr th {\n",
       "        vertical-align: top;\n",
       "    }\n",
       "\n",
       "    .dataframe thead th {\n",
       "        text-align: right;\n",
       "    }\n",
       "</style>\n",
       "<table border=\"1\" class=\"dataframe\">\n",
       "  <thead>\n",
       "    <tr style=\"text-align: right;\">\n",
       "      <th></th>\n",
       "      <th>Name</th>\n",
       "      <th>Action</th>\n",
       "      <th>2018/19</th>\n",
       "      <th>2019/20</th>\n",
       "      <th>2020/21</th>\n",
       "      <th>2021/22</th>\n",
       "      <th>2022/23</th>\n",
       "      <th>May2023/24</th>\n",
       "    </tr>\n",
       "  </thead>\n",
       "  <tbody>\n",
       "    <tr>\n",
       "      <th>0</th>\n",
       "      <td>Algeria</td>\n",
       "      <td>consumption</td>\n",
       "      <td>2,080</td>\n",
       "      <td>2,124</td>\n",
       "      <td>1,936</td>\n",
       "      <td>1,889</td>\n",
       "      <td>1,682</td>\n",
       "      <td>1,897</td>\n",
       "    </tr>\n",
       "    <tr>\n",
       "      <th>1</th>\n",
       "      <td>Algeria</td>\n",
       "      <td>ending</td>\n",
       "      <td>420</td>\n",
       "      <td>430</td>\n",
       "      <td>387</td>\n",
       "      <td>377</td>\n",
       "      <td>336</td>\n",
       "      <td>375</td>\n",
       "    </tr>\n",
       "    <tr>\n",
       "      <th>2</th>\n",
       "      <td>Algeria</td>\n",
       "      <td>export</td>\n",
       "      <td>208</td>\n",
       "      <td>334</td>\n",
       "      <td>364</td>\n",
       "      <td>366</td>\n",
       "      <td>360</td>\n",
       "      <td>365</td>\n",
       "    </tr>\n",
       "    <tr>\n",
       "      <th>3</th>\n",
       "      <td>Algeria</td>\n",
       "      <td>import</td>\n",
       "      <td>2,328</td>\n",
       "      <td>2,468</td>\n",
       "      <td>2,257</td>\n",
       "      <td>2,245</td>\n",
       "      <td>2,001</td>\n",
       "      <td>2,301</td>\n",
       "    </tr>\n",
       "    <tr>\n",
       "      <th>4</th>\n",
       "      <td>Argentina</td>\n",
       "      <td>production</td>\n",
       "      <td>1,570</td>\n",
       "      <td>1,750</td>\n",
       "      <td>1,830</td>\n",
       "      <td>1,700</td>\n",
       "      <td>1,670</td>\n",
       "      <td>1,690</td>\n",
       "    </tr>\n",
       "  </tbody>\n",
       "</table>\n",
       "</div>"
      ],
      "text/plain": [
       "        Name       Action 2018/19 2019/20 2020/21 2021/22 2022/23 May2023/24\n",
       "0    Algeria  consumption   2,080   2,124   1,936   1,889   1,682      1,897\n",
       "1    Algeria       ending     420     430     387     377     336        375\n",
       "2    Algeria       export     208     334     364     366     360        365\n",
       "3    Algeria       import   2,328   2,468   2,257   2,245   2,001      2,301\n",
       "4  Argentina   production   1,570   1,750   1,830   1,700   1,670      1,690"
      ]
     },
     "execution_count": 10,
     "metadata": {},
     "output_type": "execute_result"
    }
   ],
   "source": [
    "import pandas as pd\n",
    "import numpy as np\n",
    "import matplotlib.pyplot as plt\n",
    "from matplotlib import cm\n",
    "import seaborn as sns\n",
    "import itertools\n",
    "from IPython.display import Image\n",
    "\n",
    "\n",
    "\n",
    "data = pd.read_csv(\"combined_df.csv\", \n",
    "                  encoding='latin-1', delimiter=',')\n",
    "data.head()"
   ]
  },
  {
   "cell_type": "code",
   "execution_count": 11,
   "metadata": {},
   "outputs": [
    {
     "data": {
      "text/plain": [
       "(135, 8)"
      ]
     },
     "execution_count": 11,
     "metadata": {},
     "output_type": "execute_result"
    }
   ],
   "source": [
    "data.shape"
   ]
  },
  {
   "cell_type": "code",
   "execution_count": 12,
   "metadata": {},
   "outputs": [
    {
     "data": {
      "text/plain": [
       "Index(['Name', 'Action', '2018/19', '2019/20', '2020/21', '2021/22', '2022/23',\n",
       "       'May2023/24'],\n",
       "      dtype='object')"
      ]
     },
     "execution_count": 12,
     "metadata": {},
     "output_type": "execute_result"
    }
   ],
   "source": [
    "data.columns"
   ]
  },
  {
   "cell_type": "code",
   "execution_count": 13,
   "metadata": {},
   "outputs": [
    {
     "name": "stdout",
     "output_type": "stream",
     "text": [
      "<class 'pandas.core.frame.DataFrame'>\n",
      "RangeIndex: 135 entries, 0 to 134\n",
      "Data columns (total 8 columns):\n",
      " #   Column      Non-Null Count  Dtype \n",
      "---  ------      --------------  ----- \n",
      " 0   Name        135 non-null    object\n",
      " 1   Action      135 non-null    object\n",
      " 2   2018/19     135 non-null    object\n",
      " 3   2019/20     135 non-null    object\n",
      " 4   2020/21     135 non-null    object\n",
      " 5   2021/22     135 non-null    object\n",
      " 6   2022/23     135 non-null    object\n",
      " 7   May2023/24  135 non-null    object\n",
      "dtypes: object(8)\n",
      "memory usage: 8.6+ KB\n"
     ]
    }
   ],
   "source": [
    "data.info()"
   ]
  },
  {
   "cell_type": "markdown",
   "metadata": {},
   "source": [
    "Convertim tots els valors numèrics amb Dtype 'object' a 'float' per poder operar. "
   ]
  },
  {
   "cell_type": "code",
   "execution_count": 14,
   "metadata": {},
   "outputs": [
    {
     "name": "stdout",
     "output_type": "stream",
     "text": [
      "<class 'pandas.core.frame.DataFrame'>\n",
      "RangeIndex: 135 entries, 0 to 134\n",
      "Data columns (total 8 columns):\n",
      " #   Column      Non-Null Count  Dtype  \n",
      "---  ------      --------------  -----  \n",
      " 0   Name        135 non-null    object \n",
      " 1   Action      135 non-null    object \n",
      " 2   2018/19     135 non-null    float64\n",
      " 3   2019/20     135 non-null    float64\n",
      " 4   2020/21     135 non-null    float64\n",
      " 5   2021/22     135 non-null    float64\n",
      " 6   2022/23     135 non-null    float64\n",
      " 7   May2023/24  135 non-null    float64\n",
      "dtypes: float64(6), object(2)\n",
      "memory usage: 8.6+ KB\n"
     ]
    }
   ],
   "source": [
    "for columna in data.columns[2:]:\n",
    "    data[columna] = data[columna].str.replace(',', '').astype(float)\n",
    "\n",
    "data.info()"
   ]
  },
  {
   "cell_type": "markdown",
   "metadata": {},
   "source": [
    "Afegim el codi ISO de cada país"
   ]
  },
  {
   "cell_type": "code",
   "execution_count": 15,
   "metadata": {},
   "outputs": [
    {
     "data": {
      "text/html": [
       "<div>\n",
       "<style scoped>\n",
       "    .dataframe tbody tr th:only-of-type {\n",
       "        vertical-align: middle;\n",
       "    }\n",
       "\n",
       "    .dataframe tbody tr th {\n",
       "        vertical-align: top;\n",
       "    }\n",
       "\n",
       "    .dataframe thead th {\n",
       "        text-align: right;\n",
       "    }\n",
       "</style>\n",
       "<table border=\"1\" class=\"dataframe\">\n",
       "  <thead>\n",
       "    <tr style=\"text-align: right;\">\n",
       "      <th></th>\n",
       "      <th>Name</th>\n",
       "      <th>Action</th>\n",
       "      <th>2018/19</th>\n",
       "      <th>2019/20</th>\n",
       "      <th>2020/21</th>\n",
       "      <th>2021/22</th>\n",
       "      <th>2022/23</th>\n",
       "      <th>May2023/24</th>\n",
       "      <th>country_iso</th>\n",
       "    </tr>\n",
       "  </thead>\n",
       "  <tbody>\n",
       "    <tr>\n",
       "      <th>0</th>\n",
       "      <td>Algeria</td>\n",
       "      <td>consumption</td>\n",
       "      <td>2080.0</td>\n",
       "      <td>2124.0</td>\n",
       "      <td>1936.0</td>\n",
       "      <td>1889.0</td>\n",
       "      <td>1682.0</td>\n",
       "      <td>1897.0</td>\n",
       "      <td>DZA</td>\n",
       "    </tr>\n",
       "    <tr>\n",
       "      <th>1</th>\n",
       "      <td>Algeria</td>\n",
       "      <td>ending</td>\n",
       "      <td>420.0</td>\n",
       "      <td>430.0</td>\n",
       "      <td>387.0</td>\n",
       "      <td>377.0</td>\n",
       "      <td>336.0</td>\n",
       "      <td>375.0</td>\n",
       "      <td>DZA</td>\n",
       "    </tr>\n",
       "    <tr>\n",
       "      <th>2</th>\n",
       "      <td>Algeria</td>\n",
       "      <td>export</td>\n",
       "      <td>208.0</td>\n",
       "      <td>334.0</td>\n",
       "      <td>364.0</td>\n",
       "      <td>366.0</td>\n",
       "      <td>360.0</td>\n",
       "      <td>365.0</td>\n",
       "      <td>DZA</td>\n",
       "    </tr>\n",
       "    <tr>\n",
       "      <th>3</th>\n",
       "      <td>Algeria</td>\n",
       "      <td>import</td>\n",
       "      <td>2328.0</td>\n",
       "      <td>2468.0</td>\n",
       "      <td>2257.0</td>\n",
       "      <td>2245.0</td>\n",
       "      <td>2001.0</td>\n",
       "      <td>2301.0</td>\n",
       "      <td>DZA</td>\n",
       "    </tr>\n",
       "    <tr>\n",
       "      <th>4</th>\n",
       "      <td>Argentina</td>\n",
       "      <td>production</td>\n",
       "      <td>1570.0</td>\n",
       "      <td>1750.0</td>\n",
       "      <td>1830.0</td>\n",
       "      <td>1700.0</td>\n",
       "      <td>1670.0</td>\n",
       "      <td>1690.0</td>\n",
       "      <td>ARG</td>\n",
       "    </tr>\n",
       "    <tr>\n",
       "      <th>5</th>\n",
       "      <td>Australia</td>\n",
       "      <td>export</td>\n",
       "      <td>3735.0</td>\n",
       "      <td>3600.0</td>\n",
       "      <td>3400.0</td>\n",
       "      <td>3120.0</td>\n",
       "      <td>3270.0</td>\n",
       "      <td>3600.0</td>\n",
       "      <td>AUS</td>\n",
       "    </tr>\n",
       "    <tr>\n",
       "      <th>6</th>\n",
       "      <td>Australia</td>\n",
       "      <td>production</td>\n",
       "      <td>4725.0</td>\n",
       "      <td>4285.0</td>\n",
       "      <td>4335.0</td>\n",
       "      <td>4120.0</td>\n",
       "      <td>4200.0</td>\n",
       "      <td>4400.0</td>\n",
       "      <td>AUS</td>\n",
       "    </tr>\n",
       "    <tr>\n",
       "      <th>7</th>\n",
       "      <td>Bangladesh</td>\n",
       "      <td>consumption</td>\n",
       "      <td>2519.0</td>\n",
       "      <td>2480.0</td>\n",
       "      <td>2416.0</td>\n",
       "      <td>2769.0</td>\n",
       "      <td>2428.0</td>\n",
       "      <td>2680.0</td>\n",
       "      <td>BGD</td>\n",
       "    </tr>\n",
       "    <tr>\n",
       "      <th>8</th>\n",
       "      <td>Bangladesh</td>\n",
       "      <td>ending</td>\n",
       "      <td>510.0</td>\n",
       "      <td>495.0</td>\n",
       "      <td>485.0</td>\n",
       "      <td>553.0</td>\n",
       "      <td>485.0</td>\n",
       "      <td>540.0</td>\n",
       "      <td>BGD</td>\n",
       "    </tr>\n",
       "    <tr>\n",
       "      <th>9</th>\n",
       "      <td>Bangladesh</td>\n",
       "      <td>import</td>\n",
       "      <td>2429.0</td>\n",
       "      <td>2397.0</td>\n",
       "      <td>2351.0</td>\n",
       "      <td>2807.0</td>\n",
       "      <td>2330.0</td>\n",
       "      <td>2700.0</td>\n",
       "      <td>BGD</td>\n",
       "    </tr>\n",
       "    <tr>\n",
       "      <th>10</th>\n",
       "      <td>Brazil</td>\n",
       "      <td>consumption</td>\n",
       "      <td>10600.0</td>\n",
       "      <td>10650.0</td>\n",
       "      <td>10150.0</td>\n",
       "      <td>9500.0</td>\n",
       "      <td>9500.0</td>\n",
       "      <td>9542.0</td>\n",
       "      <td>BRA</td>\n",
       "    </tr>\n",
       "    <tr>\n",
       "      <th>11</th>\n",
       "      <td>Brazil</td>\n",
       "      <td>ending</td>\n",
       "      <td>220.0</td>\n",
       "      <td>590.0</td>\n",
       "      <td>340.0</td>\n",
       "      <td>340.0</td>\n",
       "      <td>690.0</td>\n",
       "      <td>760.0</td>\n",
       "      <td>BRA</td>\n",
       "    </tr>\n",
       "    <tr>\n",
       "      <th>12</th>\n",
       "      <td>Brazil</td>\n",
       "      <td>export</td>\n",
       "      <td>19600.0</td>\n",
       "      <td>19280.0</td>\n",
       "      <td>32150.0</td>\n",
       "      <td>25950.0</td>\n",
       "      <td>28200.0</td>\n",
       "      <td>32398.0</td>\n",
       "      <td>BRA</td>\n",
       "    </tr>\n",
       "    <tr>\n",
       "      <th>13</th>\n",
       "      <td>Brazil</td>\n",
       "      <td>production</td>\n",
       "      <td>29500.0</td>\n",
       "      <td>30300.0</td>\n",
       "      <td>42050.0</td>\n",
       "      <td>35450.0</td>\n",
       "      <td>38050.0</td>\n",
       "      <td>42010.0</td>\n",
       "      <td>BRA</td>\n",
       "    </tr>\n",
       "    <tr>\n",
       "      <th>14</th>\n",
       "      <td>Canada</td>\n",
       "      <td>ending</td>\n",
       "      <td>265.0</td>\n",
       "      <td>250.0</td>\n",
       "      <td>280.0</td>\n",
       "      <td>272.0</td>\n",
       "      <td>295.0</td>\n",
       "      <td>315.0</td>\n",
       "      <td>CAN</td>\n",
       "    </tr>\n",
       "    <tr>\n",
       "      <th>15</th>\n",
       "      <td>Canada</td>\n",
       "      <td>import</td>\n",
       "      <td>1268.0</td>\n",
       "      <td>1245.0</td>\n",
       "      <td>1389.0</td>\n",
       "      <td>1319.0</td>\n",
       "      <td>1465.0</td>\n",
       "      <td>1540.0</td>\n",
       "      <td>CAN</td>\n",
       "    </tr>\n",
       "    <tr>\n",
       "      <th>16</th>\n",
       "      <td>Chile</td>\n",
       "      <td>import</td>\n",
       "      <td>449.0</td>\n",
       "      <td>648.0</td>\n",
       "      <td>532.0</td>\n",
       "      <td>654.0</td>\n",
       "      <td>640.0</td>\n",
       "      <td>640.0</td>\n",
       "      <td>CHL</td>\n",
       "    </tr>\n",
       "    <tr>\n",
       "      <th>17</th>\n",
       "      <td>China</td>\n",
       "      <td>consumption</td>\n",
       "      <td>15800.0</td>\n",
       "      <td>15400.0</td>\n",
       "      <td>15500.0</td>\n",
       "      <td>14800.0</td>\n",
       "      <td>15500.0</td>\n",
       "      <td>15600.0</td>\n",
       "      <td>CHN</td>\n",
       "    </tr>\n",
       "    <tr>\n",
       "      <th>18</th>\n",
       "      <td>China</td>\n",
       "      <td>ending</td>\n",
       "      <td>5408.0</td>\n",
       "      <td>4027.0</td>\n",
       "      <td>5374.0</td>\n",
       "      <td>5014.0</td>\n",
       "      <td>2712.0</td>\n",
       "      <td>1862.0</td>\n",
       "      <td>CHN</td>\n",
       "    </tr>\n",
       "    <tr>\n",
       "      <th>19</th>\n",
       "      <td>China</td>\n",
       "      <td>export</td>\n",
       "      <td>205.0</td>\n",
       "      <td>189.0</td>\n",
       "      <td>132.0</td>\n",
       "      <td>160.0</td>\n",
       "      <td>202.0</td>\n",
       "      <td>250.0</td>\n",
       "      <td>CHN</td>\n",
       "    </tr>\n",
       "  </tbody>\n",
       "</table>\n",
       "</div>"
      ],
      "text/plain": [
       "          Name       Action  2018/19  2019/20  2020/21  2021/22  2022/23  \\\n",
       "0      Algeria  consumption   2080.0   2124.0   1936.0   1889.0   1682.0   \n",
       "1      Algeria       ending    420.0    430.0    387.0    377.0    336.0   \n",
       "2      Algeria       export    208.0    334.0    364.0    366.0    360.0   \n",
       "3      Algeria       import   2328.0   2468.0   2257.0   2245.0   2001.0   \n",
       "4    Argentina   production   1570.0   1750.0   1830.0   1700.0   1670.0   \n",
       "5    Australia       export   3735.0   3600.0   3400.0   3120.0   3270.0   \n",
       "6    Australia   production   4725.0   4285.0   4335.0   4120.0   4200.0   \n",
       "7   Bangladesh  consumption   2519.0   2480.0   2416.0   2769.0   2428.0   \n",
       "8   Bangladesh       ending    510.0    495.0    485.0    553.0    485.0   \n",
       "9   Bangladesh       import   2429.0   2397.0   2351.0   2807.0   2330.0   \n",
       "10      Brazil  consumption  10600.0  10650.0  10150.0   9500.0   9500.0   \n",
       "11      Brazil       ending    220.0    590.0    340.0    340.0    690.0   \n",
       "12      Brazil       export  19600.0  19280.0  32150.0  25950.0  28200.0   \n",
       "13      Brazil   production  29500.0  30300.0  42050.0  35450.0  38050.0   \n",
       "14      Canada       ending    265.0    250.0    280.0    272.0    295.0   \n",
       "15      Canada       import   1268.0   1245.0   1389.0   1319.0   1465.0   \n",
       "16       Chile       import    449.0    648.0    532.0    654.0    640.0   \n",
       "17       China  consumption  15800.0  15400.0  15500.0  14800.0  15500.0   \n",
       "18       China       ending   5408.0   4027.0   5374.0   5014.0   2712.0   \n",
       "19       China       export    205.0    189.0    132.0    160.0    202.0   \n",
       "\n",
       "    May2023/24 country_iso  \n",
       "0       1897.0         DZA  \n",
       "1        375.0         DZA  \n",
       "2        365.0         DZA  \n",
       "3       2301.0         DZA  \n",
       "4       1690.0         ARG  \n",
       "5       3600.0         AUS  \n",
       "6       4400.0         AUS  \n",
       "7       2680.0         BGD  \n",
       "8        540.0         BGD  \n",
       "9       2700.0         BGD  \n",
       "10      9542.0         BRA  \n",
       "11       760.0         BRA  \n",
       "12     32398.0         BRA  \n",
       "13     42010.0         BRA  \n",
       "14       315.0         CAN  \n",
       "15      1540.0         CAN  \n",
       "16       640.0         CHL  \n",
       "17     15600.0         CHN  \n",
       "18      1862.0         CHN  \n",
       "19       250.0         CHN  "
      ]
     },
     "execution_count": 15,
     "metadata": {},
     "output_type": "execute_result"
    }
   ],
   "source": [
    "import pycountry\n",
    "\n",
    "## ---- Countries ISO codes \n",
    "def get_country_iso(name):\n",
    "    try:\n",
    "        country = pycountry.countries.search_fuzzy(name)[0]\n",
    "        return country.alpha_3\n",
    "    except LookupError:\n",
    "        return None\n",
    "\n",
    "data['country_iso'] = data['Name'].apply(get_country_iso)\n",
    "\n",
    "data.head(20)"
   ]
  },
  {
   "cell_type": "markdown",
   "metadata": {},
   "source": [
    "Filtrem les dades segons 'Action' per poder representar-les per separat"
   ]
  },
  {
   "cell_type": "code",
   "execution_count": 16,
   "metadata": {},
   "outputs": [],
   "source": [
    "con = data[data['Action'] == 'consumption']\n",
    "con = con.dropna()\n",
    "end = data[data['Action'] == 'ending']\n",
    "end = end.dropna()\n",
    "exp = data[data['Action'] == 'export']\n",
    "exp = exp.dropna()\n",
    "imp = data[data['Action'] == 'import']\n",
    "imp = imp.dropna()\n",
    "prod = data[data['Action'] == 'production']"
   ]
  },
  {
   "cell_type": "markdown",
   "metadata": {},
   "source": [
    "Mapes globals"
   ]
  },
  {
   "cell_type": "code",
   "execution_count": 29,
   "metadata": {},
   "outputs": [
    {
     "data": {
      "application/vnd.plotly.v1+json": {
       "config": {
        "plotlyServerURL": "https://plot.ly"
       },
       "data": [
        {
         "coloraxis": "coloraxis",
         "geo": "geo",
         "hovertemplate": "<b>%{hovertext}</b><br><br>Name=%{location}<br>2018/19=%{z}<extra></extra>",
         "hovertext": [
          "Algeria",
          "Bangladesh",
          "Brazil",
          "China",
          "Colombia",
          "Egypt",
          "Ethiopia",
          "India",
          "Indonesia",
          "Iran",
          "Japan",
          "Malaysia",
          "Mexico",
          "Nigeria",
          "Other",
          "Pakistan",
          "Philippines",
          "Russia",
          "Sudan",
          "Thailand",
          "Turkey",
          "Vietnam"
         ],
         "locationmode": "country names",
         "locations": [
          "Algeria",
          "Bangladesh",
          "Brazil",
          "China",
          "Colombia",
          "Egypt",
          "Ethiopia",
          "India",
          "Indonesia",
          "Iran",
          "Japan",
          "Malaysia",
          "Mexico",
          "Nigeria",
          "Other",
          "Pakistan",
          "Philippines",
          "Russia",
          "Sudan",
          "Thailand",
          "Turkey",
          "Vietnam"
         ],
         "name": "",
         "type": "choropleth",
         "z": [
          2080,
          2519,
          10600,
          15800,
          1858,
          3100,
          832,
          27500,
          7055,
          2450,
          1980,
          1991,
          4317,
          1610,
          34584,
          5400,
          2300,
          6110,
          1627,
          2480,
          2784,
          1597
         ]
        }
       ],
       "layout": {
        "coloraxis": {
         "colorbar": {
          "title": {
           "text": "2018/19"
          }
         },
         "colorscale": [
          [
           0,
           "#440154"
          ],
          [
           0.1111111111111111,
           "#482878"
          ],
          [
           0.2222222222222222,
           "#3e4989"
          ],
          [
           0.3333333333333333,
           "#31688e"
          ],
          [
           0.4444444444444444,
           "#26828e"
          ],
          [
           0.5555555555555556,
           "#1f9e89"
          ],
          [
           0.6666666666666666,
           "#35b779"
          ],
          [
           0.7777777777777778,
           "#6ece58"
          ],
          [
           0.8888888888888888,
           "#b5de2b"
          ],
          [
           1,
           "#fde725"
          ]
         ]
        },
        "geo": {
         "center": {},
         "coastlinecolor": "Black",
         "domain": {
          "x": [
           0,
           1
          ],
          "y": [
           0,
           1
          ]
         },
         "landcolor": "white",
         "projection": {
          "type": "natural earth"
         },
         "showcoastlines": true,
         "showland": true
        },
        "legend": {
         "tracegroupgap": 0
        },
        "sliders": [
         {
          "active": 0,
          "steps": [
           {
            "args": [
             {
              "visible": [
               true,
               false,
               false,
               false,
               false
              ]
             },
             {
              "title": "Global Sugar Consumption by Country (2018/19)"
             }
            ],
            "label": "2018/19",
            "method": "update"
           },
           {
            "args": [
             {
              "visible": [
               true,
               true,
               false,
               false,
               false
              ]
             },
             {
              "title": "Global Sugar Consumption by Country (2019/20)"
             }
            ],
            "label": "2019/20",
            "method": "update"
           },
           {
            "args": [
             {
              "visible": [
               true,
               false,
               true,
               false,
               false
              ]
             },
             {
              "title": "Global Sugar Consumption by Country (2020/21)"
             }
            ],
            "label": "2020/21",
            "method": "update"
           },
           {
            "args": [
             {
              "visible": [
               true,
               false,
               false,
               true,
               false
              ]
             },
             {
              "title": "Global Sugar Consumption by Country (2021/22)"
             }
            ],
            "label": "2021/22",
            "method": "update"
           },
           {
            "args": [
             {
              "visible": [
               true,
               false,
               false,
               false,
               true
              ]
             },
             {
              "title": "Global Sugar Consumption by Country (2022/23)"
             }
            ],
            "label": "2022/23",
            "method": "update"
           }
          ]
         }
        ],
        "template": {
         "data": {
          "bar": [
           {
            "error_x": {
             "color": "#2a3f5f"
            },
            "error_y": {
             "color": "#2a3f5f"
            },
            "marker": {
             "line": {
              "color": "#E5ECF6",
              "width": 0.5
             },
             "pattern": {
              "fillmode": "overlay",
              "size": 10,
              "solidity": 0.2
             }
            },
            "type": "bar"
           }
          ],
          "barpolar": [
           {
            "marker": {
             "line": {
              "color": "#E5ECF6",
              "width": 0.5
             },
             "pattern": {
              "fillmode": "overlay",
              "size": 10,
              "solidity": 0.2
             }
            },
            "type": "barpolar"
           }
          ],
          "carpet": [
           {
            "aaxis": {
             "endlinecolor": "#2a3f5f",
             "gridcolor": "white",
             "linecolor": "white",
             "minorgridcolor": "white",
             "startlinecolor": "#2a3f5f"
            },
            "baxis": {
             "endlinecolor": "#2a3f5f",
             "gridcolor": "white",
             "linecolor": "white",
             "minorgridcolor": "white",
             "startlinecolor": "#2a3f5f"
            },
            "type": "carpet"
           }
          ],
          "choropleth": [
           {
            "colorbar": {
             "outlinewidth": 0,
             "ticks": ""
            },
            "type": "choropleth"
           }
          ],
          "contour": [
           {
            "colorbar": {
             "outlinewidth": 0,
             "ticks": ""
            },
            "colorscale": [
             [
              0,
              "#0d0887"
             ],
             [
              0.1111111111111111,
              "#46039f"
             ],
             [
              0.2222222222222222,
              "#7201a8"
             ],
             [
              0.3333333333333333,
              "#9c179e"
             ],
             [
              0.4444444444444444,
              "#bd3786"
             ],
             [
              0.5555555555555556,
              "#d8576b"
             ],
             [
              0.6666666666666666,
              "#ed7953"
             ],
             [
              0.7777777777777778,
              "#fb9f3a"
             ],
             [
              0.8888888888888888,
              "#fdca26"
             ],
             [
              1,
              "#f0f921"
             ]
            ],
            "type": "contour"
           }
          ],
          "contourcarpet": [
           {
            "colorbar": {
             "outlinewidth": 0,
             "ticks": ""
            },
            "type": "contourcarpet"
           }
          ],
          "heatmap": [
           {
            "colorbar": {
             "outlinewidth": 0,
             "ticks": ""
            },
            "colorscale": [
             [
              0,
              "#0d0887"
             ],
             [
              0.1111111111111111,
              "#46039f"
             ],
             [
              0.2222222222222222,
              "#7201a8"
             ],
             [
              0.3333333333333333,
              "#9c179e"
             ],
             [
              0.4444444444444444,
              "#bd3786"
             ],
             [
              0.5555555555555556,
              "#d8576b"
             ],
             [
              0.6666666666666666,
              "#ed7953"
             ],
             [
              0.7777777777777778,
              "#fb9f3a"
             ],
             [
              0.8888888888888888,
              "#fdca26"
             ],
             [
              1,
              "#f0f921"
             ]
            ],
            "type": "heatmap"
           }
          ],
          "heatmapgl": [
           {
            "colorbar": {
             "outlinewidth": 0,
             "ticks": ""
            },
            "colorscale": [
             [
              0,
              "#0d0887"
             ],
             [
              0.1111111111111111,
              "#46039f"
             ],
             [
              0.2222222222222222,
              "#7201a8"
             ],
             [
              0.3333333333333333,
              "#9c179e"
             ],
             [
              0.4444444444444444,
              "#bd3786"
             ],
             [
              0.5555555555555556,
              "#d8576b"
             ],
             [
              0.6666666666666666,
              "#ed7953"
             ],
             [
              0.7777777777777778,
              "#fb9f3a"
             ],
             [
              0.8888888888888888,
              "#fdca26"
             ],
             [
              1,
              "#f0f921"
             ]
            ],
            "type": "heatmapgl"
           }
          ],
          "histogram": [
           {
            "marker": {
             "pattern": {
              "fillmode": "overlay",
              "size": 10,
              "solidity": 0.2
             }
            },
            "type": "histogram"
           }
          ],
          "histogram2d": [
           {
            "colorbar": {
             "outlinewidth": 0,
             "ticks": ""
            },
            "colorscale": [
             [
              0,
              "#0d0887"
             ],
             [
              0.1111111111111111,
              "#46039f"
             ],
             [
              0.2222222222222222,
              "#7201a8"
             ],
             [
              0.3333333333333333,
              "#9c179e"
             ],
             [
              0.4444444444444444,
              "#bd3786"
             ],
             [
              0.5555555555555556,
              "#d8576b"
             ],
             [
              0.6666666666666666,
              "#ed7953"
             ],
             [
              0.7777777777777778,
              "#fb9f3a"
             ],
             [
              0.8888888888888888,
              "#fdca26"
             ],
             [
              1,
              "#f0f921"
             ]
            ],
            "type": "histogram2d"
           }
          ],
          "histogram2dcontour": [
           {
            "colorbar": {
             "outlinewidth": 0,
             "ticks": ""
            },
            "colorscale": [
             [
              0,
              "#0d0887"
             ],
             [
              0.1111111111111111,
              "#46039f"
             ],
             [
              0.2222222222222222,
              "#7201a8"
             ],
             [
              0.3333333333333333,
              "#9c179e"
             ],
             [
              0.4444444444444444,
              "#bd3786"
             ],
             [
              0.5555555555555556,
              "#d8576b"
             ],
             [
              0.6666666666666666,
              "#ed7953"
             ],
             [
              0.7777777777777778,
              "#fb9f3a"
             ],
             [
              0.8888888888888888,
              "#fdca26"
             ],
             [
              1,
              "#f0f921"
             ]
            ],
            "type": "histogram2dcontour"
           }
          ],
          "mesh3d": [
           {
            "colorbar": {
             "outlinewidth": 0,
             "ticks": ""
            },
            "type": "mesh3d"
           }
          ],
          "parcoords": [
           {
            "line": {
             "colorbar": {
              "outlinewidth": 0,
              "ticks": ""
             }
            },
            "type": "parcoords"
           }
          ],
          "pie": [
           {
            "automargin": true,
            "type": "pie"
           }
          ],
          "scatter": [
           {
            "fillpattern": {
             "fillmode": "overlay",
             "size": 10,
             "solidity": 0.2
            },
            "type": "scatter"
           }
          ],
          "scatter3d": [
           {
            "line": {
             "colorbar": {
              "outlinewidth": 0,
              "ticks": ""
             }
            },
            "marker": {
             "colorbar": {
              "outlinewidth": 0,
              "ticks": ""
             }
            },
            "type": "scatter3d"
           }
          ],
          "scattercarpet": [
           {
            "marker": {
             "colorbar": {
              "outlinewidth": 0,
              "ticks": ""
             }
            },
            "type": "scattercarpet"
           }
          ],
          "scattergeo": [
           {
            "marker": {
             "colorbar": {
              "outlinewidth": 0,
              "ticks": ""
             }
            },
            "type": "scattergeo"
           }
          ],
          "scattergl": [
           {
            "marker": {
             "colorbar": {
              "outlinewidth": 0,
              "ticks": ""
             }
            },
            "type": "scattergl"
           }
          ],
          "scattermapbox": [
           {
            "marker": {
             "colorbar": {
              "outlinewidth": 0,
              "ticks": ""
             }
            },
            "type": "scattermapbox"
           }
          ],
          "scatterpolar": [
           {
            "marker": {
             "colorbar": {
              "outlinewidth": 0,
              "ticks": ""
             }
            },
            "type": "scatterpolar"
           }
          ],
          "scatterpolargl": [
           {
            "marker": {
             "colorbar": {
              "outlinewidth": 0,
              "ticks": ""
             }
            },
            "type": "scatterpolargl"
           }
          ],
          "scatterternary": [
           {
            "marker": {
             "colorbar": {
              "outlinewidth": 0,
              "ticks": ""
             }
            },
            "type": "scatterternary"
           }
          ],
          "surface": [
           {
            "colorbar": {
             "outlinewidth": 0,
             "ticks": ""
            },
            "colorscale": [
             [
              0,
              "#0d0887"
             ],
             [
              0.1111111111111111,
              "#46039f"
             ],
             [
              0.2222222222222222,
              "#7201a8"
             ],
             [
              0.3333333333333333,
              "#9c179e"
             ],
             [
              0.4444444444444444,
              "#bd3786"
             ],
             [
              0.5555555555555556,
              "#d8576b"
             ],
             [
              0.6666666666666666,
              "#ed7953"
             ],
             [
              0.7777777777777778,
              "#fb9f3a"
             ],
             [
              0.8888888888888888,
              "#fdca26"
             ],
             [
              1,
              "#f0f921"
             ]
            ],
            "type": "surface"
           }
          ],
          "table": [
           {
            "cells": {
             "fill": {
              "color": "#EBF0F8"
             },
             "line": {
              "color": "white"
             }
            },
            "header": {
             "fill": {
              "color": "#C8D4E3"
             },
             "line": {
              "color": "white"
             }
            },
            "type": "table"
           }
          ]
         },
         "layout": {
          "annotationdefaults": {
           "arrowcolor": "#2a3f5f",
           "arrowhead": 0,
           "arrowwidth": 1
          },
          "autotypenumbers": "strict",
          "coloraxis": {
           "colorbar": {
            "outlinewidth": 0,
            "ticks": ""
           }
          },
          "colorscale": {
           "diverging": [
            [
             0,
             "#8e0152"
            ],
            [
             0.1,
             "#c51b7d"
            ],
            [
             0.2,
             "#de77ae"
            ],
            [
             0.3,
             "#f1b6da"
            ],
            [
             0.4,
             "#fde0ef"
            ],
            [
             0.5,
             "#f7f7f7"
            ],
            [
             0.6,
             "#e6f5d0"
            ],
            [
             0.7,
             "#b8e186"
            ],
            [
             0.8,
             "#7fbc41"
            ],
            [
             0.9,
             "#4d9221"
            ],
            [
             1,
             "#276419"
            ]
           ],
           "sequential": [
            [
             0,
             "#0d0887"
            ],
            [
             0.1111111111111111,
             "#46039f"
            ],
            [
             0.2222222222222222,
             "#7201a8"
            ],
            [
             0.3333333333333333,
             "#9c179e"
            ],
            [
             0.4444444444444444,
             "#bd3786"
            ],
            [
             0.5555555555555556,
             "#d8576b"
            ],
            [
             0.6666666666666666,
             "#ed7953"
            ],
            [
             0.7777777777777778,
             "#fb9f3a"
            ],
            [
             0.8888888888888888,
             "#fdca26"
            ],
            [
             1,
             "#f0f921"
            ]
           ],
           "sequentialminus": [
            [
             0,
             "#0d0887"
            ],
            [
             0.1111111111111111,
             "#46039f"
            ],
            [
             0.2222222222222222,
             "#7201a8"
            ],
            [
             0.3333333333333333,
             "#9c179e"
            ],
            [
             0.4444444444444444,
             "#bd3786"
            ],
            [
             0.5555555555555556,
             "#d8576b"
            ],
            [
             0.6666666666666666,
             "#ed7953"
            ],
            [
             0.7777777777777778,
             "#fb9f3a"
            ],
            [
             0.8888888888888888,
             "#fdca26"
            ],
            [
             1,
             "#f0f921"
            ]
           ]
          },
          "colorway": [
           "#636efa",
           "#EF553B",
           "#00cc96",
           "#ab63fa",
           "#FFA15A",
           "#19d3f3",
           "#FF6692",
           "#B6E880",
           "#FF97FF",
           "#FECB52"
          ],
          "font": {
           "color": "#2a3f5f"
          },
          "geo": {
           "bgcolor": "white",
           "lakecolor": "white",
           "landcolor": "#E5ECF6",
           "showlakes": true,
           "showland": true,
           "subunitcolor": "white"
          },
          "hoverlabel": {
           "align": "left"
          },
          "hovermode": "closest",
          "mapbox": {
           "style": "light"
          },
          "paper_bgcolor": "white",
          "plot_bgcolor": "#E5ECF6",
          "polar": {
           "angularaxis": {
            "gridcolor": "white",
            "linecolor": "white",
            "ticks": ""
           },
           "bgcolor": "#E5ECF6",
           "radialaxis": {
            "gridcolor": "white",
            "linecolor": "white",
            "ticks": ""
           }
          },
          "scene": {
           "xaxis": {
            "backgroundcolor": "#E5ECF6",
            "gridcolor": "white",
            "gridwidth": 2,
            "linecolor": "white",
            "showbackground": true,
            "ticks": "",
            "zerolinecolor": "white"
           },
           "yaxis": {
            "backgroundcolor": "#E5ECF6",
            "gridcolor": "white",
            "gridwidth": 2,
            "linecolor": "white",
            "showbackground": true,
            "ticks": "",
            "zerolinecolor": "white"
           },
           "zaxis": {
            "backgroundcolor": "#E5ECF6",
            "gridcolor": "white",
            "gridwidth": 2,
            "linecolor": "white",
            "showbackground": true,
            "ticks": "",
            "zerolinecolor": "white"
           }
          },
          "shapedefaults": {
           "line": {
            "color": "#2a3f5f"
           }
          },
          "ternary": {
           "aaxis": {
            "gridcolor": "white",
            "linecolor": "white",
            "ticks": ""
           },
           "baxis": {
            "gridcolor": "white",
            "linecolor": "white",
            "ticks": ""
           },
           "bgcolor": "#E5ECF6",
           "caxis": {
            "gridcolor": "white",
            "linecolor": "white",
            "ticks": ""
           }
          },
          "title": {
           "x": 0.05
          },
          "xaxis": {
           "automargin": true,
           "gridcolor": "white",
           "linecolor": "white",
           "ticks": "",
           "title": {
            "standoff": 15
           },
           "zerolinecolor": "white",
           "zerolinewidth": 2
          },
          "yaxis": {
           "automargin": true,
           "gridcolor": "white",
           "linecolor": "white",
           "ticks": "",
           "title": {
            "standoff": 15
           },
           "zerolinecolor": "white",
           "zerolinewidth": 2
          }
         }
        },
        "title": {
         "text": "Global Sugar Consumption by Country (2018/19)"
        }
       }
      }
     },
     "metadata": {},
     "output_type": "display_data"
    }
   ],
   "source": [
    "import pandas as pd\n",
    "import plotly.express as px\n",
    "\n",
    "# Create a choropleth map with a slider\n",
    "def create_choropleth(con, year):\n",
    "    fig = px.choropleth(\n",
    "        con,\n",
    "        locations=\"Name\",\n",
    "        locationmode=\"country names\",\n",
    "        color=year,\n",
    "        hover_name=\"Name\",\n",
    "        title=f\"Global Sugar Consumption by Country ({year})\",\n",
    "        projection=\"natural earth\",\n",
    "        color_continuous_scale=\"Viridis\"\n",
    "    )\n",
    "\n",
    "    return fig\n",
    "\n",
    "# Initialize with the first year (2018/19)\n",
    "initial_year = con.columns[2]\n",
    "fig = create_choropleth(con, initial_year)\n",
    "\n",
    "# Add a slider for years\n",
    "year_columns = con.columns[2:7]\n",
    "visible_traces = [False] * len(year_columns)\n",
    "visible_traces[0] = True\n",
    "\n",
    "steps = []\n",
    "for i, year in enumerate(year_columns):\n",
    "    step = {\n",
    "        \"args\": [\n",
    "            {\"visible\": visible_traces[:i] + [True] + visible_traces[i+1:]},\n",
    "            {\"title\": f\"Global Sugar Consumption by Country ({year})\"}\n",
    "        ],\n",
    "        \"label\": year,\n",
    "        \"method\": \"update\",\n",
    "    }\n",
    "    steps.append(step)\n",
    "\n",
    "sliders = [dict(\n",
    "    active=0,\n",
    "    steps=steps\n",
    ")]\n",
    "\n",
    "# Update layout\n",
    "fig.update_layout(\n",
    "    sliders=sliders,\n",
    "    geo=dict(\n",
    "        showcoastlines=True,\n",
    "        coastlinecolor=\"Black\",\n",
    "        showland=True,\n",
    "        landcolor=\"white\"\n",
    "    )\n",
    ")\n",
    "\n",
    "# Show the map\n",
    "fig.show()\n"
   ]
  },
  {
   "cell_type": "code",
   "execution_count": 28,
   "metadata": {},
   "outputs": [
    {
     "data": {
      "application/vnd.plotly.v1+json": {
       "config": {
        "plotlyServerURL": "https://plot.ly"
       },
       "data": [
        {
         "coloraxis": "coloraxis",
         "geo": "geo",
         "hovertemplate": "<b>%{hovertext}</b><br><br>Name=%{location}<br>2018/19=%{z}<extra></extra>",
         "hovertext": [
          "Algeria",
          "Bangladesh",
          "Brazil",
          "Canada",
          "China",
          "Ecuador",
          "Ethiopia",
          "India",
          "Indonesia",
          "Iran",
          "Japan",
          "Malaysia",
          "Mexico",
          "Other",
          "Pakistan",
          "Philippines",
          "Russia",
          "Sudan",
          "Thailand",
          "Ukraine",
          "Vietnam",
          "Zimbabwe"
         ],
         "locationmode": "country names",
         "locations": [
          "Algeria",
          "Bangladesh",
          "Brazil",
          "Canada",
          "China",
          "Ecuador",
          "Ethiopia",
          "India",
          "Indonesia",
          "Iran",
          "Japan",
          "Malaysia",
          "Mexico",
          "Other",
          "Pakistan",
          "Philippines",
          "Russia",
          "Sudan",
          "Thailand",
          "Ukraine",
          "Vietnam",
          "Zimbabwe"
         ],
         "name": "",
         "type": "choropleth",
         "z": [
          420,
          510,
          220,
          265,
          5408,
          389,
          165,
          17614,
          2300,
          485,
          495,
          395,
          1239,
          6578,
          1920,
          1234,
          550,
          325,
          8330,
          58,
          320,
          36
         ]
        }
       ],
       "layout": {
        "coloraxis": {
         "colorbar": {
          "title": {
           "text": "2018/19"
          }
         },
         "colorscale": [
          [
           0,
           "#440154"
          ],
          [
           0.1111111111111111,
           "#482878"
          ],
          [
           0.2222222222222222,
           "#3e4989"
          ],
          [
           0.3333333333333333,
           "#31688e"
          ],
          [
           0.4444444444444444,
           "#26828e"
          ],
          [
           0.5555555555555556,
           "#1f9e89"
          ],
          [
           0.6666666666666666,
           "#35b779"
          ],
          [
           0.7777777777777778,
           "#6ece58"
          ],
          [
           0.8888888888888888,
           "#b5de2b"
          ],
          [
           1,
           "#fde725"
          ]
         ]
        },
        "geo": {
         "center": {},
         "coastlinecolor": "Black",
         "domain": {
          "x": [
           0,
           1
          ],
          "y": [
           0,
           1
          ]
         },
         "landcolor": "white",
         "projection": {
          "type": "natural earth"
         },
         "showcoastlines": true,
         "showland": true
        },
        "legend": {
         "tracegroupgap": 0
        },
        "sliders": [
         {
          "active": 0,
          "steps": [
           {
            "args": [
             {
              "visible": [
               true,
               false,
               false,
               false,
               false
              ]
             },
             {
              "title": "Global Sugar Ending by Country (2018/19)"
             }
            ],
            "label": "2018/19",
            "method": "update"
           },
           {
            "args": [
             {
              "visible": [
               true,
               true,
               false,
               false,
               false
              ]
             },
             {
              "title": "Global Sugar Ending by Country (2019/20)"
             }
            ],
            "label": "2019/20",
            "method": "update"
           },
           {
            "args": [
             {
              "visible": [
               true,
               false,
               true,
               false,
               false
              ]
             },
             {
              "title": "Global Sugar Ending by Country (2020/21)"
             }
            ],
            "label": "2020/21",
            "method": "update"
           },
           {
            "args": [
             {
              "visible": [
               true,
               false,
               false,
               true,
               false
              ]
             },
             {
              "title": "Global Sugar Ending by Country (2021/22)"
             }
            ],
            "label": "2021/22",
            "method": "update"
           },
           {
            "args": [
             {
              "visible": [
               true,
               false,
               false,
               false,
               true
              ]
             },
             {
              "title": "Global Sugar Ending by Country (2022/23)"
             }
            ],
            "label": "2022/23",
            "method": "update"
           }
          ]
         }
        ],
        "template": {
         "data": {
          "bar": [
           {
            "error_x": {
             "color": "#2a3f5f"
            },
            "error_y": {
             "color": "#2a3f5f"
            },
            "marker": {
             "line": {
              "color": "#E5ECF6",
              "width": 0.5
             },
             "pattern": {
              "fillmode": "overlay",
              "size": 10,
              "solidity": 0.2
             }
            },
            "type": "bar"
           }
          ],
          "barpolar": [
           {
            "marker": {
             "line": {
              "color": "#E5ECF6",
              "width": 0.5
             },
             "pattern": {
              "fillmode": "overlay",
              "size": 10,
              "solidity": 0.2
             }
            },
            "type": "barpolar"
           }
          ],
          "carpet": [
           {
            "aaxis": {
             "endlinecolor": "#2a3f5f",
             "gridcolor": "white",
             "linecolor": "white",
             "minorgridcolor": "white",
             "startlinecolor": "#2a3f5f"
            },
            "baxis": {
             "endlinecolor": "#2a3f5f",
             "gridcolor": "white",
             "linecolor": "white",
             "minorgridcolor": "white",
             "startlinecolor": "#2a3f5f"
            },
            "type": "carpet"
           }
          ],
          "choropleth": [
           {
            "colorbar": {
             "outlinewidth": 0,
             "ticks": ""
            },
            "type": "choropleth"
           }
          ],
          "contour": [
           {
            "colorbar": {
             "outlinewidth": 0,
             "ticks": ""
            },
            "colorscale": [
             [
              0,
              "#0d0887"
             ],
             [
              0.1111111111111111,
              "#46039f"
             ],
             [
              0.2222222222222222,
              "#7201a8"
             ],
             [
              0.3333333333333333,
              "#9c179e"
             ],
             [
              0.4444444444444444,
              "#bd3786"
             ],
             [
              0.5555555555555556,
              "#d8576b"
             ],
             [
              0.6666666666666666,
              "#ed7953"
             ],
             [
              0.7777777777777778,
              "#fb9f3a"
             ],
             [
              0.8888888888888888,
              "#fdca26"
             ],
             [
              1,
              "#f0f921"
             ]
            ],
            "type": "contour"
           }
          ],
          "contourcarpet": [
           {
            "colorbar": {
             "outlinewidth": 0,
             "ticks": ""
            },
            "type": "contourcarpet"
           }
          ],
          "heatmap": [
           {
            "colorbar": {
             "outlinewidth": 0,
             "ticks": ""
            },
            "colorscale": [
             [
              0,
              "#0d0887"
             ],
             [
              0.1111111111111111,
              "#46039f"
             ],
             [
              0.2222222222222222,
              "#7201a8"
             ],
             [
              0.3333333333333333,
              "#9c179e"
             ],
             [
              0.4444444444444444,
              "#bd3786"
             ],
             [
              0.5555555555555556,
              "#d8576b"
             ],
             [
              0.6666666666666666,
              "#ed7953"
             ],
             [
              0.7777777777777778,
              "#fb9f3a"
             ],
             [
              0.8888888888888888,
              "#fdca26"
             ],
             [
              1,
              "#f0f921"
             ]
            ],
            "type": "heatmap"
           }
          ],
          "heatmapgl": [
           {
            "colorbar": {
             "outlinewidth": 0,
             "ticks": ""
            },
            "colorscale": [
             [
              0,
              "#0d0887"
             ],
             [
              0.1111111111111111,
              "#46039f"
             ],
             [
              0.2222222222222222,
              "#7201a8"
             ],
             [
              0.3333333333333333,
              "#9c179e"
             ],
             [
              0.4444444444444444,
              "#bd3786"
             ],
             [
              0.5555555555555556,
              "#d8576b"
             ],
             [
              0.6666666666666666,
              "#ed7953"
             ],
             [
              0.7777777777777778,
              "#fb9f3a"
             ],
             [
              0.8888888888888888,
              "#fdca26"
             ],
             [
              1,
              "#f0f921"
             ]
            ],
            "type": "heatmapgl"
           }
          ],
          "histogram": [
           {
            "marker": {
             "pattern": {
              "fillmode": "overlay",
              "size": 10,
              "solidity": 0.2
             }
            },
            "type": "histogram"
           }
          ],
          "histogram2d": [
           {
            "colorbar": {
             "outlinewidth": 0,
             "ticks": ""
            },
            "colorscale": [
             [
              0,
              "#0d0887"
             ],
             [
              0.1111111111111111,
              "#46039f"
             ],
             [
              0.2222222222222222,
              "#7201a8"
             ],
             [
              0.3333333333333333,
              "#9c179e"
             ],
             [
              0.4444444444444444,
              "#bd3786"
             ],
             [
              0.5555555555555556,
              "#d8576b"
             ],
             [
              0.6666666666666666,
              "#ed7953"
             ],
             [
              0.7777777777777778,
              "#fb9f3a"
             ],
             [
              0.8888888888888888,
              "#fdca26"
             ],
             [
              1,
              "#f0f921"
             ]
            ],
            "type": "histogram2d"
           }
          ],
          "histogram2dcontour": [
           {
            "colorbar": {
             "outlinewidth": 0,
             "ticks": ""
            },
            "colorscale": [
             [
              0,
              "#0d0887"
             ],
             [
              0.1111111111111111,
              "#46039f"
             ],
             [
              0.2222222222222222,
              "#7201a8"
             ],
             [
              0.3333333333333333,
              "#9c179e"
             ],
             [
              0.4444444444444444,
              "#bd3786"
             ],
             [
              0.5555555555555556,
              "#d8576b"
             ],
             [
              0.6666666666666666,
              "#ed7953"
             ],
             [
              0.7777777777777778,
              "#fb9f3a"
             ],
             [
              0.8888888888888888,
              "#fdca26"
             ],
             [
              1,
              "#f0f921"
             ]
            ],
            "type": "histogram2dcontour"
           }
          ],
          "mesh3d": [
           {
            "colorbar": {
             "outlinewidth": 0,
             "ticks": ""
            },
            "type": "mesh3d"
           }
          ],
          "parcoords": [
           {
            "line": {
             "colorbar": {
              "outlinewidth": 0,
              "ticks": ""
             }
            },
            "type": "parcoords"
           }
          ],
          "pie": [
           {
            "automargin": true,
            "type": "pie"
           }
          ],
          "scatter": [
           {
            "fillpattern": {
             "fillmode": "overlay",
             "size": 10,
             "solidity": 0.2
            },
            "type": "scatter"
           }
          ],
          "scatter3d": [
           {
            "line": {
             "colorbar": {
              "outlinewidth": 0,
              "ticks": ""
             }
            },
            "marker": {
             "colorbar": {
              "outlinewidth": 0,
              "ticks": ""
             }
            },
            "type": "scatter3d"
           }
          ],
          "scattercarpet": [
           {
            "marker": {
             "colorbar": {
              "outlinewidth": 0,
              "ticks": ""
             }
            },
            "type": "scattercarpet"
           }
          ],
          "scattergeo": [
           {
            "marker": {
             "colorbar": {
              "outlinewidth": 0,
              "ticks": ""
             }
            },
            "type": "scattergeo"
           }
          ],
          "scattergl": [
           {
            "marker": {
             "colorbar": {
              "outlinewidth": 0,
              "ticks": ""
             }
            },
            "type": "scattergl"
           }
          ],
          "scattermapbox": [
           {
            "marker": {
             "colorbar": {
              "outlinewidth": 0,
              "ticks": ""
             }
            },
            "type": "scattermapbox"
           }
          ],
          "scatterpolar": [
           {
            "marker": {
             "colorbar": {
              "outlinewidth": 0,
              "ticks": ""
             }
            },
            "type": "scatterpolar"
           }
          ],
          "scatterpolargl": [
           {
            "marker": {
             "colorbar": {
              "outlinewidth": 0,
              "ticks": ""
             }
            },
            "type": "scatterpolargl"
           }
          ],
          "scatterternary": [
           {
            "marker": {
             "colorbar": {
              "outlinewidth": 0,
              "ticks": ""
             }
            },
            "type": "scatterternary"
           }
          ],
          "surface": [
           {
            "colorbar": {
             "outlinewidth": 0,
             "ticks": ""
            },
            "colorscale": [
             [
              0,
              "#0d0887"
             ],
             [
              0.1111111111111111,
              "#46039f"
             ],
             [
              0.2222222222222222,
              "#7201a8"
             ],
             [
              0.3333333333333333,
              "#9c179e"
             ],
             [
              0.4444444444444444,
              "#bd3786"
             ],
             [
              0.5555555555555556,
              "#d8576b"
             ],
             [
              0.6666666666666666,
              "#ed7953"
             ],
             [
              0.7777777777777778,
              "#fb9f3a"
             ],
             [
              0.8888888888888888,
              "#fdca26"
             ],
             [
              1,
              "#f0f921"
             ]
            ],
            "type": "surface"
           }
          ],
          "table": [
           {
            "cells": {
             "fill": {
              "color": "#EBF0F8"
             },
             "line": {
              "color": "white"
             }
            },
            "header": {
             "fill": {
              "color": "#C8D4E3"
             },
             "line": {
              "color": "white"
             }
            },
            "type": "table"
           }
          ]
         },
         "layout": {
          "annotationdefaults": {
           "arrowcolor": "#2a3f5f",
           "arrowhead": 0,
           "arrowwidth": 1
          },
          "autotypenumbers": "strict",
          "coloraxis": {
           "colorbar": {
            "outlinewidth": 0,
            "ticks": ""
           }
          },
          "colorscale": {
           "diverging": [
            [
             0,
             "#8e0152"
            ],
            [
             0.1,
             "#c51b7d"
            ],
            [
             0.2,
             "#de77ae"
            ],
            [
             0.3,
             "#f1b6da"
            ],
            [
             0.4,
             "#fde0ef"
            ],
            [
             0.5,
             "#f7f7f7"
            ],
            [
             0.6,
             "#e6f5d0"
            ],
            [
             0.7,
             "#b8e186"
            ],
            [
             0.8,
             "#7fbc41"
            ],
            [
             0.9,
             "#4d9221"
            ],
            [
             1,
             "#276419"
            ]
           ],
           "sequential": [
            [
             0,
             "#0d0887"
            ],
            [
             0.1111111111111111,
             "#46039f"
            ],
            [
             0.2222222222222222,
             "#7201a8"
            ],
            [
             0.3333333333333333,
             "#9c179e"
            ],
            [
             0.4444444444444444,
             "#bd3786"
            ],
            [
             0.5555555555555556,
             "#d8576b"
            ],
            [
             0.6666666666666666,
             "#ed7953"
            ],
            [
             0.7777777777777778,
             "#fb9f3a"
            ],
            [
             0.8888888888888888,
             "#fdca26"
            ],
            [
             1,
             "#f0f921"
            ]
           ],
           "sequentialminus": [
            [
             0,
             "#0d0887"
            ],
            [
             0.1111111111111111,
             "#46039f"
            ],
            [
             0.2222222222222222,
             "#7201a8"
            ],
            [
             0.3333333333333333,
             "#9c179e"
            ],
            [
             0.4444444444444444,
             "#bd3786"
            ],
            [
             0.5555555555555556,
             "#d8576b"
            ],
            [
             0.6666666666666666,
             "#ed7953"
            ],
            [
             0.7777777777777778,
             "#fb9f3a"
            ],
            [
             0.8888888888888888,
             "#fdca26"
            ],
            [
             1,
             "#f0f921"
            ]
           ]
          },
          "colorway": [
           "#636efa",
           "#EF553B",
           "#00cc96",
           "#ab63fa",
           "#FFA15A",
           "#19d3f3",
           "#FF6692",
           "#B6E880",
           "#FF97FF",
           "#FECB52"
          ],
          "font": {
           "color": "#2a3f5f"
          },
          "geo": {
           "bgcolor": "white",
           "lakecolor": "white",
           "landcolor": "#E5ECF6",
           "showlakes": true,
           "showland": true,
           "subunitcolor": "white"
          },
          "hoverlabel": {
           "align": "left"
          },
          "hovermode": "closest",
          "mapbox": {
           "style": "light"
          },
          "paper_bgcolor": "white",
          "plot_bgcolor": "#E5ECF6",
          "polar": {
           "angularaxis": {
            "gridcolor": "white",
            "linecolor": "white",
            "ticks": ""
           },
           "bgcolor": "#E5ECF6",
           "radialaxis": {
            "gridcolor": "white",
            "linecolor": "white",
            "ticks": ""
           }
          },
          "scene": {
           "xaxis": {
            "backgroundcolor": "#E5ECF6",
            "gridcolor": "white",
            "gridwidth": 2,
            "linecolor": "white",
            "showbackground": true,
            "ticks": "",
            "zerolinecolor": "white"
           },
           "yaxis": {
            "backgroundcolor": "#E5ECF6",
            "gridcolor": "white",
            "gridwidth": 2,
            "linecolor": "white",
            "showbackground": true,
            "ticks": "",
            "zerolinecolor": "white"
           },
           "zaxis": {
            "backgroundcolor": "#E5ECF6",
            "gridcolor": "white",
            "gridwidth": 2,
            "linecolor": "white",
            "showbackground": true,
            "ticks": "",
            "zerolinecolor": "white"
           }
          },
          "shapedefaults": {
           "line": {
            "color": "#2a3f5f"
           }
          },
          "ternary": {
           "aaxis": {
            "gridcolor": "white",
            "linecolor": "white",
            "ticks": ""
           },
           "baxis": {
            "gridcolor": "white",
            "linecolor": "white",
            "ticks": ""
           },
           "bgcolor": "#E5ECF6",
           "caxis": {
            "gridcolor": "white",
            "linecolor": "white",
            "ticks": ""
           }
          },
          "title": {
           "x": 0.05
          },
          "xaxis": {
           "automargin": true,
           "gridcolor": "white",
           "linecolor": "white",
           "ticks": "",
           "title": {
            "standoff": 15
           },
           "zerolinecolor": "white",
           "zerolinewidth": 2
          },
          "yaxis": {
           "automargin": true,
           "gridcolor": "white",
           "linecolor": "white",
           "ticks": "",
           "title": {
            "standoff": 15
           },
           "zerolinecolor": "white",
           "zerolinewidth": 2
          }
         }
        },
        "title": {
         "text": "Global Sugar Ending by Country (2018/19)"
        }
       }
      }
     },
     "metadata": {},
     "output_type": "display_data"
    }
   ],
   "source": [
    "import pandas as pd\n",
    "import plotly.express as px\n",
    "\n",
    "# Create a choropleth map with a slider\n",
    "def create_choropleth(end, year):\n",
    "    fig = px.choropleth(\n",
    "        end,\n",
    "        locations=\"Name\",\n",
    "        locationmode=\"country names\",\n",
    "        color=year,\n",
    "        hover_name=\"Name\",\n",
    "        title=f\"Global Sugar Ending by Country ({year})\",\n",
    "        projection=\"natural earth\",\n",
    "        color_continuous_scale=\"Viridis\"\n",
    "    )\n",
    "\n",
    "    return fig\n",
    "\n",
    "# Initialize with the first year (2018/19)\n",
    "initial_year = end.columns[2]\n",
    "fig = create_choropleth(end, initial_year)\n",
    "\n",
    "# Add a slider for years\n",
    "year_columns = end.columns[2:7]\n",
    "visible_traces = [False] * len(year_columns)\n",
    "visible_traces[0] = True\n",
    "\n",
    "steps = []\n",
    "for i, year in enumerate(year_columns):\n",
    "    step = {\n",
    "        \"args\": [\n",
    "            {\"visible\": visible_traces[:i] + [True] + visible_traces[i+1:]},\n",
    "            {\"title\": f\"Global Sugar Ending by Country ({year})\"}\n",
    "        ],\n",
    "        \"label\": year,\n",
    "        \"method\": \"update\",\n",
    "    }\n",
    "    steps.append(step)\n",
    "\n",
    "sliders = [dict(\n",
    "    active=0,\n",
    "    steps=steps\n",
    ")]\n",
    "\n",
    "# Update layout\n",
    "fig.update_layout(\n",
    "    sliders=sliders,\n",
    "    geo=dict(\n",
    "        showcoastlines=True,\n",
    "        coastlinecolor=\"Black\",\n",
    "        showland=True,\n",
    "        landcolor=\"white\"\n",
    "    )\n",
    ")\n",
    "\n",
    "# Show the map\n",
    "fig.show()\n"
   ]
  },
  {
   "cell_type": "code",
   "execution_count": 27,
   "metadata": {},
   "outputs": [
    {
     "data": {
      "application/vnd.plotly.v1+json": {
       "config": {
        "plotlyServerURL": "https://plot.ly"
       },
       "data": [
        {
         "coloraxis": "coloraxis",
         "geo": "geo",
         "hovertemplate": "<b>%{hovertext}</b><br><br>Name=%{location}<br>2018/19=%{z}<extra></extra>",
         "hovertext": [
          "Algeria",
          "Australia",
          "Brazil",
          "China",
          "Colombia",
          "Egypt",
          "Eswatini",
          "Guatemala",
          "India",
          "Indonesia",
          "Malaysia",
          "Mauritius",
          "Mexico",
          "Morocco",
          "Nicaragua",
          "Nigeria",
          "Other",
          "Pakistan",
          "Russia",
          "Thailand"
         ],
         "locationmode": "country names",
         "locations": [
          "Algeria",
          "Australia",
          "Brazil",
          "China",
          "Colombia",
          "Egypt",
          "Eswatini",
          "Guatemala",
          "India",
          "Indonesia",
          "Malaysia",
          "Mauritius",
          "Mexico",
          "Morocco",
          "Nicaragua",
          "Nigeria",
          "Other",
          "Pakistan",
          "Russia",
          "Thailand"
         ],
         "name": "",
         "type": "choropleth",
         "z": [
          208,
          3735,
          19600,
          205,
          801,
          200,
          582,
          2125,
          4700,
          0,
          123,
          347,
          2337,
          497,
          534,
          300,
          5011,
          1100,
          402,
          10612
         ]
        }
       ],
       "layout": {
        "coloraxis": {
         "colorbar": {
          "title": {
           "text": "2018/19"
          }
         },
         "colorscale": [
          [
           0,
           "#440154"
          ],
          [
           0.1111111111111111,
           "#482878"
          ],
          [
           0.2222222222222222,
           "#3e4989"
          ],
          [
           0.3333333333333333,
           "#31688e"
          ],
          [
           0.4444444444444444,
           "#26828e"
          ],
          [
           0.5555555555555556,
           "#1f9e89"
          ],
          [
           0.6666666666666666,
           "#35b779"
          ],
          [
           0.7777777777777778,
           "#6ece58"
          ],
          [
           0.8888888888888888,
           "#b5de2b"
          ],
          [
           1,
           "#fde725"
          ]
         ]
        },
        "geo": {
         "center": {},
         "coastlinecolor": "Black",
         "domain": {
          "x": [
           0,
           1
          ],
          "y": [
           0,
           1
          ]
         },
         "landcolor": "white",
         "projection": {
          "type": "natural earth"
         },
         "showcoastlines": true,
         "showland": true
        },
        "legend": {
         "tracegroupgap": 0
        },
        "sliders": [
         {
          "active": 0,
          "steps": [
           {
            "args": [
             {
              "visible": [
               true,
               false,
               false,
               false,
               false
              ]
             },
             {
              "title": "Global Sugar Export by Country (2018/19)"
             }
            ],
            "label": "2018/19",
            "method": "update"
           },
           {
            "args": [
             {
              "visible": [
               true,
               true,
               false,
               false,
               false
              ]
             },
             {
              "title": "Global Sugar Export by Country (2019/20)"
             }
            ],
            "label": "2019/20",
            "method": "update"
           },
           {
            "args": [
             {
              "visible": [
               true,
               false,
               true,
               false,
               false
              ]
             },
             {
              "title": "Global Sugar Export by Country (2020/21)"
             }
            ],
            "label": "2020/21",
            "method": "update"
           },
           {
            "args": [
             {
              "visible": [
               true,
               false,
               false,
               true,
               false
              ]
             },
             {
              "title": "Global Sugar Export by Country (2021/22)"
             }
            ],
            "label": "2021/22",
            "method": "update"
           },
           {
            "args": [
             {
              "visible": [
               true,
               false,
               false,
               false,
               true
              ]
             },
             {
              "title": "Global Sugar Export by Country (2022/23)"
             }
            ],
            "label": "2022/23",
            "method": "update"
           }
          ]
         }
        ],
        "template": {
         "data": {
          "bar": [
           {
            "error_x": {
             "color": "#2a3f5f"
            },
            "error_y": {
             "color": "#2a3f5f"
            },
            "marker": {
             "line": {
              "color": "#E5ECF6",
              "width": 0.5
             },
             "pattern": {
              "fillmode": "overlay",
              "size": 10,
              "solidity": 0.2
             }
            },
            "type": "bar"
           }
          ],
          "barpolar": [
           {
            "marker": {
             "line": {
              "color": "#E5ECF6",
              "width": 0.5
             },
             "pattern": {
              "fillmode": "overlay",
              "size": 10,
              "solidity": 0.2
             }
            },
            "type": "barpolar"
           }
          ],
          "carpet": [
           {
            "aaxis": {
             "endlinecolor": "#2a3f5f",
             "gridcolor": "white",
             "linecolor": "white",
             "minorgridcolor": "white",
             "startlinecolor": "#2a3f5f"
            },
            "baxis": {
             "endlinecolor": "#2a3f5f",
             "gridcolor": "white",
             "linecolor": "white",
             "minorgridcolor": "white",
             "startlinecolor": "#2a3f5f"
            },
            "type": "carpet"
           }
          ],
          "choropleth": [
           {
            "colorbar": {
             "outlinewidth": 0,
             "ticks": ""
            },
            "type": "choropleth"
           }
          ],
          "contour": [
           {
            "colorbar": {
             "outlinewidth": 0,
             "ticks": ""
            },
            "colorscale": [
             [
              0,
              "#0d0887"
             ],
             [
              0.1111111111111111,
              "#46039f"
             ],
             [
              0.2222222222222222,
              "#7201a8"
             ],
             [
              0.3333333333333333,
              "#9c179e"
             ],
             [
              0.4444444444444444,
              "#bd3786"
             ],
             [
              0.5555555555555556,
              "#d8576b"
             ],
             [
              0.6666666666666666,
              "#ed7953"
             ],
             [
              0.7777777777777778,
              "#fb9f3a"
             ],
             [
              0.8888888888888888,
              "#fdca26"
             ],
             [
              1,
              "#f0f921"
             ]
            ],
            "type": "contour"
           }
          ],
          "contourcarpet": [
           {
            "colorbar": {
             "outlinewidth": 0,
             "ticks": ""
            },
            "type": "contourcarpet"
           }
          ],
          "heatmap": [
           {
            "colorbar": {
             "outlinewidth": 0,
             "ticks": ""
            },
            "colorscale": [
             [
              0,
              "#0d0887"
             ],
             [
              0.1111111111111111,
              "#46039f"
             ],
             [
              0.2222222222222222,
              "#7201a8"
             ],
             [
              0.3333333333333333,
              "#9c179e"
             ],
             [
              0.4444444444444444,
              "#bd3786"
             ],
             [
              0.5555555555555556,
              "#d8576b"
             ],
             [
              0.6666666666666666,
              "#ed7953"
             ],
             [
              0.7777777777777778,
              "#fb9f3a"
             ],
             [
              0.8888888888888888,
              "#fdca26"
             ],
             [
              1,
              "#f0f921"
             ]
            ],
            "type": "heatmap"
           }
          ],
          "heatmapgl": [
           {
            "colorbar": {
             "outlinewidth": 0,
             "ticks": ""
            },
            "colorscale": [
             [
              0,
              "#0d0887"
             ],
             [
              0.1111111111111111,
              "#46039f"
             ],
             [
              0.2222222222222222,
              "#7201a8"
             ],
             [
              0.3333333333333333,
              "#9c179e"
             ],
             [
              0.4444444444444444,
              "#bd3786"
             ],
             [
              0.5555555555555556,
              "#d8576b"
             ],
             [
              0.6666666666666666,
              "#ed7953"
             ],
             [
              0.7777777777777778,
              "#fb9f3a"
             ],
             [
              0.8888888888888888,
              "#fdca26"
             ],
             [
              1,
              "#f0f921"
             ]
            ],
            "type": "heatmapgl"
           }
          ],
          "histogram": [
           {
            "marker": {
             "pattern": {
              "fillmode": "overlay",
              "size": 10,
              "solidity": 0.2
             }
            },
            "type": "histogram"
           }
          ],
          "histogram2d": [
           {
            "colorbar": {
             "outlinewidth": 0,
             "ticks": ""
            },
            "colorscale": [
             [
              0,
              "#0d0887"
             ],
             [
              0.1111111111111111,
              "#46039f"
             ],
             [
              0.2222222222222222,
              "#7201a8"
             ],
             [
              0.3333333333333333,
              "#9c179e"
             ],
             [
              0.4444444444444444,
              "#bd3786"
             ],
             [
              0.5555555555555556,
              "#d8576b"
             ],
             [
              0.6666666666666666,
              "#ed7953"
             ],
             [
              0.7777777777777778,
              "#fb9f3a"
             ],
             [
              0.8888888888888888,
              "#fdca26"
             ],
             [
              1,
              "#f0f921"
             ]
            ],
            "type": "histogram2d"
           }
          ],
          "histogram2dcontour": [
           {
            "colorbar": {
             "outlinewidth": 0,
             "ticks": ""
            },
            "colorscale": [
             [
              0,
              "#0d0887"
             ],
             [
              0.1111111111111111,
              "#46039f"
             ],
             [
              0.2222222222222222,
              "#7201a8"
             ],
             [
              0.3333333333333333,
              "#9c179e"
             ],
             [
              0.4444444444444444,
              "#bd3786"
             ],
             [
              0.5555555555555556,
              "#d8576b"
             ],
             [
              0.6666666666666666,
              "#ed7953"
             ],
             [
              0.7777777777777778,
              "#fb9f3a"
             ],
             [
              0.8888888888888888,
              "#fdca26"
             ],
             [
              1,
              "#f0f921"
             ]
            ],
            "type": "histogram2dcontour"
           }
          ],
          "mesh3d": [
           {
            "colorbar": {
             "outlinewidth": 0,
             "ticks": ""
            },
            "type": "mesh3d"
           }
          ],
          "parcoords": [
           {
            "line": {
             "colorbar": {
              "outlinewidth": 0,
              "ticks": ""
             }
            },
            "type": "parcoords"
           }
          ],
          "pie": [
           {
            "automargin": true,
            "type": "pie"
           }
          ],
          "scatter": [
           {
            "fillpattern": {
             "fillmode": "overlay",
             "size": 10,
             "solidity": 0.2
            },
            "type": "scatter"
           }
          ],
          "scatter3d": [
           {
            "line": {
             "colorbar": {
              "outlinewidth": 0,
              "ticks": ""
             }
            },
            "marker": {
             "colorbar": {
              "outlinewidth": 0,
              "ticks": ""
             }
            },
            "type": "scatter3d"
           }
          ],
          "scattercarpet": [
           {
            "marker": {
             "colorbar": {
              "outlinewidth": 0,
              "ticks": ""
             }
            },
            "type": "scattercarpet"
           }
          ],
          "scattergeo": [
           {
            "marker": {
             "colorbar": {
              "outlinewidth": 0,
              "ticks": ""
             }
            },
            "type": "scattergeo"
           }
          ],
          "scattergl": [
           {
            "marker": {
             "colorbar": {
              "outlinewidth": 0,
              "ticks": ""
             }
            },
            "type": "scattergl"
           }
          ],
          "scattermapbox": [
           {
            "marker": {
             "colorbar": {
              "outlinewidth": 0,
              "ticks": ""
             }
            },
            "type": "scattermapbox"
           }
          ],
          "scatterpolar": [
           {
            "marker": {
             "colorbar": {
              "outlinewidth": 0,
              "ticks": ""
             }
            },
            "type": "scatterpolar"
           }
          ],
          "scatterpolargl": [
           {
            "marker": {
             "colorbar": {
              "outlinewidth": 0,
              "ticks": ""
             }
            },
            "type": "scatterpolargl"
           }
          ],
          "scatterternary": [
           {
            "marker": {
             "colorbar": {
              "outlinewidth": 0,
              "ticks": ""
             }
            },
            "type": "scatterternary"
           }
          ],
          "surface": [
           {
            "colorbar": {
             "outlinewidth": 0,
             "ticks": ""
            },
            "colorscale": [
             [
              0,
              "#0d0887"
             ],
             [
              0.1111111111111111,
              "#46039f"
             ],
             [
              0.2222222222222222,
              "#7201a8"
             ],
             [
              0.3333333333333333,
              "#9c179e"
             ],
             [
              0.4444444444444444,
              "#bd3786"
             ],
             [
              0.5555555555555556,
              "#d8576b"
             ],
             [
              0.6666666666666666,
              "#ed7953"
             ],
             [
              0.7777777777777778,
              "#fb9f3a"
             ],
             [
              0.8888888888888888,
              "#fdca26"
             ],
             [
              1,
              "#f0f921"
             ]
            ],
            "type": "surface"
           }
          ],
          "table": [
           {
            "cells": {
             "fill": {
              "color": "#EBF0F8"
             },
             "line": {
              "color": "white"
             }
            },
            "header": {
             "fill": {
              "color": "#C8D4E3"
             },
             "line": {
              "color": "white"
             }
            },
            "type": "table"
           }
          ]
         },
         "layout": {
          "annotationdefaults": {
           "arrowcolor": "#2a3f5f",
           "arrowhead": 0,
           "arrowwidth": 1
          },
          "autotypenumbers": "strict",
          "coloraxis": {
           "colorbar": {
            "outlinewidth": 0,
            "ticks": ""
           }
          },
          "colorscale": {
           "diverging": [
            [
             0,
             "#8e0152"
            ],
            [
             0.1,
             "#c51b7d"
            ],
            [
             0.2,
             "#de77ae"
            ],
            [
             0.3,
             "#f1b6da"
            ],
            [
             0.4,
             "#fde0ef"
            ],
            [
             0.5,
             "#f7f7f7"
            ],
            [
             0.6,
             "#e6f5d0"
            ],
            [
             0.7,
             "#b8e186"
            ],
            [
             0.8,
             "#7fbc41"
            ],
            [
             0.9,
             "#4d9221"
            ],
            [
             1,
             "#276419"
            ]
           ],
           "sequential": [
            [
             0,
             "#0d0887"
            ],
            [
             0.1111111111111111,
             "#46039f"
            ],
            [
             0.2222222222222222,
             "#7201a8"
            ],
            [
             0.3333333333333333,
             "#9c179e"
            ],
            [
             0.4444444444444444,
             "#bd3786"
            ],
            [
             0.5555555555555556,
             "#d8576b"
            ],
            [
             0.6666666666666666,
             "#ed7953"
            ],
            [
             0.7777777777777778,
             "#fb9f3a"
            ],
            [
             0.8888888888888888,
             "#fdca26"
            ],
            [
             1,
             "#f0f921"
            ]
           ],
           "sequentialminus": [
            [
             0,
             "#0d0887"
            ],
            [
             0.1111111111111111,
             "#46039f"
            ],
            [
             0.2222222222222222,
             "#7201a8"
            ],
            [
             0.3333333333333333,
             "#9c179e"
            ],
            [
             0.4444444444444444,
             "#bd3786"
            ],
            [
             0.5555555555555556,
             "#d8576b"
            ],
            [
             0.6666666666666666,
             "#ed7953"
            ],
            [
             0.7777777777777778,
             "#fb9f3a"
            ],
            [
             0.8888888888888888,
             "#fdca26"
            ],
            [
             1,
             "#f0f921"
            ]
           ]
          },
          "colorway": [
           "#636efa",
           "#EF553B",
           "#00cc96",
           "#ab63fa",
           "#FFA15A",
           "#19d3f3",
           "#FF6692",
           "#B6E880",
           "#FF97FF",
           "#FECB52"
          ],
          "font": {
           "color": "#2a3f5f"
          },
          "geo": {
           "bgcolor": "white",
           "lakecolor": "white",
           "landcolor": "#E5ECF6",
           "showlakes": true,
           "showland": true,
           "subunitcolor": "white"
          },
          "hoverlabel": {
           "align": "left"
          },
          "hovermode": "closest",
          "mapbox": {
           "style": "light"
          },
          "paper_bgcolor": "white",
          "plot_bgcolor": "#E5ECF6",
          "polar": {
           "angularaxis": {
            "gridcolor": "white",
            "linecolor": "white",
            "ticks": ""
           },
           "bgcolor": "#E5ECF6",
           "radialaxis": {
            "gridcolor": "white",
            "linecolor": "white",
            "ticks": ""
           }
          },
          "scene": {
           "xaxis": {
            "backgroundcolor": "#E5ECF6",
            "gridcolor": "white",
            "gridwidth": 2,
            "linecolor": "white",
            "showbackground": true,
            "ticks": "",
            "zerolinecolor": "white"
           },
           "yaxis": {
            "backgroundcolor": "#E5ECF6",
            "gridcolor": "white",
            "gridwidth": 2,
            "linecolor": "white",
            "showbackground": true,
            "ticks": "",
            "zerolinecolor": "white"
           },
           "zaxis": {
            "backgroundcolor": "#E5ECF6",
            "gridcolor": "white",
            "gridwidth": 2,
            "linecolor": "white",
            "showbackground": true,
            "ticks": "",
            "zerolinecolor": "white"
           }
          },
          "shapedefaults": {
           "line": {
            "color": "#2a3f5f"
           }
          },
          "ternary": {
           "aaxis": {
            "gridcolor": "white",
            "linecolor": "white",
            "ticks": ""
           },
           "baxis": {
            "gridcolor": "white",
            "linecolor": "white",
            "ticks": ""
           },
           "bgcolor": "#E5ECF6",
           "caxis": {
            "gridcolor": "white",
            "linecolor": "white",
            "ticks": ""
           }
          },
          "title": {
           "x": 0.05
          },
          "xaxis": {
           "automargin": true,
           "gridcolor": "white",
           "linecolor": "white",
           "ticks": "",
           "title": {
            "standoff": 15
           },
           "zerolinecolor": "white",
           "zerolinewidth": 2
          },
          "yaxis": {
           "automargin": true,
           "gridcolor": "white",
           "linecolor": "white",
           "ticks": "",
           "title": {
            "standoff": 15
           },
           "zerolinecolor": "white",
           "zerolinewidth": 2
          }
         }
        },
        "title": {
         "text": "Global Sugar Export by Country (2018/19)"
        }
       }
      }
     },
     "metadata": {},
     "output_type": "display_data"
    }
   ],
   "source": [
    "import pandas as pd\n",
    "import plotly.express as px\n",
    "\n",
    "# Create a choropleth map with a slider\n",
    "def create_choropleth(exp, year):\n",
    "    fig = px.choropleth(\n",
    "        exp,\n",
    "        locations=\"Name\",\n",
    "        locationmode=\"country names\",\n",
    "        color=year,\n",
    "        hover_name=\"Name\",\n",
    "        title=f\"Global Sugar Export by Country ({year})\",\n",
    "        projection=\"natural earth\",\n",
    "        color_continuous_scale=\"Viridis\"\n",
    "    )\n",
    "\n",
    "    return fig\n",
    "\n",
    "# Initialize with the first year (2018/19)\n",
    "initial_year = exp.columns[2]\n",
    "fig = create_choropleth(exp, initial_year)\n",
    "\n",
    "# Add a slider for years\n",
    "year_columns = exp.columns[2:7]\n",
    "visible_traces = [False] * len(year_columns)\n",
    "visible_traces[0] = True\n",
    "\n",
    "steps = []\n",
    "for i, year in enumerate(year_columns):\n",
    "    step = {\n",
    "        \"args\": [\n",
    "            {\"visible\": visible_traces[:i] + [True] + visible_traces[i+1:]},\n",
    "            {\"title\": f\"Global Sugar Export by Country ({year})\"}\n",
    "        ],\n",
    "        \"label\": year,\n",
    "        \"method\": \"update\",\n",
    "    }\n",
    "    steps.append(step)\n",
    "\n",
    "sliders = [dict(\n",
    "    active=0,\n",
    "    steps=steps\n",
    ")]\n",
    "\n",
    "# Update layout\n",
    "fig.update_layout(\n",
    "    sliders=sliders,\n",
    "    geo=dict(\n",
    "        showcoastlines=True,\n",
    "        coastlinecolor=\"Black\",\n",
    "        showland=True,\n",
    "        landcolor=\"white\"\n",
    "    )\n",
    ")\n",
    "\n",
    "# Show the map\n",
    "fig.show()\n"
   ]
  },
  {
   "cell_type": "code",
   "execution_count": 26,
   "metadata": {},
   "outputs": [
    {
     "data": {
      "application/vnd.plotly.v1+json": {
       "config": {
        "plotlyServerURL": "https://plot.ly"
       },
       "data": [
        {
         "coloraxis": "coloraxis",
         "geo": "geo",
         "hovertemplate": "<b>%{hovertext}</b><br><br>Name=%{location}<br>2018/19=%{z}<extra></extra>",
         "hovertext": [
          "Algeria",
          "Bangladesh",
          "Canada",
          "Chile",
          "China",
          "Egypt",
          "Ethiopia",
          "India",
          "Indonesia",
          "Iran",
          "Iraq",
          "Japan",
          "Kazakhstan",
          "Malaysia",
          "Morocco",
          "Nigeria",
          "Other",
          "Somalia",
          "Sudan",
          "Vietnam",
          "Yemen"
         ],
         "locationmode": "country names",
         "locations": [
          "Algeria",
          "Bangladesh",
          "Canada",
          "Chile",
          "China",
          "Egypt",
          "Ethiopia",
          "India",
          "Indonesia",
          "Iran",
          "Iraq",
          "Japan",
          "Kazakhstan",
          "Malaysia",
          "Morocco",
          "Nigeria",
          "Other",
          "Somalia",
          "Sudan",
          "Vietnam",
          "Yemen"
         ],
         "name": "",
         "type": "choropleth",
         "z": [
          2328,
          2429,
          1268,
          449,
          4086,
          860,
          532,
          1300,
          5362,
          935,
          1180,
          1187,
          345,
          2139,
          1100,
          1870,
          12962,
          738,
          1042,
          303,
          667
         ]
        }
       ],
       "layout": {
        "coloraxis": {
         "colorbar": {
          "title": {
           "text": "2018/19"
          }
         },
         "colorscale": [
          [
           0,
           "#440154"
          ],
          [
           0.1111111111111111,
           "#482878"
          ],
          [
           0.2222222222222222,
           "#3e4989"
          ],
          [
           0.3333333333333333,
           "#31688e"
          ],
          [
           0.4444444444444444,
           "#26828e"
          ],
          [
           0.5555555555555556,
           "#1f9e89"
          ],
          [
           0.6666666666666666,
           "#35b779"
          ],
          [
           0.7777777777777778,
           "#6ece58"
          ],
          [
           0.8888888888888888,
           "#b5de2b"
          ],
          [
           1,
           "#fde725"
          ]
         ]
        },
        "geo": {
         "center": {},
         "coastlinecolor": "Black",
         "domain": {
          "x": [
           0,
           1
          ],
          "y": [
           0,
           1
          ]
         },
         "landcolor": "white",
         "projection": {
          "type": "natural earth"
         },
         "showcoastlines": true,
         "showland": true
        },
        "legend": {
         "tracegroupgap": 0
        },
        "sliders": [
         {
          "active": 0,
          "steps": [
           {
            "args": [
             {
              "visible": [
               true,
               false,
               false,
               false,
               false
              ]
             },
             {
              "title": "Global Sugar Import by Country (2018/19)"
             }
            ],
            "label": "2018/19",
            "method": "update"
           },
           {
            "args": [
             {
              "visible": [
               true,
               true,
               false,
               false,
               false
              ]
             },
             {
              "title": "Global Sugar Import by Country (2019/20)"
             }
            ],
            "label": "2019/20",
            "method": "update"
           },
           {
            "args": [
             {
              "visible": [
               true,
               false,
               true,
               false,
               false
              ]
             },
             {
              "title": "Global Sugar Import by Country (2020/21)"
             }
            ],
            "label": "2020/21",
            "method": "update"
           },
           {
            "args": [
             {
              "visible": [
               true,
               false,
               false,
               true,
               false
              ]
             },
             {
              "title": "Global Sugar Import by Country (2021/22)"
             }
            ],
            "label": "2021/22",
            "method": "update"
           },
           {
            "args": [
             {
              "visible": [
               true,
               false,
               false,
               false,
               true
              ]
             },
             {
              "title": "Global Sugar Import by Country (2022/23)"
             }
            ],
            "label": "2022/23",
            "method": "update"
           }
          ]
         }
        ],
        "template": {
         "data": {
          "bar": [
           {
            "error_x": {
             "color": "#2a3f5f"
            },
            "error_y": {
             "color": "#2a3f5f"
            },
            "marker": {
             "line": {
              "color": "#E5ECF6",
              "width": 0.5
             },
             "pattern": {
              "fillmode": "overlay",
              "size": 10,
              "solidity": 0.2
             }
            },
            "type": "bar"
           }
          ],
          "barpolar": [
           {
            "marker": {
             "line": {
              "color": "#E5ECF6",
              "width": 0.5
             },
             "pattern": {
              "fillmode": "overlay",
              "size": 10,
              "solidity": 0.2
             }
            },
            "type": "barpolar"
           }
          ],
          "carpet": [
           {
            "aaxis": {
             "endlinecolor": "#2a3f5f",
             "gridcolor": "white",
             "linecolor": "white",
             "minorgridcolor": "white",
             "startlinecolor": "#2a3f5f"
            },
            "baxis": {
             "endlinecolor": "#2a3f5f",
             "gridcolor": "white",
             "linecolor": "white",
             "minorgridcolor": "white",
             "startlinecolor": "#2a3f5f"
            },
            "type": "carpet"
           }
          ],
          "choropleth": [
           {
            "colorbar": {
             "outlinewidth": 0,
             "ticks": ""
            },
            "type": "choropleth"
           }
          ],
          "contour": [
           {
            "colorbar": {
             "outlinewidth": 0,
             "ticks": ""
            },
            "colorscale": [
             [
              0,
              "#0d0887"
             ],
             [
              0.1111111111111111,
              "#46039f"
             ],
             [
              0.2222222222222222,
              "#7201a8"
             ],
             [
              0.3333333333333333,
              "#9c179e"
             ],
             [
              0.4444444444444444,
              "#bd3786"
             ],
             [
              0.5555555555555556,
              "#d8576b"
             ],
             [
              0.6666666666666666,
              "#ed7953"
             ],
             [
              0.7777777777777778,
              "#fb9f3a"
             ],
             [
              0.8888888888888888,
              "#fdca26"
             ],
             [
              1,
              "#f0f921"
             ]
            ],
            "type": "contour"
           }
          ],
          "contourcarpet": [
           {
            "colorbar": {
             "outlinewidth": 0,
             "ticks": ""
            },
            "type": "contourcarpet"
           }
          ],
          "heatmap": [
           {
            "colorbar": {
             "outlinewidth": 0,
             "ticks": ""
            },
            "colorscale": [
             [
              0,
              "#0d0887"
             ],
             [
              0.1111111111111111,
              "#46039f"
             ],
             [
              0.2222222222222222,
              "#7201a8"
             ],
             [
              0.3333333333333333,
              "#9c179e"
             ],
             [
              0.4444444444444444,
              "#bd3786"
             ],
             [
              0.5555555555555556,
              "#d8576b"
             ],
             [
              0.6666666666666666,
              "#ed7953"
             ],
             [
              0.7777777777777778,
              "#fb9f3a"
             ],
             [
              0.8888888888888888,
              "#fdca26"
             ],
             [
              1,
              "#f0f921"
             ]
            ],
            "type": "heatmap"
           }
          ],
          "heatmapgl": [
           {
            "colorbar": {
             "outlinewidth": 0,
             "ticks": ""
            },
            "colorscale": [
             [
              0,
              "#0d0887"
             ],
             [
              0.1111111111111111,
              "#46039f"
             ],
             [
              0.2222222222222222,
              "#7201a8"
             ],
             [
              0.3333333333333333,
              "#9c179e"
             ],
             [
              0.4444444444444444,
              "#bd3786"
             ],
             [
              0.5555555555555556,
              "#d8576b"
             ],
             [
              0.6666666666666666,
              "#ed7953"
             ],
             [
              0.7777777777777778,
              "#fb9f3a"
             ],
             [
              0.8888888888888888,
              "#fdca26"
             ],
             [
              1,
              "#f0f921"
             ]
            ],
            "type": "heatmapgl"
           }
          ],
          "histogram": [
           {
            "marker": {
             "pattern": {
              "fillmode": "overlay",
              "size": 10,
              "solidity": 0.2
             }
            },
            "type": "histogram"
           }
          ],
          "histogram2d": [
           {
            "colorbar": {
             "outlinewidth": 0,
             "ticks": ""
            },
            "colorscale": [
             [
              0,
              "#0d0887"
             ],
             [
              0.1111111111111111,
              "#46039f"
             ],
             [
              0.2222222222222222,
              "#7201a8"
             ],
             [
              0.3333333333333333,
              "#9c179e"
             ],
             [
              0.4444444444444444,
              "#bd3786"
             ],
             [
              0.5555555555555556,
              "#d8576b"
             ],
             [
              0.6666666666666666,
              "#ed7953"
             ],
             [
              0.7777777777777778,
              "#fb9f3a"
             ],
             [
              0.8888888888888888,
              "#fdca26"
             ],
             [
              1,
              "#f0f921"
             ]
            ],
            "type": "histogram2d"
           }
          ],
          "histogram2dcontour": [
           {
            "colorbar": {
             "outlinewidth": 0,
             "ticks": ""
            },
            "colorscale": [
             [
              0,
              "#0d0887"
             ],
             [
              0.1111111111111111,
              "#46039f"
             ],
             [
              0.2222222222222222,
              "#7201a8"
             ],
             [
              0.3333333333333333,
              "#9c179e"
             ],
             [
              0.4444444444444444,
              "#bd3786"
             ],
             [
              0.5555555555555556,
              "#d8576b"
             ],
             [
              0.6666666666666666,
              "#ed7953"
             ],
             [
              0.7777777777777778,
              "#fb9f3a"
             ],
             [
              0.8888888888888888,
              "#fdca26"
             ],
             [
              1,
              "#f0f921"
             ]
            ],
            "type": "histogram2dcontour"
           }
          ],
          "mesh3d": [
           {
            "colorbar": {
             "outlinewidth": 0,
             "ticks": ""
            },
            "type": "mesh3d"
           }
          ],
          "parcoords": [
           {
            "line": {
             "colorbar": {
              "outlinewidth": 0,
              "ticks": ""
             }
            },
            "type": "parcoords"
           }
          ],
          "pie": [
           {
            "automargin": true,
            "type": "pie"
           }
          ],
          "scatter": [
           {
            "fillpattern": {
             "fillmode": "overlay",
             "size": 10,
             "solidity": 0.2
            },
            "type": "scatter"
           }
          ],
          "scatter3d": [
           {
            "line": {
             "colorbar": {
              "outlinewidth": 0,
              "ticks": ""
             }
            },
            "marker": {
             "colorbar": {
              "outlinewidth": 0,
              "ticks": ""
             }
            },
            "type": "scatter3d"
           }
          ],
          "scattercarpet": [
           {
            "marker": {
             "colorbar": {
              "outlinewidth": 0,
              "ticks": ""
             }
            },
            "type": "scattercarpet"
           }
          ],
          "scattergeo": [
           {
            "marker": {
             "colorbar": {
              "outlinewidth": 0,
              "ticks": ""
             }
            },
            "type": "scattergeo"
           }
          ],
          "scattergl": [
           {
            "marker": {
             "colorbar": {
              "outlinewidth": 0,
              "ticks": ""
             }
            },
            "type": "scattergl"
           }
          ],
          "scattermapbox": [
           {
            "marker": {
             "colorbar": {
              "outlinewidth": 0,
              "ticks": ""
             }
            },
            "type": "scattermapbox"
           }
          ],
          "scatterpolar": [
           {
            "marker": {
             "colorbar": {
              "outlinewidth": 0,
              "ticks": ""
             }
            },
            "type": "scatterpolar"
           }
          ],
          "scatterpolargl": [
           {
            "marker": {
             "colorbar": {
              "outlinewidth": 0,
              "ticks": ""
             }
            },
            "type": "scatterpolargl"
           }
          ],
          "scatterternary": [
           {
            "marker": {
             "colorbar": {
              "outlinewidth": 0,
              "ticks": ""
             }
            },
            "type": "scatterternary"
           }
          ],
          "surface": [
           {
            "colorbar": {
             "outlinewidth": 0,
             "ticks": ""
            },
            "colorscale": [
             [
              0,
              "#0d0887"
             ],
             [
              0.1111111111111111,
              "#46039f"
             ],
             [
              0.2222222222222222,
              "#7201a8"
             ],
             [
              0.3333333333333333,
              "#9c179e"
             ],
             [
              0.4444444444444444,
              "#bd3786"
             ],
             [
              0.5555555555555556,
              "#d8576b"
             ],
             [
              0.6666666666666666,
              "#ed7953"
             ],
             [
              0.7777777777777778,
              "#fb9f3a"
             ],
             [
              0.8888888888888888,
              "#fdca26"
             ],
             [
              1,
              "#f0f921"
             ]
            ],
            "type": "surface"
           }
          ],
          "table": [
           {
            "cells": {
             "fill": {
              "color": "#EBF0F8"
             },
             "line": {
              "color": "white"
             }
            },
            "header": {
             "fill": {
              "color": "#C8D4E3"
             },
             "line": {
              "color": "white"
             }
            },
            "type": "table"
           }
          ]
         },
         "layout": {
          "annotationdefaults": {
           "arrowcolor": "#2a3f5f",
           "arrowhead": 0,
           "arrowwidth": 1
          },
          "autotypenumbers": "strict",
          "coloraxis": {
           "colorbar": {
            "outlinewidth": 0,
            "ticks": ""
           }
          },
          "colorscale": {
           "diverging": [
            [
             0,
             "#8e0152"
            ],
            [
             0.1,
             "#c51b7d"
            ],
            [
             0.2,
             "#de77ae"
            ],
            [
             0.3,
             "#f1b6da"
            ],
            [
             0.4,
             "#fde0ef"
            ],
            [
             0.5,
             "#f7f7f7"
            ],
            [
             0.6,
             "#e6f5d0"
            ],
            [
             0.7,
             "#b8e186"
            ],
            [
             0.8,
             "#7fbc41"
            ],
            [
             0.9,
             "#4d9221"
            ],
            [
             1,
             "#276419"
            ]
           ],
           "sequential": [
            [
             0,
             "#0d0887"
            ],
            [
             0.1111111111111111,
             "#46039f"
            ],
            [
             0.2222222222222222,
             "#7201a8"
            ],
            [
             0.3333333333333333,
             "#9c179e"
            ],
            [
             0.4444444444444444,
             "#bd3786"
            ],
            [
             0.5555555555555556,
             "#d8576b"
            ],
            [
             0.6666666666666666,
             "#ed7953"
            ],
            [
             0.7777777777777778,
             "#fb9f3a"
            ],
            [
             0.8888888888888888,
             "#fdca26"
            ],
            [
             1,
             "#f0f921"
            ]
           ],
           "sequentialminus": [
            [
             0,
             "#0d0887"
            ],
            [
             0.1111111111111111,
             "#46039f"
            ],
            [
             0.2222222222222222,
             "#7201a8"
            ],
            [
             0.3333333333333333,
             "#9c179e"
            ],
            [
             0.4444444444444444,
             "#bd3786"
            ],
            [
             0.5555555555555556,
             "#d8576b"
            ],
            [
             0.6666666666666666,
             "#ed7953"
            ],
            [
             0.7777777777777778,
             "#fb9f3a"
            ],
            [
             0.8888888888888888,
             "#fdca26"
            ],
            [
             1,
             "#f0f921"
            ]
           ]
          },
          "colorway": [
           "#636efa",
           "#EF553B",
           "#00cc96",
           "#ab63fa",
           "#FFA15A",
           "#19d3f3",
           "#FF6692",
           "#B6E880",
           "#FF97FF",
           "#FECB52"
          ],
          "font": {
           "color": "#2a3f5f"
          },
          "geo": {
           "bgcolor": "white",
           "lakecolor": "white",
           "landcolor": "#E5ECF6",
           "showlakes": true,
           "showland": true,
           "subunitcolor": "white"
          },
          "hoverlabel": {
           "align": "left"
          },
          "hovermode": "closest",
          "mapbox": {
           "style": "light"
          },
          "paper_bgcolor": "white",
          "plot_bgcolor": "#E5ECF6",
          "polar": {
           "angularaxis": {
            "gridcolor": "white",
            "linecolor": "white",
            "ticks": ""
           },
           "bgcolor": "#E5ECF6",
           "radialaxis": {
            "gridcolor": "white",
            "linecolor": "white",
            "ticks": ""
           }
          },
          "scene": {
           "xaxis": {
            "backgroundcolor": "#E5ECF6",
            "gridcolor": "white",
            "gridwidth": 2,
            "linecolor": "white",
            "showbackground": true,
            "ticks": "",
            "zerolinecolor": "white"
           },
           "yaxis": {
            "backgroundcolor": "#E5ECF6",
            "gridcolor": "white",
            "gridwidth": 2,
            "linecolor": "white",
            "showbackground": true,
            "ticks": "",
            "zerolinecolor": "white"
           },
           "zaxis": {
            "backgroundcolor": "#E5ECF6",
            "gridcolor": "white",
            "gridwidth": 2,
            "linecolor": "white",
            "showbackground": true,
            "ticks": "",
            "zerolinecolor": "white"
           }
          },
          "shapedefaults": {
           "line": {
            "color": "#2a3f5f"
           }
          },
          "ternary": {
           "aaxis": {
            "gridcolor": "white",
            "linecolor": "white",
            "ticks": ""
           },
           "baxis": {
            "gridcolor": "white",
            "linecolor": "white",
            "ticks": ""
           },
           "bgcolor": "#E5ECF6",
           "caxis": {
            "gridcolor": "white",
            "linecolor": "white",
            "ticks": ""
           }
          },
          "title": {
           "x": 0.05
          },
          "xaxis": {
           "automargin": true,
           "gridcolor": "white",
           "linecolor": "white",
           "ticks": "",
           "title": {
            "standoff": 15
           },
           "zerolinecolor": "white",
           "zerolinewidth": 2
          },
          "yaxis": {
           "automargin": true,
           "gridcolor": "white",
           "linecolor": "white",
           "ticks": "",
           "title": {
            "standoff": 15
           },
           "zerolinecolor": "white",
           "zerolinewidth": 2
          }
         }
        },
        "title": {
         "text": "Global Sugar Import by Country (2018/19)"
        }
       }
      }
     },
     "metadata": {},
     "output_type": "display_data"
    }
   ],
   "source": [
    "import pandas as pd\n",
    "import plotly.express as px\n",
    "\n",
    "# Create a choropleth map with a slider\n",
    "def create_choropleth(imp, year):\n",
    "    fig = px.choropleth(\n",
    "        imp,\n",
    "        locations=\"Name\",\n",
    "        locationmode=\"country names\",\n",
    "        color=year,\n",
    "        hover_name=\"Name\",\n",
    "        title=f\"Global Sugar Import by Country ({year})\",\n",
    "        projection=\"natural earth\",\n",
    "        color_continuous_scale=\"Viridis\"\n",
    "    )\n",
    "\n",
    "    return fig\n",
    "\n",
    "# Initialize with the first year (2018/19)\n",
    "initial_year = imp.columns[2]\n",
    "fig = create_choropleth(imp, initial_year)\n",
    "\n",
    "# Add a slider for years\n",
    "year_columns = imp.columns[2:7]\n",
    "visible_traces = [False] * len(year_columns)\n",
    "visible_traces[0] = True\n",
    "\n",
    "steps = []\n",
    "for i, year in enumerate(year_columns):\n",
    "    step = {\n",
    "        \"args\": [\n",
    "            {\"visible\": visible_traces[:i] + [True] + visible_traces[i+1:]},\n",
    "            {\"title\": f\"Global Sugar Import by Country ({year})\"}\n",
    "        ],\n",
    "        \"label\": year,\n",
    "        \"method\": \"update\",\n",
    "    }\n",
    "    steps.append(step)\n",
    "\n",
    "sliders = [dict(\n",
    "    active=0,\n",
    "    steps=steps\n",
    ")]\n",
    "\n",
    "# Update layout\n",
    "fig.update_layout(\n",
    "    sliders=sliders,\n",
    "    geo=dict(\n",
    "        showcoastlines=True,\n",
    "        coastlinecolor=\"Black\",\n",
    "        showland=True,\n",
    "        landcolor=\"white\"\n",
    "    )\n",
    ")\n",
    "\n",
    "# Show the map\n",
    "fig.show()\n"
   ]
  },
  {
   "cell_type": "code",
   "execution_count": 30,
   "metadata": {},
   "outputs": [
    {
     "data": {
      "application/vnd.plotly.v1+json": {
       "config": {
        "plotlyServerURL": "https://plot.ly"
       },
       "data": [
        {
         "coloraxis": "coloraxis",
         "geo": "geo",
         "hovertemplate": "<b>%{hovertext}</b><br><br>Name=%{location}<br>2018/19=%{z}<extra></extra>",
         "hovertext": [
          "Argentina",
          "Australia",
          "Brazil",
          "China",
          "Colombia",
          "Egypt",
          "El_Salvador",
          "European_Union",
          "Guatemala",
          "India",
          "Indonesia",
          "Iran",
          "Japan",
          "Mexico",
          "Other",
          "Pakistan",
          "Peru",
          "Philippines",
          "Russia",
          "South_Africa",
          "Thailand",
          "Total",
          "Turkey",
          "Ukraine",
          "United_Kingdom",
          "United_States",
          "Vietnam"
         ],
         "locationmode": "country names",
         "locations": [
          "Argentina",
          "Australia",
          "Brazil",
          "China",
          "Colombia",
          "Egypt",
          "El_Salvador",
          "European_Union",
          "Guatemala",
          "India",
          "Indonesia",
          "Iran",
          "Japan",
          "Mexico",
          "Other",
          "Pakistan",
          "Peru",
          "Philippines",
          "Russia",
          "South_Africa",
          "Thailand",
          "Total",
          "Turkey",
          "Ukraine",
          "United_Kingdom",
          "United_States",
          "Vietnam"
         ],
         "name": "",
         "type": "choropleth",
         "z": [
          1570,
          4725,
          29500,
          10760,
          2400,
          2405,
          788,
          16750,
          2966,
          34300,
          2200,
          1520,
          780,
          6812,
          15082,
          5270,
          1262,
          2100,
          6080,
          2257,
          14581,
          179158,
          2700,
          1753,
          1133,
          8164,
          1300
         ]
        }
       ],
       "layout": {
        "coloraxis": {
         "colorbar": {
          "title": {
           "text": "2018/19"
          }
         },
         "colorscale": [
          [
           0,
           "#440154"
          ],
          [
           0.1111111111111111,
           "#482878"
          ],
          [
           0.2222222222222222,
           "#3e4989"
          ],
          [
           0.3333333333333333,
           "#31688e"
          ],
          [
           0.4444444444444444,
           "#26828e"
          ],
          [
           0.5555555555555556,
           "#1f9e89"
          ],
          [
           0.6666666666666666,
           "#35b779"
          ],
          [
           0.7777777777777778,
           "#6ece58"
          ],
          [
           0.8888888888888888,
           "#b5de2b"
          ],
          [
           1,
           "#fde725"
          ]
         ]
        },
        "geo": {
         "center": {},
         "coastlinecolor": "Black",
         "domain": {
          "x": [
           0,
           1
          ],
          "y": [
           0,
           1
          ]
         },
         "landcolor": "white",
         "projection": {
          "type": "natural earth"
         },
         "showcoastlines": true,
         "showland": true
        },
        "legend": {
         "tracegroupgap": 0
        },
        "sliders": [
         {
          "active": 0,
          "steps": [
           {
            "args": [
             {
              "visible": [
               true,
               false,
               false,
               false,
               false
              ]
             },
             {
              "title": "Global Sugar Porduction by Country (2018/19)"
             }
            ],
            "label": "2018/19",
            "method": "update"
           },
           {
            "args": [
             {
              "visible": [
               true,
               true,
               false,
               false,
               false
              ]
             },
             {
              "title": "Global Sugar Porduction by Country (2019/20)"
             }
            ],
            "label": "2019/20",
            "method": "update"
           },
           {
            "args": [
             {
              "visible": [
               true,
               false,
               true,
               false,
               false
              ]
             },
             {
              "title": "Global Sugar Porduction by Country (2020/21)"
             }
            ],
            "label": "2020/21",
            "method": "update"
           },
           {
            "args": [
             {
              "visible": [
               true,
               false,
               false,
               true,
               false
              ]
             },
             {
              "title": "Global Sugar Porduction by Country (2021/22)"
             }
            ],
            "label": "2021/22",
            "method": "update"
           },
           {
            "args": [
             {
              "visible": [
               true,
               false,
               false,
               false,
               true
              ]
             },
             {
              "title": "Global Sugar Porduction by Country (2022/23)"
             }
            ],
            "label": "2022/23",
            "method": "update"
           }
          ]
         }
        ],
        "template": {
         "data": {
          "bar": [
           {
            "error_x": {
             "color": "#2a3f5f"
            },
            "error_y": {
             "color": "#2a3f5f"
            },
            "marker": {
             "line": {
              "color": "#E5ECF6",
              "width": 0.5
             },
             "pattern": {
              "fillmode": "overlay",
              "size": 10,
              "solidity": 0.2
             }
            },
            "type": "bar"
           }
          ],
          "barpolar": [
           {
            "marker": {
             "line": {
              "color": "#E5ECF6",
              "width": 0.5
             },
             "pattern": {
              "fillmode": "overlay",
              "size": 10,
              "solidity": 0.2
             }
            },
            "type": "barpolar"
           }
          ],
          "carpet": [
           {
            "aaxis": {
             "endlinecolor": "#2a3f5f",
             "gridcolor": "white",
             "linecolor": "white",
             "minorgridcolor": "white",
             "startlinecolor": "#2a3f5f"
            },
            "baxis": {
             "endlinecolor": "#2a3f5f",
             "gridcolor": "white",
             "linecolor": "white",
             "minorgridcolor": "white",
             "startlinecolor": "#2a3f5f"
            },
            "type": "carpet"
           }
          ],
          "choropleth": [
           {
            "colorbar": {
             "outlinewidth": 0,
             "ticks": ""
            },
            "type": "choropleth"
           }
          ],
          "contour": [
           {
            "colorbar": {
             "outlinewidth": 0,
             "ticks": ""
            },
            "colorscale": [
             [
              0,
              "#0d0887"
             ],
             [
              0.1111111111111111,
              "#46039f"
             ],
             [
              0.2222222222222222,
              "#7201a8"
             ],
             [
              0.3333333333333333,
              "#9c179e"
             ],
             [
              0.4444444444444444,
              "#bd3786"
             ],
             [
              0.5555555555555556,
              "#d8576b"
             ],
             [
              0.6666666666666666,
              "#ed7953"
             ],
             [
              0.7777777777777778,
              "#fb9f3a"
             ],
             [
              0.8888888888888888,
              "#fdca26"
             ],
             [
              1,
              "#f0f921"
             ]
            ],
            "type": "contour"
           }
          ],
          "contourcarpet": [
           {
            "colorbar": {
             "outlinewidth": 0,
             "ticks": ""
            },
            "type": "contourcarpet"
           }
          ],
          "heatmap": [
           {
            "colorbar": {
             "outlinewidth": 0,
             "ticks": ""
            },
            "colorscale": [
             [
              0,
              "#0d0887"
             ],
             [
              0.1111111111111111,
              "#46039f"
             ],
             [
              0.2222222222222222,
              "#7201a8"
             ],
             [
              0.3333333333333333,
              "#9c179e"
             ],
             [
              0.4444444444444444,
              "#bd3786"
             ],
             [
              0.5555555555555556,
              "#d8576b"
             ],
             [
              0.6666666666666666,
              "#ed7953"
             ],
             [
              0.7777777777777778,
              "#fb9f3a"
             ],
             [
              0.8888888888888888,
              "#fdca26"
             ],
             [
              1,
              "#f0f921"
             ]
            ],
            "type": "heatmap"
           }
          ],
          "heatmapgl": [
           {
            "colorbar": {
             "outlinewidth": 0,
             "ticks": ""
            },
            "colorscale": [
             [
              0,
              "#0d0887"
             ],
             [
              0.1111111111111111,
              "#46039f"
             ],
             [
              0.2222222222222222,
              "#7201a8"
             ],
             [
              0.3333333333333333,
              "#9c179e"
             ],
             [
              0.4444444444444444,
              "#bd3786"
             ],
             [
              0.5555555555555556,
              "#d8576b"
             ],
             [
              0.6666666666666666,
              "#ed7953"
             ],
             [
              0.7777777777777778,
              "#fb9f3a"
             ],
             [
              0.8888888888888888,
              "#fdca26"
             ],
             [
              1,
              "#f0f921"
             ]
            ],
            "type": "heatmapgl"
           }
          ],
          "histogram": [
           {
            "marker": {
             "pattern": {
              "fillmode": "overlay",
              "size": 10,
              "solidity": 0.2
             }
            },
            "type": "histogram"
           }
          ],
          "histogram2d": [
           {
            "colorbar": {
             "outlinewidth": 0,
             "ticks": ""
            },
            "colorscale": [
             [
              0,
              "#0d0887"
             ],
             [
              0.1111111111111111,
              "#46039f"
             ],
             [
              0.2222222222222222,
              "#7201a8"
             ],
             [
              0.3333333333333333,
              "#9c179e"
             ],
             [
              0.4444444444444444,
              "#bd3786"
             ],
             [
              0.5555555555555556,
              "#d8576b"
             ],
             [
              0.6666666666666666,
              "#ed7953"
             ],
             [
              0.7777777777777778,
              "#fb9f3a"
             ],
             [
              0.8888888888888888,
              "#fdca26"
             ],
             [
              1,
              "#f0f921"
             ]
            ],
            "type": "histogram2d"
           }
          ],
          "histogram2dcontour": [
           {
            "colorbar": {
             "outlinewidth": 0,
             "ticks": ""
            },
            "colorscale": [
             [
              0,
              "#0d0887"
             ],
             [
              0.1111111111111111,
              "#46039f"
             ],
             [
              0.2222222222222222,
              "#7201a8"
             ],
             [
              0.3333333333333333,
              "#9c179e"
             ],
             [
              0.4444444444444444,
              "#bd3786"
             ],
             [
              0.5555555555555556,
              "#d8576b"
             ],
             [
              0.6666666666666666,
              "#ed7953"
             ],
             [
              0.7777777777777778,
              "#fb9f3a"
             ],
             [
              0.8888888888888888,
              "#fdca26"
             ],
             [
              1,
              "#f0f921"
             ]
            ],
            "type": "histogram2dcontour"
           }
          ],
          "mesh3d": [
           {
            "colorbar": {
             "outlinewidth": 0,
             "ticks": ""
            },
            "type": "mesh3d"
           }
          ],
          "parcoords": [
           {
            "line": {
             "colorbar": {
              "outlinewidth": 0,
              "ticks": ""
             }
            },
            "type": "parcoords"
           }
          ],
          "pie": [
           {
            "automargin": true,
            "type": "pie"
           }
          ],
          "scatter": [
           {
            "fillpattern": {
             "fillmode": "overlay",
             "size": 10,
             "solidity": 0.2
            },
            "type": "scatter"
           }
          ],
          "scatter3d": [
           {
            "line": {
             "colorbar": {
              "outlinewidth": 0,
              "ticks": ""
             }
            },
            "marker": {
             "colorbar": {
              "outlinewidth": 0,
              "ticks": ""
             }
            },
            "type": "scatter3d"
           }
          ],
          "scattercarpet": [
           {
            "marker": {
             "colorbar": {
              "outlinewidth": 0,
              "ticks": ""
             }
            },
            "type": "scattercarpet"
           }
          ],
          "scattergeo": [
           {
            "marker": {
             "colorbar": {
              "outlinewidth": 0,
              "ticks": ""
             }
            },
            "type": "scattergeo"
           }
          ],
          "scattergl": [
           {
            "marker": {
             "colorbar": {
              "outlinewidth": 0,
              "ticks": ""
             }
            },
            "type": "scattergl"
           }
          ],
          "scattermapbox": [
           {
            "marker": {
             "colorbar": {
              "outlinewidth": 0,
              "ticks": ""
             }
            },
            "type": "scattermapbox"
           }
          ],
          "scatterpolar": [
           {
            "marker": {
             "colorbar": {
              "outlinewidth": 0,
              "ticks": ""
             }
            },
            "type": "scatterpolar"
           }
          ],
          "scatterpolargl": [
           {
            "marker": {
             "colorbar": {
              "outlinewidth": 0,
              "ticks": ""
             }
            },
            "type": "scatterpolargl"
           }
          ],
          "scatterternary": [
           {
            "marker": {
             "colorbar": {
              "outlinewidth": 0,
              "ticks": ""
             }
            },
            "type": "scatterternary"
           }
          ],
          "surface": [
           {
            "colorbar": {
             "outlinewidth": 0,
             "ticks": ""
            },
            "colorscale": [
             [
              0,
              "#0d0887"
             ],
             [
              0.1111111111111111,
              "#46039f"
             ],
             [
              0.2222222222222222,
              "#7201a8"
             ],
             [
              0.3333333333333333,
              "#9c179e"
             ],
             [
              0.4444444444444444,
              "#bd3786"
             ],
             [
              0.5555555555555556,
              "#d8576b"
             ],
             [
              0.6666666666666666,
              "#ed7953"
             ],
             [
              0.7777777777777778,
              "#fb9f3a"
             ],
             [
              0.8888888888888888,
              "#fdca26"
             ],
             [
              1,
              "#f0f921"
             ]
            ],
            "type": "surface"
           }
          ],
          "table": [
           {
            "cells": {
             "fill": {
              "color": "#EBF0F8"
             },
             "line": {
              "color": "white"
             }
            },
            "header": {
             "fill": {
              "color": "#C8D4E3"
             },
             "line": {
              "color": "white"
             }
            },
            "type": "table"
           }
          ]
         },
         "layout": {
          "annotationdefaults": {
           "arrowcolor": "#2a3f5f",
           "arrowhead": 0,
           "arrowwidth": 1
          },
          "autotypenumbers": "strict",
          "coloraxis": {
           "colorbar": {
            "outlinewidth": 0,
            "ticks": ""
           }
          },
          "colorscale": {
           "diverging": [
            [
             0,
             "#8e0152"
            ],
            [
             0.1,
             "#c51b7d"
            ],
            [
             0.2,
             "#de77ae"
            ],
            [
             0.3,
             "#f1b6da"
            ],
            [
             0.4,
             "#fde0ef"
            ],
            [
             0.5,
             "#f7f7f7"
            ],
            [
             0.6,
             "#e6f5d0"
            ],
            [
             0.7,
             "#b8e186"
            ],
            [
             0.8,
             "#7fbc41"
            ],
            [
             0.9,
             "#4d9221"
            ],
            [
             1,
             "#276419"
            ]
           ],
           "sequential": [
            [
             0,
             "#0d0887"
            ],
            [
             0.1111111111111111,
             "#46039f"
            ],
            [
             0.2222222222222222,
             "#7201a8"
            ],
            [
             0.3333333333333333,
             "#9c179e"
            ],
            [
             0.4444444444444444,
             "#bd3786"
            ],
            [
             0.5555555555555556,
             "#d8576b"
            ],
            [
             0.6666666666666666,
             "#ed7953"
            ],
            [
             0.7777777777777778,
             "#fb9f3a"
            ],
            [
             0.8888888888888888,
             "#fdca26"
            ],
            [
             1,
             "#f0f921"
            ]
           ],
           "sequentialminus": [
            [
             0,
             "#0d0887"
            ],
            [
             0.1111111111111111,
             "#46039f"
            ],
            [
             0.2222222222222222,
             "#7201a8"
            ],
            [
             0.3333333333333333,
             "#9c179e"
            ],
            [
             0.4444444444444444,
             "#bd3786"
            ],
            [
             0.5555555555555556,
             "#d8576b"
            ],
            [
             0.6666666666666666,
             "#ed7953"
            ],
            [
             0.7777777777777778,
             "#fb9f3a"
            ],
            [
             0.8888888888888888,
             "#fdca26"
            ],
            [
             1,
             "#f0f921"
            ]
           ]
          },
          "colorway": [
           "#636efa",
           "#EF553B",
           "#00cc96",
           "#ab63fa",
           "#FFA15A",
           "#19d3f3",
           "#FF6692",
           "#B6E880",
           "#FF97FF",
           "#FECB52"
          ],
          "font": {
           "color": "#2a3f5f"
          },
          "geo": {
           "bgcolor": "white",
           "lakecolor": "white",
           "landcolor": "#E5ECF6",
           "showlakes": true,
           "showland": true,
           "subunitcolor": "white"
          },
          "hoverlabel": {
           "align": "left"
          },
          "hovermode": "closest",
          "mapbox": {
           "style": "light"
          },
          "paper_bgcolor": "white",
          "plot_bgcolor": "#E5ECF6",
          "polar": {
           "angularaxis": {
            "gridcolor": "white",
            "linecolor": "white",
            "ticks": ""
           },
           "bgcolor": "#E5ECF6",
           "radialaxis": {
            "gridcolor": "white",
            "linecolor": "white",
            "ticks": ""
           }
          },
          "scene": {
           "xaxis": {
            "backgroundcolor": "#E5ECF6",
            "gridcolor": "white",
            "gridwidth": 2,
            "linecolor": "white",
            "showbackground": true,
            "ticks": "",
            "zerolinecolor": "white"
           },
           "yaxis": {
            "backgroundcolor": "#E5ECF6",
            "gridcolor": "white",
            "gridwidth": 2,
            "linecolor": "white",
            "showbackground": true,
            "ticks": "",
            "zerolinecolor": "white"
           },
           "zaxis": {
            "backgroundcolor": "#E5ECF6",
            "gridcolor": "white",
            "gridwidth": 2,
            "linecolor": "white",
            "showbackground": true,
            "ticks": "",
            "zerolinecolor": "white"
           }
          },
          "shapedefaults": {
           "line": {
            "color": "#2a3f5f"
           }
          },
          "ternary": {
           "aaxis": {
            "gridcolor": "white",
            "linecolor": "white",
            "ticks": ""
           },
           "baxis": {
            "gridcolor": "white",
            "linecolor": "white",
            "ticks": ""
           },
           "bgcolor": "#E5ECF6",
           "caxis": {
            "gridcolor": "white",
            "linecolor": "white",
            "ticks": ""
           }
          },
          "title": {
           "x": 0.05
          },
          "xaxis": {
           "automargin": true,
           "gridcolor": "white",
           "linecolor": "white",
           "ticks": "",
           "title": {
            "standoff": 15
           },
           "zerolinecolor": "white",
           "zerolinewidth": 2
          },
          "yaxis": {
           "automargin": true,
           "gridcolor": "white",
           "linecolor": "white",
           "ticks": "",
           "title": {
            "standoff": 15
           },
           "zerolinecolor": "white",
           "zerolinewidth": 2
          }
         }
        },
        "title": {
         "text": "Global Sugar Prodcution by Country (2018/19)"
        }
       }
      }
     },
     "metadata": {},
     "output_type": "display_data"
    }
   ],
   "source": [
    "import pandas as pd\n",
    "import plotly.express as px\n",
    "\n",
    "# Create a choropleth map with a slider\n",
    "def create_choropleth(prod, year):\n",
    "    fig = px.choropleth(\n",
    "        prod,\n",
    "        locations=\"Name\",\n",
    "        locationmode=\"country names\",\n",
    "        color=year,\n",
    "        hover_name=\"Name\",\n",
    "        title=f\"Global Sugar Prodcution by Country ({year})\",\n",
    "        projection=\"natural earth\",\n",
    "        color_continuous_scale=\"Viridis\"\n",
    "    )\n",
    "\n",
    "    return fig\n",
    "\n",
    "# Initialize with the first year (2018/19)\n",
    "initial_year = prod.columns[2]\n",
    "fig = create_choropleth(prod, initial_year)\n",
    "\n",
    "# Add a slider for years\n",
    "year_columns = prod.columns[2:7]\n",
    "visible_traces = [False] * len(year_columns)\n",
    "visible_traces[0] = True\n",
    "\n",
    "steps = []\n",
    "for i, year in enumerate(year_columns):\n",
    "    step = {\n",
    "        \"args\": [\n",
    "            {\"visible\": visible_traces[:i] + [True] + visible_traces[i+1:]},\n",
    "            {\"title\": f\"Global Sugar Porduction by Country ({year})\"}\n",
    "        ],\n",
    "        \"label\": year,\n",
    "        \"method\": \"update\",\n",
    "    }\n",
    "    steps.append(step)\n",
    "\n",
    "sliders = [dict(\n",
    "    active=0,\n",
    "    steps=steps\n",
    ")]\n",
    "\n",
    "# Update layout\n",
    "fig.update_layout(\n",
    "    sliders=sliders,\n",
    "    geo=dict(\n",
    "        showcoastlines=True,\n",
    "        coastlinecolor=\"Black\",\n",
    "        showland=True,\n",
    "        landcolor=\"white\"\n",
    "    )\n",
    ")\n",
    "\n",
    "# Show the map\n",
    "fig.show()\n"
   ]
  },
  {
   "cell_type": "markdown",
   "metadata": {},
   "source": [
    "Majors consumidors de sucre a nivell mundial seogns la mitjana des de 2018"
   ]
  },
  {
   "cell_type": "code",
   "execution_count": 85,
   "metadata": {},
   "outputs": [
    {
     "data": {
      "application/vnd.plotly.v1+json": {
       "config": {
        "plotlyServerURL": "https://plot.ly"
       },
       "data": [
        {
         "alignmentgroup": "True",
         "hovertemplate": "Name=%{y}<br>Mean=%{x}<extra></extra>",
         "legendgroup": "Other",
         "marker": {
          "color": "rgb(247,252,245)",
          "pattern": {
           "shape": ""
          }
         },
         "name": "Other",
         "offsetgroup": "Other",
         "orientation": "h",
         "showlegend": true,
         "textposition": "outside",
         "texttemplate": "%{x}",
         "type": "bar",
         "x": [
          33275
         ],
         "xaxis": "x",
         "y": [
          "Other"
         ],
         "yaxis": "y"
        },
        {
         "alignmentgroup": "True",
         "hovertemplate": "Name=%{y}<br>Mean=%{x}<extra></extra>",
         "legendgroup": "India",
         "marker": {
          "color": "rgb(229,245,224)",
          "pattern": {
           "shape": ""
          }
         },
         "name": "India",
         "offsetgroup": "India",
         "orientation": "h",
         "showlegend": true,
         "textposition": "outside",
         "texttemplate": "%{x}",
         "type": "bar",
         "x": [
          27875
         ],
         "xaxis": "x",
         "y": [
          "India"
         ],
         "yaxis": "y"
        },
        {
         "alignmentgroup": "True",
         "hovertemplate": "Name=%{y}<br>Mean=%{x}<extra></extra>",
         "legendgroup": "China",
         "marker": {
          "color": "rgb(199,233,192)",
          "pattern": {
           "shape": ""
          }
         },
         "name": "China",
         "offsetgroup": "China",
         "orientation": "h",
         "showlegend": true,
         "textposition": "outside",
         "texttemplate": "%{x}",
         "type": "bar",
         "x": [
          15375
         ],
         "xaxis": "x",
         "y": [
          "China"
         ],
         "yaxis": "y"
        },
        {
         "alignmentgroup": "True",
         "hovertemplate": "Name=%{y}<br>Mean=%{x}<extra></extra>",
         "legendgroup": "Brazil",
         "marker": {
          "color": "rgb(161,217,155)",
          "pattern": {
           "shape": ""
          }
         },
         "name": "Brazil",
         "offsetgroup": "Brazil",
         "orientation": "h",
         "showlegend": true,
         "textposition": "outside",
         "texttemplate": "%{x}",
         "type": "bar",
         "x": [
          10225
         ],
         "xaxis": "x",
         "y": [
          "Brazil"
         ],
         "yaxis": "y"
        },
        {
         "alignmentgroup": "True",
         "hovertemplate": "Name=%{y}<br>Mean=%{x}<extra></extra>",
         "legendgroup": "Indonesia",
         "marker": {
          "color": "rgb(116,196,118)",
          "pattern": {
           "shape": ""
          }
         },
         "name": "Indonesia",
         "offsetgroup": "Indonesia",
         "orientation": "h",
         "showlegend": true,
         "textposition": "outside",
         "texttemplate": "%{x}",
         "type": "bar",
         "x": [
          7364
         ],
         "xaxis": "x",
         "y": [
          "Indonesia"
         ],
         "yaxis": "y"
        },
        {
         "alignmentgroup": "True",
         "hovertemplate": "Name=%{y}<br>Mean=%{x}<extra></extra>",
         "legendgroup": "Russia",
         "marker": {
          "color": "rgb(65,171,93)",
          "pattern": {
           "shape": ""
          }
         },
         "name": "Russia",
         "offsetgroup": "Russia",
         "orientation": "h",
         "showlegend": true,
         "textposition": "outside",
         "texttemplate": "%{x}",
         "type": "bar",
         "x": [
          6271
         ],
         "xaxis": "x",
         "y": [
          "Russia"
         ],
         "yaxis": "y"
        },
        {
         "alignmentgroup": "True",
         "hovertemplate": "Name=%{y}<br>Mean=%{x}<extra></extra>",
         "legendgroup": "Pakistan",
         "marker": {
          "color": "rgb(35,139,69)",
          "pattern": {
           "shape": ""
          }
         },
         "name": "Pakistan",
         "offsetgroup": "Pakistan",
         "orientation": "h",
         "showlegend": true,
         "textposition": "outside",
         "texttemplate": "%{x}",
         "type": "bar",
         "x": [
          5672.5
         ],
         "xaxis": "x",
         "y": [
          "Pakistan"
         ],
         "yaxis": "y"
        },
        {
         "alignmentgroup": "True",
         "hovertemplate": "Name=%{y}<br>Mean=%{x}<extra></extra>",
         "legendgroup": "Mexico",
         "marker": {
          "color": "rgb(0,109,44)",
          "pattern": {
           "shape": ""
          }
         },
         "name": "Mexico",
         "offsetgroup": "Mexico",
         "orientation": "h",
         "showlegend": true,
         "textposition": "outside",
         "texttemplate": "%{x}",
         "type": "bar",
         "x": [
          4294.75
         ],
         "xaxis": "x",
         "y": [
          "Mexico"
         ],
         "yaxis": "y"
        },
        {
         "alignmentgroup": "True",
         "hovertemplate": "Name=%{y}<br>Mean=%{x}<extra></extra>",
         "legendgroup": "Egypt",
         "marker": {
          "color": "rgb(0,68,27)",
          "pattern": {
           "shape": ""
          }
         },
         "name": "Egypt",
         "offsetgroup": "Egypt",
         "orientation": "h",
         "showlegend": true,
         "textposition": "outside",
         "texttemplate": "%{x}",
         "type": "bar",
         "x": [
          3280
         ],
         "xaxis": "x",
         "y": [
          "Egypt"
         ],
         "yaxis": "y"
        },
        {
         "alignmentgroup": "True",
         "hovertemplate": "Name=%{y}<br>Mean=%{x}<extra></extra>",
         "legendgroup": "Turkey",
         "marker": {
          "color": "rgb(247,252,245)",
          "pattern": {
           "shape": ""
          }
         },
         "name": "Turkey",
         "offsetgroup": "Turkey",
         "orientation": "h",
         "showlegend": true,
         "textposition": "outside",
         "texttemplate": "%{x}",
         "type": "bar",
         "x": [
          2929.25
         ],
         "xaxis": "x",
         "y": [
          "Turkey"
         ],
         "yaxis": "y"
        },
        {
         "alignmentgroup": "True",
         "hovertemplate": "Name=%{y}<br>Mean=%{x}<extra></extra>",
         "legendgroup": "Thailand",
         "marker": {
          "color": "rgb(229,245,224)",
          "pattern": {
           "shape": ""
          }
         },
         "name": "Thailand",
         "offsetgroup": "Thailand",
         "orientation": "h",
         "showlegend": true,
         "textposition": "outside",
         "texttemplate": "%{x}",
         "type": "bar",
         "x": [
          2547.5
         ],
         "xaxis": "x",
         "y": [
          "Thailand"
         ],
         "yaxis": "y"
        },
        {
         "alignmentgroup": "True",
         "hovertemplate": "Name=%{y}<br>Mean=%{x}<extra></extra>",
         "legendgroup": "Bangladesh",
         "marker": {
          "color": "rgb(199,233,192)",
          "pattern": {
           "shape": ""
          }
         },
         "name": "Bangladesh",
         "offsetgroup": "Bangladesh",
         "orientation": "h",
         "showlegend": true,
         "textposition": "outside",
         "texttemplate": "%{x}",
         "type": "bar",
         "x": [
          2546
         ],
         "xaxis": "x",
         "y": [
          "Bangladesh"
         ],
         "yaxis": "y"
        },
        {
         "alignmentgroup": "True",
         "hovertemplate": "Name=%{y}<br>Mean=%{x}<extra></extra>",
         "legendgroup": "Iran",
         "marker": {
          "color": "rgb(161,217,155)",
          "pattern": {
           "shape": ""
          }
         },
         "name": "Iran",
         "offsetgroup": "Iran",
         "orientation": "h",
         "showlegend": true,
         "textposition": "outside",
         "texttemplate": "%{x}",
         "type": "bar",
         "x": [
          2515
         ],
         "xaxis": "x",
         "y": [
          "Iran"
         ],
         "yaxis": "y"
        },
        {
         "alignmentgroup": "True",
         "hovertemplate": "Name=%{y}<br>Mean=%{x}<extra></extra>",
         "legendgroup": "Philippines",
         "marker": {
          "color": "rgb(116,196,118)",
          "pattern": {
           "shape": ""
          }
         },
         "name": "Philippines",
         "offsetgroup": "Philippines",
         "orientation": "h",
         "showlegend": true,
         "textposition": "outside",
         "texttemplate": "%{x}",
         "type": "bar",
         "x": [
          2293.75
         ],
         "xaxis": "x",
         "y": [
          "Philippines"
         ],
         "yaxis": "y"
        },
        {
         "alignmentgroup": "True",
         "hovertemplate": "Name=%{y}<br>Mean=%{x}<extra></extra>",
         "legendgroup": "Algeria",
         "marker": {
          "color": "rgb(65,171,93)",
          "pattern": {
           "shape": ""
          }
         },
         "name": "Algeria",
         "offsetgroup": "Algeria",
         "orientation": "h",
         "showlegend": true,
         "textposition": "outside",
         "texttemplate": "%{x}",
         "type": "bar",
         "x": [
          2007.25
         ],
         "xaxis": "x",
         "y": [
          "Algeria"
         ],
         "yaxis": "y"
        },
        {
         "alignmentgroup": "True",
         "hovertemplate": "Name=%{y}<br>Mean=%{x}<extra></extra>",
         "legendgroup": "Vietnam",
         "marker": {
          "color": "rgb(35,139,69)",
          "pattern": {
           "shape": ""
          }
         },
         "name": "Vietnam",
         "offsetgroup": "Vietnam",
         "orientation": "h",
         "showlegend": true,
         "textposition": "outside",
         "texttemplate": "%{x}",
         "type": "bar",
         "x": [
          2001
         ],
         "xaxis": "x",
         "y": [
          "Vietnam"
         ],
         "yaxis": "y"
        },
        {
         "alignmentgroup": "True",
         "hovertemplate": "Name=%{y}<br>Mean=%{x}<extra></extra>",
         "legendgroup": "Japan",
         "marker": {
          "color": "rgb(0,109,44)",
          "pattern": {
           "shape": ""
          }
         },
         "name": "Japan",
         "offsetgroup": "Japan",
         "orientation": "h",
         "showlegend": true,
         "textposition": "outside",
         "texttemplate": "%{x}",
         "type": "bar",
         "x": [
          1913.75
         ],
         "xaxis": "x",
         "y": [
          "Japan"
         ],
         "yaxis": "y"
        },
        {
         "alignmentgroup": "True",
         "hovertemplate": "Name=%{y}<br>Mean=%{x}<extra></extra>",
         "legendgroup": "Colombia",
         "marker": {
          "color": "rgb(0,68,27)",
          "pattern": {
           "shape": ""
          }
         },
         "name": "Colombia",
         "offsetgroup": "Colombia",
         "orientation": "h",
         "showlegend": true,
         "textposition": "outside",
         "texttemplate": "%{x}",
         "type": "bar",
         "x": [
          1858.75
         ],
         "xaxis": "x",
         "y": [
          "Colombia"
         ],
         "yaxis": "y"
        },
        {
         "alignmentgroup": "True",
         "hovertemplate": "Name=%{y}<br>Mean=%{x}<extra></extra>",
         "legendgroup": "Malaysia",
         "marker": {
          "color": "rgb(247,252,245)",
          "pattern": {
           "shape": ""
          }
         },
         "name": "Malaysia",
         "offsetgroup": "Malaysia",
         "orientation": "h",
         "showlegend": true,
         "textposition": "outside",
         "texttemplate": "%{x}",
         "type": "bar",
         "x": [
          1841.5
         ],
         "xaxis": "x",
         "y": [
          "Malaysia"
         ],
         "yaxis": "y"
        },
        {
         "alignmentgroup": "True",
         "hovertemplate": "Name=%{y}<br>Mean=%{x}<extra></extra>",
         "legendgroup": "Sudan",
         "marker": {
          "color": "rgb(229,245,224)",
          "pattern": {
           "shape": ""
          }
         },
         "name": "Sudan",
         "offsetgroup": "Sudan",
         "orientation": "h",
         "showlegend": true,
         "textposition": "outside",
         "texttemplate": "%{x}",
         "type": "bar",
         "x": [
          1725.75
         ],
         "xaxis": "x",
         "y": [
          "Sudan"
         ],
         "yaxis": "y"
        },
        {
         "alignmentgroup": "True",
         "hovertemplate": "Name=%{y}<br>Mean=%{x}<extra></extra>",
         "legendgroup": "Nigeria",
         "marker": {
          "color": "rgb(199,233,192)",
          "pattern": {
           "shape": ""
          }
         },
         "name": "Nigeria",
         "offsetgroup": "Nigeria",
         "orientation": "h",
         "showlegend": true,
         "textposition": "outside",
         "texttemplate": "%{x}",
         "type": "bar",
         "x": [
          1610
         ],
         "xaxis": "x",
         "y": [
          "Nigeria"
         ],
         "yaxis": "y"
        },
        {
         "alignmentgroup": "True",
         "hovertemplate": "Name=%{y}<br>Mean=%{x}<extra></extra>",
         "legendgroup": "Ethiopia",
         "marker": {
          "color": "rgb(161,217,155)",
          "pattern": {
           "shape": ""
          }
         },
         "name": "Ethiopia",
         "offsetgroup": "Ethiopia",
         "orientation": "h",
         "showlegend": true,
         "textposition": "outside",
         "texttemplate": "%{x}",
         "type": "bar",
         "x": [
          1329.5
         ],
         "xaxis": "x",
         "y": [
          "Ethiopia"
         ],
         "yaxis": "y"
        }
       ],
       "layout": {
        "barmode": "relative",
        "height": 600,
        "legend": {
         "title": {
          "text": "Name"
         },
         "tracegroupgap": 0
        },
        "margin": {
         "l": 10
        },
        "showlegend": false,
        "template": {
         "data": {
          "bar": [
           {
            "error_x": {
             "color": "rgb(36,36,36)"
            },
            "error_y": {
             "color": "rgb(36,36,36)"
            },
            "marker": {
             "line": {
              "color": "white",
              "width": 0.5
             },
             "pattern": {
              "fillmode": "overlay",
              "size": 10,
              "solidity": 0.2
             }
            },
            "type": "bar"
           }
          ],
          "barpolar": [
           {
            "marker": {
             "line": {
              "color": "white",
              "width": 0.5
             },
             "pattern": {
              "fillmode": "overlay",
              "size": 10,
              "solidity": 0.2
             }
            },
            "type": "barpolar"
           }
          ],
          "carpet": [
           {
            "aaxis": {
             "endlinecolor": "rgb(36,36,36)",
             "gridcolor": "white",
             "linecolor": "white",
             "minorgridcolor": "white",
             "startlinecolor": "rgb(36,36,36)"
            },
            "baxis": {
             "endlinecolor": "rgb(36,36,36)",
             "gridcolor": "white",
             "linecolor": "white",
             "minorgridcolor": "white",
             "startlinecolor": "rgb(36,36,36)"
            },
            "type": "carpet"
           }
          ],
          "choropleth": [
           {
            "colorbar": {
             "outlinewidth": 1,
             "tickcolor": "rgb(36,36,36)",
             "ticks": "outside"
            },
            "type": "choropleth"
           }
          ],
          "contour": [
           {
            "colorbar": {
             "outlinewidth": 1,
             "tickcolor": "rgb(36,36,36)",
             "ticks": "outside"
            },
            "colorscale": [
             [
              0,
              "#440154"
             ],
             [
              0.1111111111111111,
              "#482878"
             ],
             [
              0.2222222222222222,
              "#3e4989"
             ],
             [
              0.3333333333333333,
              "#31688e"
             ],
             [
              0.4444444444444444,
              "#26828e"
             ],
             [
              0.5555555555555556,
              "#1f9e89"
             ],
             [
              0.6666666666666666,
              "#35b779"
             ],
             [
              0.7777777777777778,
              "#6ece58"
             ],
             [
              0.8888888888888888,
              "#b5de2b"
             ],
             [
              1,
              "#fde725"
             ]
            ],
            "type": "contour"
           }
          ],
          "contourcarpet": [
           {
            "colorbar": {
             "outlinewidth": 1,
             "tickcolor": "rgb(36,36,36)",
             "ticks": "outside"
            },
            "type": "contourcarpet"
           }
          ],
          "heatmap": [
           {
            "colorbar": {
             "outlinewidth": 1,
             "tickcolor": "rgb(36,36,36)",
             "ticks": "outside"
            },
            "colorscale": [
             [
              0,
              "#440154"
             ],
             [
              0.1111111111111111,
              "#482878"
             ],
             [
              0.2222222222222222,
              "#3e4989"
             ],
             [
              0.3333333333333333,
              "#31688e"
             ],
             [
              0.4444444444444444,
              "#26828e"
             ],
             [
              0.5555555555555556,
              "#1f9e89"
             ],
             [
              0.6666666666666666,
              "#35b779"
             ],
             [
              0.7777777777777778,
              "#6ece58"
             ],
             [
              0.8888888888888888,
              "#b5de2b"
             ],
             [
              1,
              "#fde725"
             ]
            ],
            "type": "heatmap"
           }
          ],
          "heatmapgl": [
           {
            "colorbar": {
             "outlinewidth": 1,
             "tickcolor": "rgb(36,36,36)",
             "ticks": "outside"
            },
            "colorscale": [
             [
              0,
              "#440154"
             ],
             [
              0.1111111111111111,
              "#482878"
             ],
             [
              0.2222222222222222,
              "#3e4989"
             ],
             [
              0.3333333333333333,
              "#31688e"
             ],
             [
              0.4444444444444444,
              "#26828e"
             ],
             [
              0.5555555555555556,
              "#1f9e89"
             ],
             [
              0.6666666666666666,
              "#35b779"
             ],
             [
              0.7777777777777778,
              "#6ece58"
             ],
             [
              0.8888888888888888,
              "#b5de2b"
             ],
             [
              1,
              "#fde725"
             ]
            ],
            "type": "heatmapgl"
           }
          ],
          "histogram": [
           {
            "marker": {
             "line": {
              "color": "white",
              "width": 0.6
             }
            },
            "type": "histogram"
           }
          ],
          "histogram2d": [
           {
            "colorbar": {
             "outlinewidth": 1,
             "tickcolor": "rgb(36,36,36)",
             "ticks": "outside"
            },
            "colorscale": [
             [
              0,
              "#440154"
             ],
             [
              0.1111111111111111,
              "#482878"
             ],
             [
              0.2222222222222222,
              "#3e4989"
             ],
             [
              0.3333333333333333,
              "#31688e"
             ],
             [
              0.4444444444444444,
              "#26828e"
             ],
             [
              0.5555555555555556,
              "#1f9e89"
             ],
             [
              0.6666666666666666,
              "#35b779"
             ],
             [
              0.7777777777777778,
              "#6ece58"
             ],
             [
              0.8888888888888888,
              "#b5de2b"
             ],
             [
              1,
              "#fde725"
             ]
            ],
            "type": "histogram2d"
           }
          ],
          "histogram2dcontour": [
           {
            "colorbar": {
             "outlinewidth": 1,
             "tickcolor": "rgb(36,36,36)",
             "ticks": "outside"
            },
            "colorscale": [
             [
              0,
              "#440154"
             ],
             [
              0.1111111111111111,
              "#482878"
             ],
             [
              0.2222222222222222,
              "#3e4989"
             ],
             [
              0.3333333333333333,
              "#31688e"
             ],
             [
              0.4444444444444444,
              "#26828e"
             ],
             [
              0.5555555555555556,
              "#1f9e89"
             ],
             [
              0.6666666666666666,
              "#35b779"
             ],
             [
              0.7777777777777778,
              "#6ece58"
             ],
             [
              0.8888888888888888,
              "#b5de2b"
             ],
             [
              1,
              "#fde725"
             ]
            ],
            "type": "histogram2dcontour"
           }
          ],
          "mesh3d": [
           {
            "colorbar": {
             "outlinewidth": 1,
             "tickcolor": "rgb(36,36,36)",
             "ticks": "outside"
            },
            "type": "mesh3d"
           }
          ],
          "parcoords": [
           {
            "line": {
             "colorbar": {
              "outlinewidth": 1,
              "tickcolor": "rgb(36,36,36)",
              "ticks": "outside"
             }
            },
            "type": "parcoords"
           }
          ],
          "pie": [
           {
            "automargin": true,
            "type": "pie"
           }
          ],
          "scatter": [
           {
            "fillpattern": {
             "fillmode": "overlay",
             "size": 10,
             "solidity": 0.2
            },
            "type": "scatter"
           }
          ],
          "scatter3d": [
           {
            "line": {
             "colorbar": {
              "outlinewidth": 1,
              "tickcolor": "rgb(36,36,36)",
              "ticks": "outside"
             }
            },
            "marker": {
             "colorbar": {
              "outlinewidth": 1,
              "tickcolor": "rgb(36,36,36)",
              "ticks": "outside"
             }
            },
            "type": "scatter3d"
           }
          ],
          "scattercarpet": [
           {
            "marker": {
             "colorbar": {
              "outlinewidth": 1,
              "tickcolor": "rgb(36,36,36)",
              "ticks": "outside"
             }
            },
            "type": "scattercarpet"
           }
          ],
          "scattergeo": [
           {
            "marker": {
             "colorbar": {
              "outlinewidth": 1,
              "tickcolor": "rgb(36,36,36)",
              "ticks": "outside"
             }
            },
            "type": "scattergeo"
           }
          ],
          "scattergl": [
           {
            "marker": {
             "colorbar": {
              "outlinewidth": 1,
              "tickcolor": "rgb(36,36,36)",
              "ticks": "outside"
             }
            },
            "type": "scattergl"
           }
          ],
          "scattermapbox": [
           {
            "marker": {
             "colorbar": {
              "outlinewidth": 1,
              "tickcolor": "rgb(36,36,36)",
              "ticks": "outside"
             }
            },
            "type": "scattermapbox"
           }
          ],
          "scatterpolar": [
           {
            "marker": {
             "colorbar": {
              "outlinewidth": 1,
              "tickcolor": "rgb(36,36,36)",
              "ticks": "outside"
             }
            },
            "type": "scatterpolar"
           }
          ],
          "scatterpolargl": [
           {
            "marker": {
             "colorbar": {
              "outlinewidth": 1,
              "tickcolor": "rgb(36,36,36)",
              "ticks": "outside"
             }
            },
            "type": "scatterpolargl"
           }
          ],
          "scatterternary": [
           {
            "marker": {
             "colorbar": {
              "outlinewidth": 1,
              "tickcolor": "rgb(36,36,36)",
              "ticks": "outside"
             }
            },
            "type": "scatterternary"
           }
          ],
          "surface": [
           {
            "colorbar": {
             "outlinewidth": 1,
             "tickcolor": "rgb(36,36,36)",
             "ticks": "outside"
            },
            "colorscale": [
             [
              0,
              "#440154"
             ],
             [
              0.1111111111111111,
              "#482878"
             ],
             [
              0.2222222222222222,
              "#3e4989"
             ],
             [
              0.3333333333333333,
              "#31688e"
             ],
             [
              0.4444444444444444,
              "#26828e"
             ],
             [
              0.5555555555555556,
              "#1f9e89"
             ],
             [
              0.6666666666666666,
              "#35b779"
             ],
             [
              0.7777777777777778,
              "#6ece58"
             ],
             [
              0.8888888888888888,
              "#b5de2b"
             ],
             [
              1,
              "#fde725"
             ]
            ],
            "type": "surface"
           }
          ],
          "table": [
           {
            "cells": {
             "fill": {
              "color": "rgb(237,237,237)"
             },
             "line": {
              "color": "white"
             }
            },
            "header": {
             "fill": {
              "color": "rgb(217,217,217)"
             },
             "line": {
              "color": "white"
             }
            },
            "type": "table"
           }
          ]
         },
         "layout": {
          "annotationdefaults": {
           "arrowhead": 0,
           "arrowwidth": 1
          },
          "autotypenumbers": "strict",
          "coloraxis": {
           "colorbar": {
            "outlinewidth": 1,
            "tickcolor": "rgb(36,36,36)",
            "ticks": "outside"
           }
          },
          "colorscale": {
           "diverging": [
            [
             0,
             "rgb(103,0,31)"
            ],
            [
             0.1,
             "rgb(178,24,43)"
            ],
            [
             0.2,
             "rgb(214,96,77)"
            ],
            [
             0.3,
             "rgb(244,165,130)"
            ],
            [
             0.4,
             "rgb(253,219,199)"
            ],
            [
             0.5,
             "rgb(247,247,247)"
            ],
            [
             0.6,
             "rgb(209,229,240)"
            ],
            [
             0.7,
             "rgb(146,197,222)"
            ],
            [
             0.8,
             "rgb(67,147,195)"
            ],
            [
             0.9,
             "rgb(33,102,172)"
            ],
            [
             1,
             "rgb(5,48,97)"
            ]
           ],
           "sequential": [
            [
             0,
             "#440154"
            ],
            [
             0.1111111111111111,
             "#482878"
            ],
            [
             0.2222222222222222,
             "#3e4989"
            ],
            [
             0.3333333333333333,
             "#31688e"
            ],
            [
             0.4444444444444444,
             "#26828e"
            ],
            [
             0.5555555555555556,
             "#1f9e89"
            ],
            [
             0.6666666666666666,
             "#35b779"
            ],
            [
             0.7777777777777778,
             "#6ece58"
            ],
            [
             0.8888888888888888,
             "#b5de2b"
            ],
            [
             1,
             "#fde725"
            ]
           ],
           "sequentialminus": [
            [
             0,
             "#440154"
            ],
            [
             0.1111111111111111,
             "#482878"
            ],
            [
             0.2222222222222222,
             "#3e4989"
            ],
            [
             0.3333333333333333,
             "#31688e"
            ],
            [
             0.4444444444444444,
             "#26828e"
            ],
            [
             0.5555555555555556,
             "#1f9e89"
            ],
            [
             0.6666666666666666,
             "#35b779"
            ],
            [
             0.7777777777777778,
             "#6ece58"
            ],
            [
             0.8888888888888888,
             "#b5de2b"
            ],
            [
             1,
             "#fde725"
            ]
           ]
          },
          "colorway": [
           "#1F77B4",
           "#FF7F0E",
           "#2CA02C",
           "#D62728",
           "#9467BD",
           "#8C564B",
           "#E377C2",
           "#7F7F7F",
           "#BCBD22",
           "#17BECF"
          ],
          "font": {
           "color": "rgb(36,36,36)"
          },
          "geo": {
           "bgcolor": "white",
           "lakecolor": "white",
           "landcolor": "white",
           "showlakes": true,
           "showland": true,
           "subunitcolor": "white"
          },
          "hoverlabel": {
           "align": "left"
          },
          "hovermode": "closest",
          "mapbox": {
           "style": "light"
          },
          "paper_bgcolor": "white",
          "plot_bgcolor": "white",
          "polar": {
           "angularaxis": {
            "gridcolor": "rgb(232,232,232)",
            "linecolor": "rgb(36,36,36)",
            "showgrid": false,
            "showline": true,
            "ticks": "outside"
           },
           "bgcolor": "white",
           "radialaxis": {
            "gridcolor": "rgb(232,232,232)",
            "linecolor": "rgb(36,36,36)",
            "showgrid": false,
            "showline": true,
            "ticks": "outside"
           }
          },
          "scene": {
           "xaxis": {
            "backgroundcolor": "white",
            "gridcolor": "rgb(232,232,232)",
            "gridwidth": 2,
            "linecolor": "rgb(36,36,36)",
            "showbackground": true,
            "showgrid": false,
            "showline": true,
            "ticks": "outside",
            "zeroline": false,
            "zerolinecolor": "rgb(36,36,36)"
           },
           "yaxis": {
            "backgroundcolor": "white",
            "gridcolor": "rgb(232,232,232)",
            "gridwidth": 2,
            "linecolor": "rgb(36,36,36)",
            "showbackground": true,
            "showgrid": false,
            "showline": true,
            "ticks": "outside",
            "zeroline": false,
            "zerolinecolor": "rgb(36,36,36)"
           },
           "zaxis": {
            "backgroundcolor": "white",
            "gridcolor": "rgb(232,232,232)",
            "gridwidth": 2,
            "linecolor": "rgb(36,36,36)",
            "showbackground": true,
            "showgrid": false,
            "showline": true,
            "ticks": "outside",
            "zeroline": false,
            "zerolinecolor": "rgb(36,36,36)"
           }
          },
          "shapedefaults": {
           "fillcolor": "black",
           "line": {
            "width": 0
           },
           "opacity": 0.3
          },
          "ternary": {
           "aaxis": {
            "gridcolor": "rgb(232,232,232)",
            "linecolor": "rgb(36,36,36)",
            "showgrid": false,
            "showline": true,
            "ticks": "outside"
           },
           "baxis": {
            "gridcolor": "rgb(232,232,232)",
            "linecolor": "rgb(36,36,36)",
            "showgrid": false,
            "showline": true,
            "ticks": "outside"
           },
           "bgcolor": "white",
           "caxis": {
            "gridcolor": "rgb(232,232,232)",
            "linecolor": "rgb(36,36,36)",
            "showgrid": false,
            "showline": true,
            "ticks": "outside"
           }
          },
          "title": {
           "x": 0.05
          },
          "xaxis": {
           "automargin": true,
           "gridcolor": "rgb(232,232,232)",
           "linecolor": "rgb(36,36,36)",
           "showgrid": false,
           "showline": true,
           "ticks": "outside",
           "title": {
            "standoff": 15
           },
           "zeroline": false,
           "zerolinecolor": "rgb(36,36,36)"
          },
          "yaxis": {
           "automargin": true,
           "gridcolor": "rgb(232,232,232)",
           "linecolor": "rgb(36,36,36)",
           "showgrid": false,
           "showline": true,
           "ticks": "outside",
           "title": {
            "standoff": 15
           },
           "zeroline": false,
           "zerolinecolor": "rgb(36,36,36)"
          }
         }
        },
        "title": {
         "font": {
          "color": "black",
          "family": "Impact",
          "size": 30
         },
         "text": "Top Sugar Consumers (Mean)",
         "y": 0.9
        },
        "xaxis": {
         "anchor": "y",
         "color": "black",
         "domain": [
          0,
          1
         ],
         "tickfont": {
          "family": "Arial"
         },
         "title": {
          "font": {
           "family": "Arial"
          },
          "text": "Sugar Consumption (Mean)"
         }
        },
        "yaxis": {
         "anchor": "x",
         "categoryarray": [
          "Ethiopia",
          "Nigeria",
          "Sudan",
          "Malaysia",
          "Colombia",
          "Japan",
          "Vietnam",
          "Algeria",
          "Philippines",
          "Iran",
          "Bangladesh",
          "Thailand",
          "Turkey",
          "Egypt",
          "Mexico",
          "Pakistan",
          "Russia",
          "Indonesia",
          "Brazil",
          "China",
          "India",
          "Other"
         ],
         "categoryorder": "array",
         "color": "black",
         "domain": [
          0,
          1
         ],
         "tickfont": {
          "family": "Arial"
         },
         "title": {
          "font": {
           "family": "Arial"
          },
          "text": ""
         }
        }
       }
      }
     },
     "metadata": {},
     "output_type": "display_data"
    }
   ],
   "source": [
    "import pandas as pd\n",
    "import plotly.express as px\n",
    "years = ['2018/19', '2019/20', '2020/21', '2021/22']\n",
    "# Calculate the mean\n",
    "con['Mean'] = con[years].mean(axis=1)\n",
    "\n",
    "# Sort\n",
    "sorted_con = con.sort_values(by='Mean', ascending=False)\n",
    "\n",
    "# Horizontal bar plot to visualize top consumers\n",
    "gist_pal = px.colors.sequential.Greens\n",
    "\n",
    "fig = px.bar(sorted_con, \n",
    "             x='Mean', \n",
    "             y=\"Name\", \n",
    "             orientation='h',\n",
    "             color=\"Name\",\n",
    "             color_discrete_sequence=gist_pal,\n",
    "             template=\"simple_white\",\n",
    "             text_auto=True,\n",
    "             title='Top Sugar Consumers (Mean)'\n",
    "            )\n",
    "\n",
    "fig.update_layout(title={'y':0.9},\n",
    "                  title_font_size=30, \n",
    "                  title_font_family=\"Impact\",\n",
    "                  title_font_color='black',\n",
    "                  height=600,\n",
    "                  showlegend=False,\n",
    "                  margin=dict(l=10)\n",
    "                 )\n",
    "\n",
    "fig.update_xaxes(title='Sugar Consumption (Mean)',\n",
    "                color='black', \n",
    "                tickfont_family='Arial', \n",
    "                titlefont_family='Arial')\n",
    "\n",
    "fig.update_yaxes(title='',\n",
    "                color='black', \n",
    "                tickfont_family='Arial', \n",
    "                titlefont_family='Arial')\n",
    "\n",
    "fig.update_traces(textposition='outside')\n",
    "fig.show()\n"
   ]
  },
  {
   "cell_type": "markdown",
   "metadata": {},
   "source": [
    "Els majors prodcutors de sucre són India, Xina i Brasil."
   ]
  },
  {
   "cell_type": "markdown",
   "metadata": {},
   "source": [
    "### Exercici 3\n",
    "Tria una pàgina web que tu vulguis i realitza web scraping mitjançant la llibreria Selenium primer i Scrapy després. "
   ]
  },
  {
   "cell_type": "markdown",
   "metadata": {},
   "source": [
    "###### Selenium"
   ]
  },
  {
   "cell_type": "code",
   "execution_count": 8,
   "metadata": {},
   "outputs": [
    {
     "name": "stdout",
     "output_type": "stream",
     "text": [
      "Name: Deliverable 1.1\n",
      "Title: SNP-chip tool validation\n",
      "Link: http://performfish.eu/wp-content/uploads/2021/02/D1_1_approved.pdf\n",
      "-----\n",
      "Name: Deliverable 1.2\n",
      "Title: Analysis of family and genomic variation of feed efficiency\n",
      "Link: http://performfish.eu/wp-content/uploads/2023/01/D1.2.pdf\n",
      "-----\n",
      "Name: Deliverable 1.3\n",
      "Title: Report for EBVs for vibriosis and parasites infections\n",
      "Link: http://performfish.eu/wp-content/uploads/2023/01/D1.3.pdf\n",
      "-----\n",
      "Name: Deliverable 1.4\n",
      "Title: Genetic architecture of morphological abnormalities trait in gilthead seabream\n",
      "Link: http://performfish.eu/wp-content/uploads/2023/01/D1.4.pdf\n",
      "-----\n",
      "Name: Deliverable 1.5\n",
      "Title: Estimation of genetic parameters for several growth and/or morphometric traits and comparison of the EBVs under different models\n",
      "Link: http://performfish.eu/wp-content/uploads/2023/01/D1.5.pdf\n",
      "-----\n",
      "Name: Deliverable 1.6\n",
      "Title: Estimated genetic parameters and Low-density genome scan for SNPs associated with VNN resistance in sea bream\n",
      "Link: http://performfish.eu/wp-content/uploads/2023/01/D1.6.pdf\n",
      "-----\n",
      "Name: Deliverable 1.7\n",
      "Title: Global genomic evaluation methods (GBLUP) and Genome Wide Association Analysis (GWAS) using the SNP tool\n",
      "Link: http://performfish.eu/wp-content/uploads/2023/01/D1.7.pdf\n",
      "-----\n",
      "Name: Deliverable 2.2\n",
      "Title: Optimized KPI quality markers\n",
      "Link: http://performfish.eu/wp-content/uploads/2021/02/D2_2_approved.pdf\n",
      "-----\n",
      "Name: Deliverable 3.0\n",
      "Title: Challenge methods\n",
      "Link: http://performfish.eu/wp-content/uploads/2022/01/D3_0_approved.pdf\n",
      "-----\n",
      "Name: Deliverable 3.1\n",
      "Title: Diagnostic methods for Mediterranean farmed fish\n",
      "Link: http://performfish.eu/wp-content/uploads/2021/02/D3_1_approved.pdf\n",
      "-----\n",
      "Name: Deliverable 3.2\n",
      "Title: Epidemiological status of Mediterranean farmed fish\n",
      "Link: http://performfish.eu/wp-content/uploads/2021/02/D3_2_approved.pdf\n",
      "-----\n",
      "Name: Deliverable 3.3\n",
      "Title: Best Therapeutics Practices for Mediterranean Farmed Fish\n",
      "Link: http://performfish.eu/wp-content/uploads/2021/02/D3_3_approved.pdf\n",
      "-----\n",
      "Name: Deliverable 3.4\n",
      "Title: Prophylactic practices for Mediterranean farmed fish\n",
      "Link: http://performfish.eu/wp-content/uploads/2021/02/D3_4_approved.pdf\n",
      "-----\n",
      "Name: Deliverable 3.5\n",
      "Title: New Vaccines\n",
      "Link: http://performfish.eu/wp-content/uploads/2021/02/D3_5_approved.pdf\n",
      "-----\n",
      "Name: Deliverable 4.1\n",
      "Title: Threshold of nutritional quality for the Mediterranean production\n",
      "Link: http://performfish.eu/wp-content/uploads/2021/02/D4_1_approved.pdf\n",
      "-----\n",
      "Name: Deliverable 4.2\n",
      "Title: Predictive feeding growth model for MMFF\n",
      "Link: http://performfish.eu/wp-content/uploads/2023/01/D4.2.pdf\n",
      "-----\n",
      "Name: Deliverable 5.1\n",
      "Title: Analysis of the Italian market for seabass and seabream\n",
      "Link: http://performfish.eu/wp-content/uploads/2021/07/D5_1_approved.pdf\n",
      "-----\n",
      "Name: Deliverable 5.2\n",
      "Title: Analysis of the Spanish market for seabass and seabream\n",
      "Link: http://performfish.eu/wp-content/uploads/2021/07/D5_2_approved.pdf\n",
      "-----\n",
      "Name: Deliverable 5.3\n",
      "Title: Analysis of the Greek market for seabass and seabream products\n",
      "Link: http://performfish.eu/wp-content/uploads/2021/07/D5_3_approved.pdf\n",
      "-----\n",
      "Name: Deliverable 5.4\n",
      "Title: Analysis of the French market for seabass and seabream\n",
      "Link: http://performfish.eu/wp-content/uploads/2021/07/D5_4_approved.pdf\n",
      "-----\n",
      "Name: Deliverable 5.5\n",
      "Title: Analysis of the German market for seabass and seabream products\n",
      "Link: http://performfish.eu/wp-content/uploads/2021/07/D5_5_approved.pdf\n",
      "-----\n",
      "Name: Deliverable 5.8\n",
      "Title: Analysis of consumer perceptions of seabass and seabream products in Italy\n",
      "Link: http://performfish.eu/wp-content/uploads/2021/07/D5_8_approved.pdf\n",
      "-----\n",
      "Name: Deliverable 5.9\n",
      "Title: Analysis of consumer perceptions of seabass and seabream products in Spain\n",
      "Link: http://performfish.eu/wp-content/uploads/2021/07/D5_9_approved.pdf\n",
      "-----\n",
      "Name: Deliverable 5.10\n",
      "Title: Analysis of consumer perceptions of seabass and seabream products in Greece\n",
      "Link: http://performfish.eu/wp-content/uploads/2021/07/D5_10_approved.pdf\n",
      "-----\n",
      "Name: Deliverable 5.11\n",
      "Title: Analysis of consumer perceptions of seabass and seabream products in France\n",
      "Link: http://performfish.eu/wp-content/uploads/2021/07/D5_11_approved.pdf\n",
      "-----\n",
      "Name: Deliverable 5.12\n",
      "Title: Analysis of consumer perceptions of seabass and seabream products in Germany\n",
      "Link: http://performfish.eu/wp-content/uploads/2021/07/D5_12_approved.pdf\n",
      "-----\n",
      "Name: Deliverable 5.13\n",
      "Title: Analysis of consumer perceptions of seabass and seabream products in the UK\n",
      "Link: http://performfish.eu/wp-content/uploads/2023/01/D5.13.pdf\n",
      "-----\n",
      "Name: Deliverable 7.1\n",
      "Title: Set of KPIs for Mediterranean Marine Fish Farming (MMFF) Sector\n",
      "Link: http://performfish.eu/wp-content/uploads/2021/02/D7_1_Approved.pdf\n",
      "-----\n",
      "Name: Deliverable 7.2\n",
      "Title: VREs Interim activity report\n",
      "Link: http://performfish.eu/wp-content/uploads/2021/02/D7_2_approved.pdf\n",
      "-----\n",
      "Name: Deliverable 8.1\n",
      "Title: PerformFISH Dissemination and Exploitation Plan (M4)\n",
      "Link: http://performfish.eu/wp-content/uploads/2018/12/D8.1-PerformFISH-DEP_1.pdf\n",
      "-----\n",
      "Name: Deliverable 8.2\n",
      "Title: PerformFISH Portfolio of Dissemination Resources and Tools (M12)\n",
      "Link: http://performfish.eu/wp-content/uploads/2018/12/D8.2_PerformFISH.pdf\n",
      "-----\n",
      "Name: Deliverable 8.4\n",
      "Title: PerformFISH Dissemination and Exploitation Plan (M18)\n",
      "Link: http://performfish.eu/wp-content/uploads/2018/12/D8.4-PerformFISH-DEP_2.pdf\n",
      "-----\n",
      "Name: Deliverable 8.5\n",
      "Title: PerformFISH Dissemination and Exploitation Plan (M36)\n",
      "Link: http://performfish.eu/wp-content/uploads/2021/02/D8_5_approved.pdf\n",
      "-----\n",
      "Name: Deliverable 8.6\n",
      "Title: PerformFISH Dissemination and Exploitation Plan (M48)\n",
      "Link: http://performfish.eu/wp-content/uploads/2023/01/D8.6.pdf\n",
      "-----\n"
     ]
    }
   ],
   "source": [
    "from selenium import webdriver\n",
    "from selenium.webdriver.common.by import By\n",
    "\n",
    "# Create a WebDriver instance\n",
    "driver = webdriver.Chrome()\n",
    "driver.get(\"https://performfish.eu/deliverables/\")\n",
    "\n",
    "# Find the <div> element with class \"standard-text-block content-block\"\n",
    "div_element = driver.find_element(By.CLASS_NAME, \"standard-text-block.content-block\")\n",
    "\n",
    "# Find all the <p> elements within the <div> element\n",
    "p_elements = div_element.find_elements(By.TAG_NAME, \"p\")\n",
    "\n",
    "# Initialize empty lists to store the extracted data\n",
    "article_names = []\n",
    "article_titles = []\n",
    "article_links = []\n",
    "\n",
    "# Loop through the <p> elements to extract the data\n",
    "for p in p_elements:\n",
    "    text = p.text.strip()\n",
    "    parts = text.split(\" – \")\n",
    "    if len(parts) == 2:\n",
    "        article_names.append(parts[0])\n",
    "        article_titles.append(parts[1])\n",
    "        a_tag = p.find_element(By.TAG_NAME, \"a\")\n",
    "        article_links.append(a_tag.get_attribute(\"href\"))\n",
    "\n",
    "# Print the extracted data\n",
    "for i in range(len(article_names)):\n",
    "    print(\"Name:\", article_names[i])\n",
    "    print(\"Title:\", article_titles[i])\n",
    "    print(\"Link:\", article_links[i])\n",
    "    print(\"-----\")\n",
    "\n",
    "# Close the WebDriver\n",
    "driver.quit()\n"
   ]
  },
  {
   "cell_type": "markdown",
   "metadata": {},
   "source": [
    "###### Scrapy"
   ]
  },
  {
   "cell_type": "code",
   "execution_count": 8,
   "metadata": {},
   "outputs": [],
   "source": [
    "import scrapy\n",
    "\n",
    "class DeliverablesSpider(scrapy.Spider):\n",
    "    name = 'deliverables'\n",
    "    start_urls = ['https://performfish.eu/deliverables/']\n",
    "\n",
    "    def parse(self, response):\n",
    "        # Find the <div> element with class \"standard-text-block content-block\"\n",
    "        div_element = response.css('.standard-text-block.content-block')\n",
    "\n",
    "        # Find all the <p> elements within the <div> element\n",
    "        p_elements = div_element.css('p')\n",
    "\n",
    "        for p in p_elements:\n",
    "            text = p.css('::text').get().strip()\n",
    "            parts = text.split(\" – \")\n",
    "            if len(parts) == 2:\n",
    "                article_names = parts[0]\n",
    "                article_titles = parts[1]\n",
    "                a_tag = p.css('a')\n",
    "                article_links = a_tag.css('::attr(href)').get()\n",
    "\n",
    "                yield {\n",
    "                    'Name': article_names,\n",
    "                    'Title': article_titles,\n",
    "                    'Link': article_links,\n",
    "                }\n",
    "\n",
    "                # Print the results here\n",
    "                print(\"Name:\", article_names)\n",
    "                print(\"Title:\", article_titles)\n",
    "                print(\"Link:\", article_links)\n",
    "                print(\"-----\")\n"
   ]
  }
 ],
 "metadata": {
  "kernelspec": {
   "display_name": "Python 3",
   "language": "python",
   "name": "python3"
  },
  "language_info": {
   "codemirror_mode": {
    "name": "ipython",
    "version": 3
   },
   "file_extension": ".py",
   "mimetype": "text/x-python",
   "name": "python",
   "nbconvert_exporter": "python",
   "pygments_lexer": "ipython3",
   "version": "3.11.5"
  },
  "orig_nbformat": 4
 },
 "nbformat": 4,
 "nbformat_minor": 2
}
