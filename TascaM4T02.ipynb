{
 "cells": [
  {
   "cell_type": "markdown",
   "id": "a373abf9-4df8-41cf-b953-40fdb6efa90b",
   "metadata": {},
   "source": [
    "#### Exercici 2\n",
    "Fes les tasques de preprocessat  i adequació del Dataset que disposem en el repositori de GitHub PRE-PROCESSING-DATA amb l'objectiu de preparar-lo i treballar-lo com a dataframe per a extreure'n informació.\n",
    "\n",
    "[->PRE-PROCESSING-DATA/movies.dat'](https://github.com/BIDDL3/PRE-PROCESSING-DATA)\n",
    "\n",
    "> Important!\n",
    "El resultat final ha de ser un dataframe amb les variables de nom de la pel·lícula, any i genere. També és important quedar-se amb un sol gènere per a cada pel·lícula!"
   ]
  },
  {
   "cell_type": "code",
   "execution_count": 1,
   "id": "2a79ab42-8a0c-45c9-8c43-539bfc6e1794",
   "metadata": {},
   "outputs": [],
   "source": [
    "import pandas as pd\n",
    "import re\n",
    "\n",
    "\n",
    "movies = pd.read_csv('movies.dat', sep='::', header=None, names=['movie_id', 'title', 'genres'], \n",
    "                 engine='python', encoding='iso-8859-1')\n"
   ]
  },
  {
   "cell_type": "code",
   "execution_count": 2,
   "id": "aee3d156-c9ac-4646-a4e7-e9008bd11b31",
   "metadata": {},
   "outputs": [
    {
     "data": {
      "text/plain": [
       "(3883, 3)"
      ]
     },
     "execution_count": 2,
     "metadata": {},
     "output_type": "execute_result"
    }
   ],
   "source": [
    "movies.shape"
   ]
  },
  {
   "cell_type": "code",
   "execution_count": 3,
   "id": "c0398cc0-9ee8-462c-943f-0a89f97a7757",
   "metadata": {},
   "outputs": [
    {
     "data": {
      "text/plain": [
       "Index(['movie_id', 'title', 'genres'], dtype='object')"
      ]
     },
     "execution_count": 3,
     "metadata": {},
     "output_type": "execute_result"
    }
   ],
   "source": [
    "movies.columns"
   ]
  },
  {
   "cell_type": "code",
   "execution_count": 4,
   "id": "a54eee80-6b81-4de4-ad76-21dfa2ac6bc8",
   "metadata": {},
   "outputs": [
    {
     "data": {
      "text/html": [
       "<div>\n",
       "<style scoped>\n",
       "    .dataframe tbody tr th:only-of-type {\n",
       "        vertical-align: middle;\n",
       "    }\n",
       "\n",
       "    .dataframe tbody tr th {\n",
       "        vertical-align: top;\n",
       "    }\n",
       "\n",
       "    .dataframe thead th {\n",
       "        text-align: right;\n",
       "    }\n",
       "</style>\n",
       "<table border=\"1\" class=\"dataframe\">\n",
       "  <thead>\n",
       "    <tr style=\"text-align: right;\">\n",
       "      <th></th>\n",
       "      <th>movie_id</th>\n",
       "      <th>title</th>\n",
       "      <th>genres</th>\n",
       "    </tr>\n",
       "  </thead>\n",
       "  <tbody>\n",
       "    <tr>\n",
       "      <th>0</th>\n",
       "      <td>1</td>\n",
       "      <td>Toy Story (1995)</td>\n",
       "      <td>Animation|Children's|Comedy</td>\n",
       "    </tr>\n",
       "    <tr>\n",
       "      <th>1</th>\n",
       "      <td>2</td>\n",
       "      <td>Jumanji (1995)</td>\n",
       "      <td>Adventure|Children's|Fantasy</td>\n",
       "    </tr>\n",
       "    <tr>\n",
       "      <th>2</th>\n",
       "      <td>3</td>\n",
       "      <td>Grumpier Old Men (1995)</td>\n",
       "      <td>Comedy|Romance</td>\n",
       "    </tr>\n",
       "    <tr>\n",
       "      <th>3</th>\n",
       "      <td>4</td>\n",
       "      <td>Waiting to Exhale (1995)</td>\n",
       "      <td>Comedy|Drama</td>\n",
       "    </tr>\n",
       "    <tr>\n",
       "      <th>4</th>\n",
       "      <td>5</td>\n",
       "      <td>Father of the Bride Part II (1995)</td>\n",
       "      <td>Comedy</td>\n",
       "    </tr>\n",
       "  </tbody>\n",
       "</table>\n",
       "</div>"
      ],
      "text/plain": [
       "   movie_id                               title                        genres\n",
       "0         1                    Toy Story (1995)   Animation|Children's|Comedy\n",
       "1         2                      Jumanji (1995)  Adventure|Children's|Fantasy\n",
       "2         3             Grumpier Old Men (1995)                Comedy|Romance\n",
       "3         4            Waiting to Exhale (1995)                  Comedy|Drama\n",
       "4         5  Father of the Bride Part II (1995)                        Comedy"
      ]
     },
     "execution_count": 4,
     "metadata": {},
     "output_type": "execute_result"
    }
   ],
   "source": [
    "movies.head()"
   ]
  },
  {
   "cell_type": "code",
   "execution_count": 5,
   "id": "adcfffea-750a-41a5-bf37-16a7094b03a2",
   "metadata": {},
   "outputs": [
    {
     "name": "stdout",
     "output_type": "stream",
     "text": [
      "      movie_id                        title                        genres  \\\n",
      "0            1                    Toy Story   Animation|Children's|Comedy   \n",
      "1            2                      Jumanji  Adventure|Children's|Fantasy   \n",
      "2            3             Grumpier Old Men                Comedy|Romance   \n",
      "3            4            Waiting to Exhale                  Comedy|Drama   \n",
      "4            5  Father of the Bride Part II                        Comedy   \n",
      "...        ...                          ...                           ...   \n",
      "3878      3948             Meet the Parents                        Comedy   \n",
      "3879      3949          Requiem for a Dream                         Drama   \n",
      "3880      3950                    Tigerland                         Drama   \n",
      "3881      3951             Two Family House                         Drama   \n",
      "3882      3952               Contender, The                Drama|Thriller   \n",
      "\n",
      "       any  \n",
      "0     1995  \n",
      "1     1995  \n",
      "2     1995  \n",
      "3     1995  \n",
      "4     1995  \n",
      "...    ...  \n",
      "3878  2000  \n",
      "3879  2000  \n",
      "3880  2000  \n",
      "3881  2000  \n",
      "3882  2000  \n",
      "\n",
      "[3883 rows x 4 columns]\n"
     ]
    },
    {
     "name": "stderr",
     "output_type": "stream",
     "text": [
      "/tmp/ipykernel_144/3131049386.py:4: FutureWarning: The default value of regex will change from True to False in a future version.\n",
      "  movies['title'] = movies['title'].str.replace(patron, '').str.strip()\n"
     ]
    }
   ],
   "source": [
    "#Separació títol i any\n",
    "patron = r'\\((\\d{4})\\)'\n",
    "movies['any'] = movies['title'].str.extract(patron)\n",
    "movies['title'] = movies['title'].str.replace(patron, '').str.strip()\n",
    "\n",
    "print(movies)\n"
   ]
  },
  {
   "cell_type": "code",
   "execution_count": 6,
   "id": "82dae32c-407f-4a95-88e1-bfb86f1cebef",
   "metadata": {},
   "outputs": [
    {
     "name": "stdout",
     "output_type": "stream",
     "text": [
      "      movie_id                        title                        genres  \\\n",
      "0            1                    Toy Story   Animation|Children's|Comedy   \n",
      "1            2                      Jumanji  Adventure|Children's|Fantasy   \n",
      "2            3             Grumpier Old Men                Comedy|Romance   \n",
      "3            4            Waiting to Exhale                  Comedy|Drama   \n",
      "4            5  Father of the Bride Part II                        Comedy   \n",
      "...        ...                          ...                           ...   \n",
      "3878      3948             Meet the Parents                        Comedy   \n",
      "3879      3949          Requiem for a Dream                         Drama   \n",
      "3880      3950                    Tigerland                         Drama   \n",
      "3881      3951             Two Family House                         Drama   \n",
      "3882      3952               Contender, The                Drama|Thriller   \n",
      "\n",
      "       any     genere  \n",
      "0     1995  Animation  \n",
      "1     1995  Adventure  \n",
      "2     1995     Comedy  \n",
      "3     1995     Comedy  \n",
      "4     1995     Comedy  \n",
      "...    ...        ...  \n",
      "3878  2000     Comedy  \n",
      "3879  2000      Drama  \n",
      "3880  2000      Drama  \n",
      "3881  2000      Drama  \n",
      "3882  2000      Drama  \n",
      "\n",
      "[3883 rows x 5 columns]\n"
     ]
    }
   ],
   "source": [
    "#Selecció gènere\n",
    "movies['genere'] = movies['genres'].str.split('|').str[0]\n",
    "\n",
    "print(movies)"
   ]
  },
  {
   "cell_type": "code",
   "execution_count": 7,
   "id": "97700a7f-3afd-49c1-8911-0307cce61fdb",
   "metadata": {},
   "outputs": [
    {
     "name": "stdout",
     "output_type": "stream",
     "text": [
      "                            title   any     genere\n",
      "0                       Toy Story  1995  Animation\n",
      "1                         Jumanji  1995  Adventure\n",
      "2                Grumpier Old Men  1995     Comedy\n",
      "3               Waiting to Exhale  1995     Comedy\n",
      "4     Father of the Bride Part II  1995     Comedy\n",
      "...                           ...   ...        ...\n",
      "3878             Meet the Parents  2000     Comedy\n",
      "3879          Requiem for a Dream  2000      Drama\n",
      "3880                    Tigerland  2000      Drama\n",
      "3881             Two Family House  2000      Drama\n",
      "3882               Contender, The  2000      Drama\n",
      "\n",
      "[3883 rows x 3 columns]\n"
     ]
    }
   ],
   "source": [
    "#Eliminar columnes\n",
    "\n",
    "movies = movies.drop(['genres'], axis=1)\n",
    "movies = movies.drop(['movie_id'], axis=1)\n",
    "print(movies)"
   ]
  },
  {
   "cell_type": "code",
   "execution_count": 8,
   "id": "c1c2a26c-9f0b-466e-b6ec-cd5484c88749",
   "metadata": {},
   "outputs": [
    {
     "name": "stdout",
     "output_type": "stream",
     "text": [
      "             nom de la pel·lícula   any     genere\n",
      "0                       Toy Story  1995  Animation\n",
      "1                         Jumanji  1995  Adventure\n",
      "2                Grumpier Old Men  1995     Comedy\n",
      "3               Waiting to Exhale  1995     Comedy\n",
      "4     Father of the Bride Part II  1995     Comedy\n",
      "...                           ...   ...        ...\n",
      "3878             Meet the Parents  2000     Comedy\n",
      "3879          Requiem for a Dream  2000      Drama\n",
      "3880                    Tigerland  2000      Drama\n",
      "3881             Two Family House  2000      Drama\n",
      "3882               Contender, The  2000      Drama\n",
      "\n",
      "[3883 rows x 3 columns]\n"
     ]
    }
   ],
   "source": [
    "#Canviar el nom de la columna\n",
    "\n",
    "movies = movies.rename(columns={'title': 'nom de la pel·lícula'})\n",
    "print(movies)"
   ]
  },
  {
   "cell_type": "markdown",
   "id": "5651eade-f6b7-4292-bc7b-a8c37d611551",
   "metadata": {},
   "source": [
    "##### Exercici 3\n",
    "\n",
    "Mostra la teva creativitat. Què creus rellevant mostrar del Dataset \"movies.dat\" de l'exercici anterior?\n",
    "\n",
    "Fes una o dues representacions gràfiques i justifica la teva elecció."
   ]
  },
  {
   "cell_type": "markdown",
   "id": "16110cde-7bc9-427b-ac8d-f273bd077b0b",
   "metadata": {},
   "source": [
    "He seleccionat una gràfica de barres"
   ]
  },
  {
   "cell_type": "code",
   "execution_count": 9,
   "id": "eba89faf-8fae-4082-9b35-0abae18d25fa",
   "metadata": {},
   "outputs": [
    {
     "data": {
      "image/png": "[encoded data removed]",
      "text/plain": [
       "<Figure size 432x288 with 1 Axes>"
      ]
     },
     "metadata": {
      "needs_background": "light"
     },
     "output_type": "display_data"
    }
   ],
   "source": [
    "import matplotlib.pyplot as plt\n",
    "\n",
    "# df amb el nombre de pel·lícules per gènere\n",
    "num_pelis_per_genere = movies['genere'].value_counts().to_frame().reset_index()\n",
    "num_pelis_per_genere.columns = ['genere', 'num_pelis']\n",
    "\n",
    "# Gràfic de barres\n",
    "plt.bar(x=num_pelis_per_genere['genere'], height=num_pelis_per_genere['num_pelis'])\n",
    "plt.xticks(rotation=90)\n",
    "plt.show()\n"
   ]
  },
  {
   "cell_type": "markdown",
   "id": "e9737bb4-4c80-4ed2-95bf-f6f9761bdd92",
   "metadata": {},
   "source": [
    "He escollit fer una primera representació amb un gràfic de barres sobre el nombre de películes de cada gènere que es recullen al dataframe 'Movies'. A continuació ho tornat a representar el nombre de pel·lícules amb un BubbleChart que permet fer una visualització més animada i conèixer amb precisió el nombre de films de cada gènere."
   ]
  },
  {
   "cell_type": "code",
   "execution_count": 74,
   "id": "71dbc9d0-e5d1-4caf-b461-51f6e20709d9",
   "metadata": {},
   "outputs": [
    {
     "data": {
      "application/vnd.plotly.v1+json": {
       "config": {
        "plotlyServerURL": "https://plot.ly"
       },
       "data": [
        {
         "hovertemplate": "Genere=%{x}<br>Count=%{marker.size}<br>label=%{text}<extra></extra>",
         "legendgroup": "Drama",
         "marker": {
          "color": "blue",
          "size": [
           1176
          ],
          "sizemode": "area",
          "sizeref": 0.1451851851851852,
          "symbol": "circle"
         },
         "mode": "markers+text",
         "name": "Drama",
         "orientation": "v",
         "showlegend": true,
         "text": [
          "Drama<br>1176"
         ],
         "textposition": "top center",
         "type": "scatter",
         "x": [
          "Drama"
         ],
         "xaxis": "x",
         "y": [
          1176
         ],
         "yaxis": "y"
        },
        {
         "hovertemplate": "Genere=%{x}<br>Count=%{marker.size}<br>label=%{text}<extra></extra>",
         "legendgroup": "Comedy",
         "marker": {
          "color": "green",
          "size": [
           1024
          ],
          "sizemode": "area",
          "sizeref": 0.1451851851851852,
          "symbol": "circle"
         },
         "mode": "markers+text",
         "name": "Comedy",
         "orientation": "v",
         "showlegend": true,
         "text": [
          "Comedy<br>1024"
         ],
         "textposition": "top center",
         "type": "scatter",
         "x": [
          "Comedy"
         ],
         "xaxis": "x",
         "y": [
          1024
         ],
         "yaxis": "y"
        },
        {
         "hovertemplate": "Genere=%{x}<br>Count=%{marker.size}<br>label=%{text}<extra></extra>",
         "legendgroup": "Action",
         "marker": {
          "color": "red",
          "size": [
           503
          ],
          "sizemode": "area",
          "sizeref": 0.1451851851851852,
          "symbol": "circle"
         },
         "mode": "markers+text",
         "name": "Action",
         "orientation": "v",
         "showlegend": true,
         "text": [
          "Action<br>503"
         ],
         "textposition": "top center",
         "type": "scatter",
         "x": [
          "Action"
         ],
         "xaxis": "x",
         "y": [
          503
         ],
         "yaxis": "y"
        },
        {
         "hovertemplate": "Genere=%{x}<br>Count=%{marker.size}<br>label=%{text}<extra></extra>",
         "legendgroup": "Horror",
         "marker": {
          "color": "purple",
          "size": [
           262
          ],
          "sizemode": "area",
          "sizeref": 0.1451851851851852,
          "symbol": "circle"
         },
         "mode": "markers+text",
         "name": "Horror",
         "orientation": "v",
         "showlegend": true,
         "text": [
          "Horror<br>262"
         ],
         "textposition": "top center",
         "type": "scatter",
         "x": [
          "Horror"
         ],
         "xaxis": "x",
         "y": [
          262
         ],
         "yaxis": "y"
        },
        {
         "hovertemplate": "Genere=%{x}<br>Count=%{marker.size}<br>label=%{text}<extra></extra>",
         "legendgroup": "Adventure",
         "marker": {
          "color": "orange",
          "size": [
           155
          ],
          "sizemode": "area",
          "sizeref": 0.1451851851851852,
          "symbol": "circle"
         },
         "mode": "markers+text",
         "name": "Adventure",
         "orientation": "v",
         "showlegend": true,
         "text": [
          "Adventure<br>155"
         ],
         "textposition": "top center",
         "type": "scatter",
         "x": [
          "Adventure"
         ],
         "xaxis": "x",
         "y": [
          155
         ],
         "yaxis": "y"
        },
        {
         "hovertemplate": "Genere=%{x}<br>Count=%{marker.size}<br>label=%{text}<extra></extra>",
         "legendgroup": "Crime",
         "marker": {
          "color": "yellow",
          "size": [
           131
          ],
          "sizemode": "area",
          "sizeref": 0.1451851851851852,
          "symbol": "circle"
         },
         "mode": "markers+text",
         "name": "Crime",
         "orientation": "v",
         "showlegend": true,
         "text": [
          "Crime<br>131"
         ],
         "textposition": "top center",
         "type": "scatter",
         "x": [
          "Crime"
         ],
         "xaxis": "x",
         "y": [
          131
         ],
         "yaxis": "y"
        },
        {
         "hovertemplate": "Genere=%{x}<br>Count=%{marker.size}<br>label=%{text}<extra></extra>",
         "legendgroup": "Documentary",
         "marker": {
          "color": "brown",
          "size": [
           123
          ],
          "sizemode": "area",
          "sizeref": 0.1451851851851852,
          "symbol": "circle"
         },
         "mode": "markers+text",
         "name": "Documentary",
         "orientation": "v",
         "showlegend": true,
         "text": [
          "Documentary<br>123"
         ],
         "textposition": "top center",
         "type": "scatter",
         "x": [
          "Documentary"
         ],
         "xaxis": "x",
         "y": [
          123
         ],
         "yaxis": "y"
        },
        {
         "hovertemplate": "Genere=%{x}<br>Count=%{marker.size}<br>label=%{text}<extra></extra>",
         "legendgroup": "Thriller",
         "marker": {
          "color": "pink",
          "size": [
           101
          ],
          "sizemode": "area",
          "sizeref": 0.1451851851851852,
          "symbol": "circle"
         },
         "mode": "markers+text",
         "name": "Thriller",
         "orientation": "v",
         "showlegend": true,
         "text": [
          "Thriller<br>101"
         ],
         "textposition": "top center",
         "type": "scatter",
         "x": [
          "Thriller"
         ],
         "xaxis": "x",
         "y": [
          101
         ],
         "yaxis": "y"
        },
        {
         "hovertemplate": "Genere=%{x}<br>Count=%{marker.size}<br>label=%{text}<extra></extra>",
         "legendgroup": "Animation",
         "marker": {
          "color": "gray",
          "size": [
           90
          ],
          "sizemode": "area",
          "sizeref": 0.1451851851851852,
          "symbol": "circle"
         },
         "mode": "markers+text",
         "name": "Animation",
         "orientation": "v",
         "showlegend": true,
         "text": [
          "Animation<br>90"
         ],
         "textposition": "top center",
         "type": "scatter",
         "x": [
          "Animation"
         ],
         "xaxis": "x",
         "y": [
          90
         ],
         "yaxis": "y"
        },
        {
         "hovertemplate": "Genere=%{x}<br>Count=%{marker.size}<br>label=%{text}<extra></extra>",
         "legendgroup": "Children's",
         "marker": {
          "color": "black",
          "size": [
           89
          ],
          "sizemode": "area",
          "sizeref": 0.1451851851851852,
          "symbol": "circle"
         },
         "mode": "markers+text",
         "name": "Children's",
         "orientation": "v",
         "showlegend": true,
         "text": [
          "Children's<br>89"
         ],
         "textposition": "top center",
         "type": "scatter",
         "x": [
          "Children's"
         ],
         "xaxis": "x",
         "y": [
          89
         ],
         "yaxis": "y"
        },
        {
         "hovertemplate": "Genere=%{x}<br>Count=%{marker.size}<br>label=%{text}<extra></extra>",
         "legendgroup": "Romance",
         "marker": {
          "color": "cyan",
          "size": [
           50
          ],
          "sizemode": "area",
          "sizeref": 0.1451851851851852,
          "symbol": "circle"
         },
         "mode": "markers+text",
         "name": "Romance",
         "orientation": "v",
         "showlegend": true,
         "text": [
          "Romance<br>50"
         ],
         "textposition": "top center",
         "type": "scatter",
         "x": [
          "Romance"
         ],
         "xaxis": "x",
         "y": [
          50
         ],
         "yaxis": "y"
        },
        {
         "hovertemplate": "Genere=%{x}<br>Count=%{marker.size}<br>label=%{text}<extra></extra>",
         "legendgroup": "Sci-Fi",
         "marker": {
          "color": "magenta",
          "size": [
           46
          ],
          "sizemode": "area",
          "sizeref": 0.1451851851851852,
          "symbol": "circle"
         },
         "mode": "markers+text",
         "name": "Sci-Fi",
         "orientation": "v",
         "showlegend": true,
         "text": [
          "Sci-Fi<br>46"
         ],
         "textposition": "top center",
         "type": "scatter",
         "x": [
          "Sci-Fi"
         ],
         "xaxis": "x",
         "y": [
          46
         ],
         "yaxis": "y"
        },
        {
         "hovertemplate": "Genere=%{x}<br>Count=%{marker.size}<br>label=%{text}<extra></extra>",
         "legendgroup": "Mystery",
         "marker": {
          "color": "olive",
          "size": [
           36
          ],
          "sizemode": "area",
          "sizeref": 0.1451851851851852,
          "symbol": "circle"
         },
         "mode": "markers+text",
         "name": "Mystery",
         "orientation": "v",
         "showlegend": true,
         "text": [
          "Mystery<br>36"
         ],
         "textposition": "top center",
         "type": "scatter",
         "x": [
          "Mystery"
         ],
         "xaxis": "x",
         "y": [
          36
         ],
         "yaxis": "y"
        },
        {
         "hovertemplate": "Genere=%{x}<br>Count=%{marker.size}<br>label=%{text}<extra></extra>",
         "legendgroup": "Western",
         "marker": {
          "color": "navy",
          "size": [
           33
          ],
          "sizemode": "area",
          "sizeref": 0.1451851851851852,
          "symbol": "circle"
         },
         "mode": "markers+text",
         "name": "Western",
         "orientation": "v",
         "showlegend": true,
         "text": [
          "Western<br>33"
         ],
         "textposition": "top center",
         "type": "scatter",
         "x": [
          "Western"
         ],
         "xaxis": "x",
         "y": [
          33
         ],
         "yaxis": "y"
        },
        {
         "hovertemplate": "Genere=%{x}<br>Count=%{marker.size}<br>label=%{text}<extra></extra>",
         "legendgroup": "Film-Noir",
         "marker": {
          "color": "teal",
          "size": [
           25
          ],
          "sizemode": "area",
          "sizeref": 0.1451851851851852,
          "symbol": "circle"
         },
         "mode": "markers+text",
         "name": "Film-Noir",
         "orientation": "v",
         "showlegend": true,
         "text": [
          "Film-Noir<br>25"
         ],
         "textposition": "top center",
         "type": "scatter",
         "x": [
          "Film-Noir"
         ],
         "xaxis": "x",
         "y": [
          25
         ],
         "yaxis": "y"
        },
        {
         "hovertemplate": "Genere=%{x}<br>Count=%{marker.size}<br>label=%{text}<extra></extra>",
         "legendgroup": "Musical",
         "marker": {
          "color": "salmon",
          "size": [
           25
          ],
          "sizemode": "area",
          "sizeref": 0.1451851851851852,
          "symbol": "circle"
         },
         "mode": "markers+text",
         "name": "Musical",
         "orientation": "v",
         "showlegend": true,
         "text": [
          "Musical<br>25"
         ],
         "textposition": "top center",
         "type": "scatter",
         "x": [
          "Musical"
         ],
         "xaxis": "x",
         "y": [
          25
         ],
         "yaxis": "y"
        },
        {
         "hovertemplate": "Genere=%{x}<br>Count=%{marker.size}<br>label=%{text}<extra></extra>",
         "legendgroup": "War",
         "marker": {
          "color": "gold",
          "size": [
           12
          ],
          "sizemode": "area",
          "sizeref": 0.1451851851851852,
          "symbol": "circle"
         },
         "mode": "markers+text",
         "name": "War",
         "orientation": "v",
         "showlegend": true,
         "text": [
          "War<br>12"
         ],
         "textposition": "top center",
         "type": "scatter",
         "x": [
          "War"
         ],
         "xaxis": "x",
         "y": [
          12
         ],
         "yaxis": "y"
        },
        {
         "hovertemplate": "Genere=%{x}<br>Count=%{marker.size}<br>label=%{text}<extra></extra>",
         "legendgroup": "Fantasy",
         "marker": {
          "color": "coral",
          "size": [
           2
          ],
          "sizemode": "area",
          "sizeref": 0.1451851851851852,
          "symbol": "circle"
         },
         "mode": "markers+text",
         "name": "Fantasy",
         "orientation": "v",
         "showlegend": true,
         "text": [
          "Fantasy<br>2"
         ],
         "textposition": "top center",
         "type": "scatter",
         "x": [
          "Fantasy"
         ],
         "xaxis": "x",
         "y": [
          2
         ],
         "yaxis": "y"
        }
       ],
       "layout": {
        "autosize": false,
        "dragmode": "pan",
        "height": 300,
        "hovermode": "closest",
        "legend": {
         "itemsizing": "constant",
         "title": {
          "text": "Genere"
         },
         "tracegroupgap": 0
        },
        "margin": {
         "b": 0,
         "l": 0,
         "r": 0,
         "t": 50
        },
        "paper_bgcolor": "white",
        "plot_bgcolor": "white",
        "showlegend": false,
        "template": {
         "data": {
          "bar": [
           {
            "error_x": {
             "color": "#2a3f5f"
            },
            "error_y": {
             "color": "#2a3f5f"
            },
            "marker": {
             "line": {
              "color": "#E5ECF6",
              "width": 0.5
             },
             "pattern": {
              "fillmode": "overlay",
              "size": 10,
              "solidity": 0.2
             }
            },
            "type": "bar"
           }
          ],
          "barpolar": [
           {
            "marker": {
             "line": {
              "color": "#E5ECF6",
              "width": 0.5
             },
             "pattern": {
              "fillmode": "overlay",
              "size": 10,
              "solidity": 0.2
             }
            },
            "type": "barpolar"
           }
          ],
          "carpet": [
           {
            "aaxis": {
             "endlinecolor": "#2a3f5f",
             "gridcolor": "white",
             "linecolor": "white",
             "minorgridcolor": "white",
             "startlinecolor": "#2a3f5f"
            },
            "baxis": {
             "endlinecolor": "#2a3f5f",
             "gridcolor": "white",
             "linecolor": "white",
             "minorgridcolor": "white",
             "startlinecolor": "#2a3f5f"
            },
            "type": "carpet"
           }
          ],
          "choropleth": [
           {
            "colorbar": {
             "outlinewidth": 0,
             "ticks": ""
            },
            "type": "choropleth"
           }
          ],
          "contour": [
           {
            "colorbar": {
             "outlinewidth": 0,
             "ticks": ""
            },
            "colorscale": [
             [
              0,
              "#0d0887"
             ],
             [
              0.1111111111111111,
              "#46039f"
             ],
             [
              0.2222222222222222,
              "#7201a8"
             ],
             [
              0.3333333333333333,
              "#9c179e"
             ],
             [
              0.4444444444444444,
              "#bd3786"
             ],
             [
              0.5555555555555556,
              "#d8576b"
             ],
             [
              0.6666666666666666,
              "#ed7953"
             ],
             [
              0.7777777777777778,
              "#fb9f3a"
             ],
             [
              0.8888888888888888,
              "#fdca26"
             ],
             [
              1,
              "#f0f921"
             ]
            ],
            "type": "contour"
           }
          ],
          "contourcarpet": [
           {
            "colorbar": {
             "outlinewidth": 0,
             "ticks": ""
            },
            "type": "contourcarpet"
           }
          ],
          "heatmap": [
           {
            "colorbar": {
             "outlinewidth": 0,
             "ticks": ""
            },
            "colorscale": [
             [
              0,
              "#0d0887"
             ],
             [
              0.1111111111111111,
              "#46039f"
             ],
             [
              0.2222222222222222,
              "#7201a8"
             ],
             [
              0.3333333333333333,
              "#9c179e"
             ],
             [
              0.4444444444444444,
              "#bd3786"
             ],
             [
              0.5555555555555556,
              "#d8576b"
             ],
             [
              0.6666666666666666,
              "#ed7953"
             ],
             [
              0.7777777777777778,
              "#fb9f3a"
             ],
             [
              0.8888888888888888,
              "#fdca26"
             ],
             [
              1,
              "#f0f921"
             ]
            ],
            "type": "heatmap"
           }
          ],
          "heatmapgl": [
           {
            "colorbar": {
             "outlinewidth": 0,
             "ticks": ""
            },
            "colorscale": [
             [
              0,
              "#0d0887"
             ],
             [
              0.1111111111111111,
              "#46039f"
             ],
             [
              0.2222222222222222,
              "#7201a8"
             ],
             [
              0.3333333333333333,
              "#9c179e"
             ],
             [
              0.4444444444444444,
              "#bd3786"
             ],
             [
              0.5555555555555556,
              "#d8576b"
             ],
             [
              0.6666666666666666,
              "#ed7953"
             ],
             [
              0.7777777777777778,
              "#fb9f3a"
             ],
             [
              0.8888888888888888,
              "#fdca26"
             ],
             [
              1,
              "#f0f921"
             ]
            ],
            "type": "heatmapgl"
           }
          ],
          "histogram": [
           {
            "marker": {
             "pattern": {
              "fillmode": "overlay",
              "size": 10,
              "solidity": 0.2
             }
            },
            "type": "histogram"
           }
          ],
          "histogram2d": [
           {
            "colorbar": {
             "outlinewidth": 0,
             "ticks": ""
            },
            "colorscale": [
             [
              0,
              "#0d0887"
             ],
             [
              0.1111111111111111,
              "#46039f"
             ],
             [
              0.2222222222222222,
              "#7201a8"
             ],
             [
              0.3333333333333333,
              "#9c179e"
             ],
             [
              0.4444444444444444,
              "#bd3786"
             ],
             [
              0.5555555555555556,
              "#d8576b"
             ],
             [
              0.6666666666666666,
              "#ed7953"
             ],
             [
              0.7777777777777778,
              "#fb9f3a"
             ],
             [
              0.8888888888888888,
              "#fdca26"
             ],
             [
              1,
              "#f0f921"
             ]
            ],
            "type": "histogram2d"
           }
          ],
          "histogram2dcontour": [
           {
            "colorbar": {
             "outlinewidth": 0,
             "ticks": ""
            },
            "colorscale": [
             [
              0,
              "#0d0887"
             ],
             [
              0.1111111111111111,
              "#46039f"
             ],
             [
              0.2222222222222222,
              "#7201a8"
             ],
             [
              0.3333333333333333,
              "#9c179e"
             ],
             [
              0.4444444444444444,
              "#bd3786"
             ],
             [
              0.5555555555555556,
              "#d8576b"
             ],
             [
              0.6666666666666666,
              "#ed7953"
             ],
             [
              0.7777777777777778,
              "#fb9f3a"
             ],
             [
              0.8888888888888888,
              "#fdca26"
             ],
             [
              1,
              "#f0f921"
             ]
            ],
            "type": "histogram2dcontour"
           }
          ],
          "mesh3d": [
           {
            "colorbar": {
             "outlinewidth": 0,
             "ticks": ""
            },
            "type": "mesh3d"
           }
          ],
          "parcoords": [
           {
            "line": {
             "colorbar": {
              "outlinewidth": 0,
              "ticks": ""
             }
            },
            "type": "parcoords"
           }
          ],
          "pie": [
           {
            "automargin": true,
            "type": "pie"
           }
          ],
          "scatter": [
           {
            "marker": {
             "colorbar": {
              "outlinewidth": 0,
              "ticks": ""
             }
            },
            "type": "scatter"
           }
          ],
          "scatter3d": [
           {
            "line": {
             "colorbar": {
              "outlinewidth": 0,
              "ticks": ""
             }
            },
            "marker": {
             "colorbar": {
              "outlinewidth": 0,
              "ticks": ""
             }
            },
            "type": "scatter3d"
           }
          ],
          "scattercarpet": [
           {
            "marker": {
             "colorbar": {
              "outlinewidth": 0,
              "ticks": ""
             }
            },
            "type": "scattercarpet"
           }
          ],
          "scattergeo": [
           {
            "marker": {
             "colorbar": {
              "outlinewidth": 0,
              "ticks": ""
             }
            },
            "type": "scattergeo"
           }
          ],
          "scattergl": [
           {
            "marker": {
             "colorbar": {
              "outlinewidth": 0,
              "ticks": ""
             }
            },
            "type": "scattergl"
           }
          ],
          "scattermapbox": [
           {
            "marker": {
             "colorbar": {
              "outlinewidth": 0,
              "ticks": ""
             }
            },
            "type": "scattermapbox"
           }
          ],
          "scatterpolar": [
           {
            "marker": {
             "colorbar": {
              "outlinewidth": 0,
              "ticks": ""
             }
            },
            "type": "scatterpolar"
           }
          ],
          "scatterpolargl": [
           {
            "marker": {
             "colorbar": {
              "outlinewidth": 0,
              "ticks": ""
             }
            },
            "type": "scatterpolargl"
           }
          ],
          "scatterternary": [
           {
            "marker": {
             "colorbar": {
              "outlinewidth": 0,
              "ticks": ""
             }
            },
            "type": "scatterternary"
           }
          ],
          "surface": [
           {
            "colorbar": {
             "outlinewidth": 0,
             "ticks": ""
            },
            "colorscale": [
             [
              0,
              "#0d0887"
             ],
             [
              0.1111111111111111,
              "#46039f"
             ],
             [
              0.2222222222222222,
              "#7201a8"
             ],
             [
              0.3333333333333333,
              "#9c179e"
             ],
             [
              0.4444444444444444,
              "#bd3786"
             ],
             [
              0.5555555555555556,
              "#d8576b"
             ],
             [
              0.6666666666666666,
              "#ed7953"
             ],
             [
              0.7777777777777778,
              "#fb9f3a"
             ],
             [
              0.8888888888888888,
              "#fdca26"
             ],
             [
              1,
              "#f0f921"
             ]
            ],
            "type": "surface"
           }
          ],
          "table": [
           {
            "cells": {
             "fill": {
              "color": "#EBF0F8"
             },
             "line": {
              "color": "white"
             }
            },
            "header": {
             "fill": {
              "color": "#C8D4E3"
             },
             "line": {
              "color": "white"
             }
            },
            "type": "table"
           }
          ]
         },
         "layout": {
          "annotationdefaults": {
           "arrowcolor": "#2a3f5f",
           "arrowhead": 0,
           "arrowwidth": 1
          },
          "autotypenumbers": "strict",
          "coloraxis": {
           "colorbar": {
            "outlinewidth": 0,
            "ticks": ""
           }
          },
          "colorscale": {
           "diverging": [
            [
             0,
             "#8e0152"
            ],
            [
             0.1,
             "#c51b7d"
            ],
            [
             0.2,
             "#de77ae"
            ],
            [
             0.3,
             "#f1b6da"
            ],
            [
             0.4,
             "#fde0ef"
            ],
            [
             0.5,
             "#f7f7f7"
            ],
            [
             0.6,
             "#e6f5d0"
            ],
            [
             0.7,
             "#b8e186"
            ],
            [
             0.8,
             "#7fbc41"
            ],
            [
             0.9,
             "#4d9221"
            ],
            [
             1,
             "#276419"
            ]
           ],
           "sequential": [
            [
             0,
             "#0d0887"
            ],
            [
             0.1111111111111111,
             "#46039f"
            ],
            [
             0.2222222222222222,
             "#7201a8"
            ],
            [
             0.3333333333333333,
             "#9c179e"
            ],
            [
             0.4444444444444444,
             "#bd3786"
            ],
            [
             0.5555555555555556,
             "#d8576b"
            ],
            [
             0.6666666666666666,
             "#ed7953"
            ],
            [
             0.7777777777777778,
             "#fb9f3a"
            ],
            [
             0.8888888888888888,
             "#fdca26"
            ],
            [
             1,
             "#f0f921"
            ]
           ],
           "sequentialminus": [
            [
             0,
             "#0d0887"
            ],
            [
             0.1111111111111111,
             "#46039f"
            ],
            [
             0.2222222222222222,
             "#7201a8"
            ],
            [
             0.3333333333333333,
             "#9c179e"
            ],
            [
             0.4444444444444444,
             "#bd3786"
            ],
            [
             0.5555555555555556,
             "#d8576b"
            ],
            [
             0.6666666666666666,
             "#ed7953"
            ],
            [
             0.7777777777777778,
             "#fb9f3a"
            ],
            [
             0.8888888888888888,
             "#fdca26"
            ],
            [
             1,
             "#f0f921"
            ]
           ]
          },
          "colorway": [
           "#636efa",
           "#EF553B",
           "#00cc96",
           "#ab63fa",
           "#FFA15A",
           "#19d3f3",
           "#FF6692",
           "#B6E880",
           "#FF97FF",
           "#FECB52"
          ],
          "font": {
           "color": "#2a3f5f"
          },
          "geo": {
           "bgcolor": "white",
           "lakecolor": "white",
           "landcolor": "#E5ECF6",
           "showlakes": true,
           "showland": true,
           "subunitcolor": "white"
          },
          "hoverlabel": {
           "align": "left"
          },
          "hovermode": "closest",
          "mapbox": {
           "style": "light"
          },
          "paper_bgcolor": "white",
          "plot_bgcolor": "#E5ECF6",
          "polar": {
           "angularaxis": {
            "gridcolor": "white",
            "linecolor": "white",
            "ticks": ""
           },
           "bgcolor": "#E5ECF6",
           "radialaxis": {
            "gridcolor": "white",
            "linecolor": "white",
            "ticks": ""
           }
          },
          "scene": {
           "xaxis": {
            "backgroundcolor": "#E5ECF6",
            "gridcolor": "white",
            "gridwidth": 2,
            "linecolor": "white",
            "showbackground": true,
            "ticks": "",
            "zerolinecolor": "white"
           },
           "yaxis": {
            "backgroundcolor": "#E5ECF6",
            "gridcolor": "white",
            "gridwidth": 2,
            "linecolor": "white",
            "showbackground": true,
            "ticks": "",
            "zerolinecolor": "white"
           },
           "zaxis": {
            "backgroundcolor": "#E5ECF6",
            "gridcolor": "white",
            "gridwidth": 2,
            "linecolor": "white",
            "showbackground": true,
            "ticks": "",
            "zerolinecolor": "white"
           }
          },
          "shapedefaults": {
           "line": {
            "color": "#2a3f5f"
           }
          },
          "ternary": {
           "aaxis": {
            "gridcolor": "white",
            "linecolor": "white",
            "ticks": ""
           },
           "baxis": {
            "gridcolor": "white",
            "linecolor": "white",
            "ticks": ""
           },
           "bgcolor": "#E5ECF6",
           "caxis": {
            "gridcolor": "white",
            "linecolor": "white",
            "ticks": ""
           }
          },
          "title": {
           "x": 0.05
          },
          "xaxis": {
           "automargin": true,
           "gridcolor": "white",
           "linecolor": "white",
           "ticks": "",
           "title": {
            "standoff": 15
           },
           "zerolinecolor": "white",
           "zerolinewidth": 2
          },
          "yaxis": {
           "automargin": true,
           "gridcolor": "white",
           "linecolor": "white",
           "ticks": "",
           "title": {
            "standoff": 15
           },
           "zerolinecolor": "white",
           "zerolinewidth": 2
          }
         }
        },
        "width": 1050,
        "xaxis": {
         "anchor": "y",
         "autorange": true,
         "categoryarray": [
          "Drama",
          "Comedy",
          "Action",
          "Horror",
          "Adventure",
          "Crime",
          "Documentary",
          "Thriller",
          "Animation",
          "Children's",
          "Romance",
          "Sci-Fi",
          "Mystery",
          "Western",
          "Film-Noir",
          "Musical",
          "War",
          "Fantasy"
         ],
         "categoryorder": "array",
         "domain": [
          0,
          1
         ],
         "range": [
          -2.4138189308154026,
          18.083425792519108
         ],
         "showgrid": false,
         "tickangle": 45,
         "title": {
          "text": "Genere"
         },
         "type": "category",
         "visible": false,
         "zeroline": false
        },
        "yaxis": {
         "anchor": "x",
         "autorange": true,
         "domain": [
          0,
          1
         ],
         "range": [
          -170.6474015798372,
          1853.1841272983365
         ],
         "showgrid": false,
         "showticklabels": false,
         "title": {
          "text": "Count"
         },
         "type": "linear",
         "visible": false,
         "zeroline": false
        }
       }
      },
      "image/png": "[encoded data removed]",
      "text/html": [
       "<div>                            <div id=\"0d081e0f-320f-4e53-ab24-02f47e3effc0\" class=\"plotly-graph-div\" style=\"height:300px; width:1050px;\"></div>            <script type=\"text/javascript\">                require([\"plotly\"], function(Plotly) {                    window.PLOTLYENV=window.PLOTLYENV || {};                                    if (document.getElementById(\"0d081e0f-320f-4e53-ab24-02f47e3effc0\")) {                    Plotly.newPlot(                        \"0d081e0f-320f-4e53-ab24-02f47e3effc0\",                        [{\"hovertemplate\":\"Genere=%{x}<br>Count=%{marker.size}<br>label=%{text}<extra></extra>\",\"legendgroup\":\"Drama\",\"marker\":{\"color\":\"blue\",\"size\":[1176],\"sizemode\":\"area\",\"sizeref\":0.1451851851851852,\"symbol\":\"circle\"},\"mode\":\"markers+text\",\"name\":\"Drama\",\"orientation\":\"v\",\"showlegend\":true,\"text\":[\"Drama<br>1176\"],\"x\":[\"Drama\"],\"xaxis\":\"x\",\"y\":[1176],\"yaxis\":\"y\",\"type\":\"scatter\",\"textposition\":\"top center\"},{\"hovertemplate\":\"Genere=%{x}<br>Count=%{marker.size}<br>label=%{text}<extra></extra>\",\"legendgroup\":\"Comedy\",\"marker\":{\"color\":\"green\",\"size\":[1024],\"sizemode\":\"area\",\"sizeref\":0.1451851851851852,\"symbol\":\"circle\"},\"mode\":\"markers+text\",\"name\":\"Comedy\",\"orientation\":\"v\",\"showlegend\":true,\"text\":[\"Comedy<br>1024\"],\"x\":[\"Comedy\"],\"xaxis\":\"x\",\"y\":[1024],\"yaxis\":\"y\",\"type\":\"scatter\",\"textposition\":\"top center\"},{\"hovertemplate\":\"Genere=%{x}<br>Count=%{marker.size}<br>label=%{text}<extra></extra>\",\"legendgroup\":\"Action\",\"marker\":{\"color\":\"red\",\"size\":[503],\"sizemode\":\"area\",\"sizeref\":0.1451851851851852,\"symbol\":\"circle\"},\"mode\":\"markers+text\",\"name\":\"Action\",\"orientation\":\"v\",\"showlegend\":true,\"text\":[\"Action<br>503\"],\"x\":[\"Action\"],\"xaxis\":\"x\",\"y\":[503],\"yaxis\":\"y\",\"type\":\"scatter\",\"textposition\":\"top center\"},{\"hovertemplate\":\"Genere=%{x}<br>Count=%{marker.size}<br>label=%{text}<extra></extra>\",\"legendgroup\":\"Horror\",\"marker\":{\"color\":\"purple\",\"size\":[262],\"sizemode\":\"area\",\"sizeref\":0.1451851851851852,\"symbol\":\"circle\"},\"mode\":\"markers+text\",\"name\":\"Horror\",\"orientation\":\"v\",\"showlegend\":true,\"text\":[\"Horror<br>262\"],\"x\":[\"Horror\"],\"xaxis\":\"x\",\"y\":[262],\"yaxis\":\"y\",\"type\":\"scatter\",\"textposition\":\"top center\"},{\"hovertemplate\":\"Genere=%{x}<br>Count=%{marker.size}<br>label=%{text}<extra></extra>\",\"legendgroup\":\"Adventure\",\"marker\":{\"color\":\"orange\",\"size\":[155],\"sizemode\":\"area\",\"sizeref\":0.1451851851851852,\"symbol\":\"circle\"},\"mode\":\"markers+text\",\"name\":\"Adventure\",\"orientation\":\"v\",\"showlegend\":true,\"text\":[\"Adventure<br>155\"],\"x\":[\"Adventure\"],\"xaxis\":\"x\",\"y\":[155],\"yaxis\":\"y\",\"type\":\"scatter\",\"textposition\":\"top center\"},{\"hovertemplate\":\"Genere=%{x}<br>Count=%{marker.size}<br>label=%{text}<extra></extra>\",\"legendgroup\":\"Crime\",\"marker\":{\"color\":\"yellow\",\"size\":[131],\"sizemode\":\"area\",\"sizeref\":0.1451851851851852,\"symbol\":\"circle\"},\"mode\":\"markers+text\",\"name\":\"Crime\",\"orientation\":\"v\",\"showlegend\":true,\"text\":[\"Crime<br>131\"],\"x\":[\"Crime\"],\"xaxis\":\"x\",\"y\":[131],\"yaxis\":\"y\",\"type\":\"scatter\",\"textposition\":\"top center\"},{\"hovertemplate\":\"Genere=%{x}<br>Count=%{marker.size}<br>label=%{text}<extra></extra>\",\"legendgroup\":\"Documentary\",\"marker\":{\"color\":\"brown\",\"size\":[123],\"sizemode\":\"area\",\"sizeref\":0.1451851851851852,\"symbol\":\"circle\"},\"mode\":\"markers+text\",\"name\":\"Documentary\",\"orientation\":\"v\",\"showlegend\":true,\"text\":[\"Documentary<br>123\"],\"x\":[\"Documentary\"],\"xaxis\":\"x\",\"y\":[123],\"yaxis\":\"y\",\"type\":\"scatter\",\"textposition\":\"top center\"},{\"hovertemplate\":\"Genere=%{x}<br>Count=%{marker.size}<br>label=%{text}<extra></extra>\",\"legendgroup\":\"Thriller\",\"marker\":{\"color\":\"pink\",\"size\":[101],\"sizemode\":\"area\",\"sizeref\":0.1451851851851852,\"symbol\":\"circle\"},\"mode\":\"markers+text\",\"name\":\"Thriller\",\"orientation\":\"v\",\"showlegend\":true,\"text\":[\"Thriller<br>101\"],\"x\":[\"Thriller\"],\"xaxis\":\"x\",\"y\":[101],\"yaxis\":\"y\",\"type\":\"scatter\",\"textposition\":\"top center\"},{\"hovertemplate\":\"Genere=%{x}<br>Count=%{marker.size}<br>label=%{text}<extra></extra>\",\"legendgroup\":\"Animation\",\"marker\":{\"color\":\"gray\",\"size\":[90],\"sizemode\":\"area\",\"sizeref\":0.1451851851851852,\"symbol\":\"circle\"},\"mode\":\"markers+text\",\"name\":\"Animation\",\"orientation\":\"v\",\"showlegend\":true,\"text\":[\"Animation<br>90\"],\"x\":[\"Animation\"],\"xaxis\":\"x\",\"y\":[90],\"yaxis\":\"y\",\"type\":\"scatter\",\"textposition\":\"top center\"},{\"hovertemplate\":\"Genere=%{x}<br>Count=%{marker.size}<br>label=%{text}<extra></extra>\",\"legendgroup\":\"Children's\",\"marker\":{\"color\":\"black\",\"size\":[89],\"sizemode\":\"area\",\"sizeref\":0.1451851851851852,\"symbol\":\"circle\"},\"mode\":\"markers+text\",\"name\":\"Children's\",\"orientation\":\"v\",\"showlegend\":true,\"text\":[\"Children's<br>89\"],\"x\":[\"Children's\"],\"xaxis\":\"x\",\"y\":[89],\"yaxis\":\"y\",\"type\":\"scatter\",\"textposition\":\"top center\"},{\"hovertemplate\":\"Genere=%{x}<br>Count=%{marker.size}<br>label=%{text}<extra></extra>\",\"legendgroup\":\"Romance\",\"marker\":{\"color\":\"cyan\",\"size\":[50],\"sizemode\":\"area\",\"sizeref\":0.1451851851851852,\"symbol\":\"circle\"},\"mode\":\"markers+text\",\"name\":\"Romance\",\"orientation\":\"v\",\"showlegend\":true,\"text\":[\"Romance<br>50\"],\"x\":[\"Romance\"],\"xaxis\":\"x\",\"y\":[50],\"yaxis\":\"y\",\"type\":\"scatter\",\"textposition\":\"top center\"},{\"hovertemplate\":\"Genere=%{x}<br>Count=%{marker.size}<br>label=%{text}<extra></extra>\",\"legendgroup\":\"Sci-Fi\",\"marker\":{\"color\":\"magenta\",\"size\":[46],\"sizemode\":\"area\",\"sizeref\":0.1451851851851852,\"symbol\":\"circle\"},\"mode\":\"markers+text\",\"name\":\"Sci-Fi\",\"orientation\":\"v\",\"showlegend\":true,\"text\":[\"Sci-Fi<br>46\"],\"x\":[\"Sci-Fi\"],\"xaxis\":\"x\",\"y\":[46],\"yaxis\":\"y\",\"type\":\"scatter\",\"textposition\":\"top center\"},{\"hovertemplate\":\"Genere=%{x}<br>Count=%{marker.size}<br>label=%{text}<extra></extra>\",\"legendgroup\":\"Mystery\",\"marker\":{\"color\":\"olive\",\"size\":[36],\"sizemode\":\"area\",\"sizeref\":0.1451851851851852,\"symbol\":\"circle\"},\"mode\":\"markers+text\",\"name\":\"Mystery\",\"orientation\":\"v\",\"showlegend\":true,\"text\":[\"Mystery<br>36\"],\"x\":[\"Mystery\"],\"xaxis\":\"x\",\"y\":[36],\"yaxis\":\"y\",\"type\":\"scatter\",\"textposition\":\"top center\"},{\"hovertemplate\":\"Genere=%{x}<br>Count=%{marker.size}<br>label=%{text}<extra></extra>\",\"legendgroup\":\"Western\",\"marker\":{\"color\":\"navy\",\"size\":[33],\"sizemode\":\"area\",\"sizeref\":0.1451851851851852,\"symbol\":\"circle\"},\"mode\":\"markers+text\",\"name\":\"Western\",\"orientation\":\"v\",\"showlegend\":true,\"text\":[\"Western<br>33\"],\"x\":[\"Western\"],\"xaxis\":\"x\",\"y\":[33],\"yaxis\":\"y\",\"type\":\"scatter\",\"textposition\":\"top center\"},{\"hovertemplate\":\"Genere=%{x}<br>Count=%{marker.size}<br>label=%{text}<extra></extra>\",\"legendgroup\":\"Film-Noir\",\"marker\":{\"color\":\"teal\",\"size\":[25],\"sizemode\":\"area\",\"sizeref\":0.1451851851851852,\"symbol\":\"circle\"},\"mode\":\"markers+text\",\"name\":\"Film-Noir\",\"orientation\":\"v\",\"showlegend\":true,\"text\":[\"Film-Noir<br>25\"],\"x\":[\"Film-Noir\"],\"xaxis\":\"x\",\"y\":[25],\"yaxis\":\"y\",\"type\":\"scatter\",\"textposition\":\"top center\"},{\"hovertemplate\":\"Genere=%{x}<br>Count=%{marker.size}<br>label=%{text}<extra></extra>\",\"legendgroup\":\"Musical\",\"marker\":{\"color\":\"salmon\",\"size\":[25],\"sizemode\":\"area\",\"sizeref\":0.1451851851851852,\"symbol\":\"circle\"},\"mode\":\"markers+text\",\"name\":\"Musical\",\"orientation\":\"v\",\"showlegend\":true,\"text\":[\"Musical<br>25\"],\"x\":[\"Musical\"],\"xaxis\":\"x\",\"y\":[25],\"yaxis\":\"y\",\"type\":\"scatter\",\"textposition\":\"top center\"},{\"hovertemplate\":\"Genere=%{x}<br>Count=%{marker.size}<br>label=%{text}<extra></extra>\",\"legendgroup\":\"War\",\"marker\":{\"color\":\"gold\",\"size\":[12],\"sizemode\":\"area\",\"sizeref\":0.1451851851851852,\"symbol\":\"circle\"},\"mode\":\"markers+text\",\"name\":\"War\",\"orientation\":\"v\",\"showlegend\":true,\"text\":[\"War<br>12\"],\"x\":[\"War\"],\"xaxis\":\"x\",\"y\":[12],\"yaxis\":\"y\",\"type\":\"scatter\",\"textposition\":\"top center\"},{\"hovertemplate\":\"Genere=%{x}<br>Count=%{marker.size}<br>label=%{text}<extra></extra>\",\"legendgroup\":\"Fantasy\",\"marker\":{\"color\":\"coral\",\"size\":[2],\"sizemode\":\"area\",\"sizeref\":0.1451851851851852,\"symbol\":\"circle\"},\"mode\":\"markers+text\",\"name\":\"Fantasy\",\"orientation\":\"v\",\"showlegend\":true,\"text\":[\"Fantasy<br>2\"],\"x\":[\"Fantasy\"],\"xaxis\":\"x\",\"y\":[2],\"yaxis\":\"y\",\"type\":\"scatter\",\"textposition\":\"top center\"}],                        {\"template\":{\"data\":{\"bar\":[{\"error_x\":{\"color\":\"#2a3f5f\"},\"error_y\":{\"color\":\"#2a3f5f\"},\"marker\":{\"line\":{\"color\":\"#E5ECF6\",\"width\":0.5},\"pattern\":{\"fillmode\":\"overlay\",\"size\":10,\"solidity\":0.2}},\"type\":\"bar\"}],\"barpolar\":[{\"marker\":{\"line\":{\"color\":\"#E5ECF6\",\"width\":0.5},\"pattern\":{\"fillmode\":\"overlay\",\"size\":10,\"solidity\":0.2}},\"type\":\"barpolar\"}],\"carpet\":[{\"aaxis\":{\"endlinecolor\":\"#2a3f5f\",\"gridcolor\":\"white\",\"linecolor\":\"white\",\"minorgridcolor\":\"white\",\"startlinecolor\":\"#2a3f5f\"},\"baxis\":{\"endlinecolor\":\"#2a3f5f\",\"gridcolor\":\"white\",\"linecolor\":\"white\",\"minorgridcolor\":\"white\",\"startlinecolor\":\"#2a3f5f\"},\"type\":\"carpet\"}],\"choropleth\":[{\"colorbar\":{\"outlinewidth\":0,\"ticks\":\"\"},\"type\":\"choropleth\"}],\"contour\":[{\"colorbar\":{\"outlinewidth\":0,\"ticks\":\"\"},\"colorscale\":[[0.0,\"#0d0887\"],[0.1111111111111111,\"#46039f\"],[0.2222222222222222,\"#7201a8\"],[0.3333333333333333,\"#9c179e\"],[0.4444444444444444,\"#bd3786\"],[0.5555555555555556,\"#d8576b\"],[0.6666666666666666,\"#ed7953\"],[0.7777777777777778,\"#fb9f3a\"],[0.8888888888888888,\"#fdca26\"],[1.0,\"#f0f921\"]],\"type\":\"contour\"}],\"contourcarpet\":[{\"colorbar\":{\"outlinewidth\":0,\"ticks\":\"\"},\"type\":\"contourcarpet\"}],\"heatmap\":[{\"colorbar\":{\"outlinewidth\":0,\"ticks\":\"\"},\"colorscale\":[[0.0,\"#0d0887\"],[0.1111111111111111,\"#46039f\"],[0.2222222222222222,\"#7201a8\"],[0.3333333333333333,\"#9c179e\"],[0.4444444444444444,\"#bd3786\"],[0.5555555555555556,\"#d8576b\"],[0.6666666666666666,\"#ed7953\"],[0.7777777777777778,\"#fb9f3a\"],[0.8888888888888888,\"#fdca26\"],[1.0,\"#f0f921\"]],\"type\":\"heatmap\"}],\"heatmapgl\":[{\"colorbar\":{\"outlinewidth\":0,\"ticks\":\"\"},\"colorscale\":[[0.0,\"#0d0887\"],[0.1111111111111111,\"#46039f\"],[0.2222222222222222,\"#7201a8\"],[0.3333333333333333,\"#9c179e\"],[0.4444444444444444,\"#bd3786\"],[0.5555555555555556,\"#d8576b\"],[0.6666666666666666,\"#ed7953\"],[0.7777777777777778,\"#fb9f3a\"],[0.8888888888888888,\"#fdca26\"],[1.0,\"#f0f921\"]],\"type\":\"heatmapgl\"}],\"histogram\":[{\"marker\":{\"pattern\":{\"fillmode\":\"overlay\",\"size\":10,\"solidity\":0.2}},\"type\":\"histogram\"}],\"histogram2d\":[{\"colorbar\":{\"outlinewidth\":0,\"ticks\":\"\"},\"colorscale\":[[0.0,\"#0d0887\"],[0.1111111111111111,\"#46039f\"],[0.2222222222222222,\"#7201a8\"],[0.3333333333333333,\"#9c179e\"],[0.4444444444444444,\"#bd3786\"],[0.5555555555555556,\"#d8576b\"],[0.6666666666666666,\"#ed7953\"],[0.7777777777777778,\"#fb9f3a\"],[0.8888888888888888,\"#fdca26\"],[1.0,\"#f0f921\"]],\"type\":\"histogram2d\"}],\"histogram2dcontour\":[{\"colorbar\":{\"outlinewidth\":0,\"ticks\":\"\"},\"colorscale\":[[0.0,\"#0d0887\"],[0.1111111111111111,\"#46039f\"],[0.2222222222222222,\"#7201a8\"],[0.3333333333333333,\"#9c179e\"],[0.4444444444444444,\"#bd3786\"],[0.5555555555555556,\"#d8576b\"],[0.6666666666666666,\"#ed7953\"],[0.7777777777777778,\"#fb9f3a\"],[0.8888888888888888,\"#fdca26\"],[1.0,\"#f0f921\"]],\"type\":\"histogram2dcontour\"}],\"mesh3d\":[{\"colorbar\":{\"outlinewidth\":0,\"ticks\":\"\"},\"type\":\"mesh3d\"}],\"parcoords\":[{\"line\":{\"colorbar\":{\"outlinewidth\":0,\"ticks\":\"\"}},\"type\":\"parcoords\"}],\"pie\":[{\"automargin\":true,\"type\":\"pie\"}],\"scatter\":[{\"marker\":{\"colorbar\":{\"outlinewidth\":0,\"ticks\":\"\"}},\"type\":\"scatter\"}],\"scatter3d\":[{\"line\":{\"colorbar\":{\"outlinewidth\":0,\"ticks\":\"\"}},\"marker\":{\"colorbar\":{\"outlinewidth\":0,\"ticks\":\"\"}},\"type\":\"scatter3d\"}],\"scattercarpet\":[{\"marker\":{\"colorbar\":{\"outlinewidth\":0,\"ticks\":\"\"}},\"type\":\"scattercarpet\"}],\"scattergeo\":[{\"marker\":{\"colorbar\":{\"outlinewidth\":0,\"ticks\":\"\"}},\"type\":\"scattergeo\"}],\"scattergl\":[{\"marker\":{\"colorbar\":{\"outlinewidth\":0,\"ticks\":\"\"}},\"type\":\"scattergl\"}],\"scattermapbox\":[{\"marker\":{\"colorbar\":{\"outlinewidth\":0,\"ticks\":\"\"}},\"type\":\"scattermapbox\"}],\"scatterpolar\":[{\"marker\":{\"colorbar\":{\"outlinewidth\":0,\"ticks\":\"\"}},\"type\":\"scatterpolar\"}],\"scatterpolargl\":[{\"marker\":{\"colorbar\":{\"outlinewidth\":0,\"ticks\":\"\"}},\"type\":\"scatterpolargl\"}],\"scatterternary\":[{\"marker\":{\"colorbar\":{\"outlinewidth\":0,\"ticks\":\"\"}},\"type\":\"scatterternary\"}],\"surface\":[{\"colorbar\":{\"outlinewidth\":0,\"ticks\":\"\"},\"colorscale\":[[0.0,\"#0d0887\"],[0.1111111111111111,\"#46039f\"],[0.2222222222222222,\"#7201a8\"],[0.3333333333333333,\"#9c179e\"],[0.4444444444444444,\"#bd3786\"],[0.5555555555555556,\"#d8576b\"],[0.6666666666666666,\"#ed7953\"],[0.7777777777777778,\"#fb9f3a\"],[0.8888888888888888,\"#fdca26\"],[1.0,\"#f0f921\"]],\"type\":\"surface\"}],\"table\":[{\"cells\":{\"fill\":{\"color\":\"#EBF0F8\"},\"line\":{\"color\":\"white\"}},\"header\":{\"fill\":{\"color\":\"#C8D4E3\"},\"line\":{\"color\":\"white\"}},\"type\":\"table\"}]},\"layout\":{\"annotationdefaults\":{\"arrowcolor\":\"#2a3f5f\",\"arrowhead\":0,\"arrowwidth\":1},\"autotypenumbers\":\"strict\",\"coloraxis\":{\"colorbar\":{\"outlinewidth\":0,\"ticks\":\"\"}},\"colorscale\":{\"diverging\":[[0,\"#8e0152\"],[0.1,\"#c51b7d\"],[0.2,\"#de77ae\"],[0.3,\"#f1b6da\"],[0.4,\"#fde0ef\"],[0.5,\"#f7f7f7\"],[0.6,\"#e6f5d0\"],[0.7,\"#b8e186\"],[0.8,\"#7fbc41\"],[0.9,\"#4d9221\"],[1,\"#276419\"]],\"sequential\":[[0.0,\"#0d0887\"],[0.1111111111111111,\"#46039f\"],[0.2222222222222222,\"#7201a8\"],[0.3333333333333333,\"#9c179e\"],[0.4444444444444444,\"#bd3786\"],[0.5555555555555556,\"#d8576b\"],[0.6666666666666666,\"#ed7953\"],[0.7777777777777778,\"#fb9f3a\"],[0.8888888888888888,\"#fdca26\"],[1.0,\"#f0f921\"]],\"sequentialminus\":[[0.0,\"#0d0887\"],[0.1111111111111111,\"#46039f\"],[0.2222222222222222,\"#7201a8\"],[0.3333333333333333,\"#9c179e\"],[0.4444444444444444,\"#bd3786\"],[0.5555555555555556,\"#d8576b\"],[0.6666666666666666,\"#ed7953\"],[0.7777777777777778,\"#fb9f3a\"],[0.8888888888888888,\"#fdca26\"],[1.0,\"#f0f921\"]]},\"colorway\":[\"#636efa\",\"#EF553B\",\"#00cc96\",\"#ab63fa\",\"#FFA15A\",\"#19d3f3\",\"#FF6692\",\"#B6E880\",\"#FF97FF\",\"#FECB52\"],\"font\":{\"color\":\"#2a3f5f\"},\"geo\":{\"bgcolor\":\"white\",\"lakecolor\":\"white\",\"landcolor\":\"#E5ECF6\",\"showlakes\":true,\"showland\":true,\"subunitcolor\":\"white\"},\"hoverlabel\":{\"align\":\"left\"},\"hovermode\":\"closest\",\"mapbox\":{\"style\":\"light\"},\"paper_bgcolor\":\"white\",\"plot_bgcolor\":\"#E5ECF6\",\"polar\":{\"angularaxis\":{\"gridcolor\":\"white\",\"linecolor\":\"white\",\"ticks\":\"\"},\"bgcolor\":\"#E5ECF6\",\"radialaxis\":{\"gridcolor\":\"white\",\"linecolor\":\"white\",\"ticks\":\"\"}},\"scene\":{\"xaxis\":{\"backgroundcolor\":\"#E5ECF6\",\"gridcolor\":\"white\",\"gridwidth\":2,\"linecolor\":\"white\",\"showbackground\":true,\"ticks\":\"\",\"zerolinecolor\":\"white\"},\"yaxis\":{\"backgroundcolor\":\"#E5ECF6\",\"gridcolor\":\"white\",\"gridwidth\":2,\"linecolor\":\"white\",\"showbackground\":true,\"ticks\":\"\",\"zerolinecolor\":\"white\"},\"zaxis\":{\"backgroundcolor\":\"#E5ECF6\",\"gridcolor\":\"white\",\"gridwidth\":2,\"linecolor\":\"white\",\"showbackground\":true,\"ticks\":\"\",\"zerolinecolor\":\"white\"}},\"shapedefaults\":{\"line\":{\"color\":\"#2a3f5f\"}},\"ternary\":{\"aaxis\":{\"gridcolor\":\"white\",\"linecolor\":\"white\",\"ticks\":\"\"},\"baxis\":{\"gridcolor\":\"white\",\"linecolor\":\"white\",\"ticks\":\"\"},\"bgcolor\":\"#E5ECF6\",\"caxis\":{\"gridcolor\":\"white\",\"linecolor\":\"white\",\"ticks\":\"\"}},\"title\":{\"x\":0.05},\"xaxis\":{\"automargin\":true,\"gridcolor\":\"white\",\"linecolor\":\"white\",\"ticks\":\"\",\"title\":{\"standoff\":15},\"zerolinecolor\":\"white\",\"zerolinewidth\":2},\"yaxis\":{\"automargin\":true,\"gridcolor\":\"white\",\"linecolor\":\"white\",\"ticks\":\"\",\"title\":{\"standoff\":15},\"zerolinecolor\":\"white\",\"zerolinewidth\":2}}},\"xaxis\":{\"anchor\":\"y\",\"domain\":[0.0,1.0],\"title\":{\"text\":\"Genere\"},\"categoryorder\":\"array\",\"categoryarray\":[\"Drama\",\"Comedy\",\"Action\",\"Horror\",\"Adventure\",\"Crime\",\"Documentary\",\"Thriller\",\"Animation\",\"Children's\",\"Romance\",\"Sci-Fi\",\"Mystery\",\"Western\",\"Film-Noir\",\"Musical\",\"War\",\"Fantasy\"],\"showgrid\":false,\"zeroline\":false,\"visible\":false,\"tickangle\":45},\"yaxis\":{\"anchor\":\"x\",\"domain\":[0.0,1.0],\"title\":{\"text\":\"Count\"},\"showgrid\":false,\"zeroline\":false,\"visible\":false,\"showticklabels\":false},\"legend\":{\"title\":{\"text\":\"Genere\"},\"tracegroupgap\":0,\"itemsizing\":\"constant\"},\"margin\":{\"t\":50,\"l\":0,\"r\":0,\"b\":0},\"width\":1050,\"height\":300,\"showlegend\":false,\"plot_bgcolor\":\"white\",\"paper_bgcolor\":\"white\",\"autosize\":false,\"hovermode\":\"closest\"},                        {\"responsive\": true}                    ).then(function(){\n",
       "                            \n",
       "var gd = document.getElementById('0d081e0f-320f-4e53-ab24-02f47e3effc0');\n",
       "var x = new MutationObserver(function (mutations, observer) {{\n",
       "        var display = window.getComputedStyle(gd).display;\n",
       "        if (!display || display === 'none') {{\n",
       "            console.log([gd, 'removed!']);\n",
       "            Plotly.purge(gd);\n",
       "            observer.disconnect();\n",
       "        }}\n",
       "}});\n",
       "\n",
       "// Listen for the removal of the full notebook cells\n",
       "var notebookContainer = gd.closest('#notebook-container');\n",
       "if (notebookContainer) {{\n",
       "    x.observe(notebookContainer, {childList: true});\n",
       "}}\n",
       "\n",
       "// Listen for the clearing of the current output cell\n",
       "var outputEl = gd.closest('.output');\n",
       "if (outputEl) {{\n",
       "    x.observe(outputEl, {childList: true});\n",
       "}}\n",
       "\n",
       "                        })                };                });            </script>        </div>"
      ]
     },
     "metadata": {},
     "output_type": "display_data"
    }
   ],
   "source": [
    "import numpy as np\n",
    "import pandas as pd\n",
    "import matplotlib.pyplot as plt\n",
    "import seaborn as sns\n",
    "\n",
    "# Group the DataFrame by 'genre' and compute the count\n",
    "genre_counts = movies['genere'].value_counts()\n",
    "\n",
    "# Nou dataframe\n",
    "data = pd.DataFrame({'Genere': genre_counts.index, 'Count': genre_counts.values})\n",
    "\n",
    "# Llista d'etiquetes per les bombolles\n",
    "data['label'] = [i+'<br>'+str(j) for i, j in zip(data['Genere'], data['Count'])]\n",
    "\n",
    "colors = {\n",
    "    'Action': 'blue',\n",
    "    'Adventure': 'green',\n",
    "    'Animation': 'red',\n",
    "    'Children\\'s': 'purple',\n",
    "    'Comedy': 'orange',\n",
    "    'Crime': 'yellow',\n",
    "    'Documentary': 'brown',\n",
    "    'Drama': 'pink',\n",
    "    'Fantasy': 'gray',\n",
    "    'Film-Noir': 'black',\n",
    "    'Horror': 'cyan',\n",
    "    'Musical': 'magenta',\n",
    "    'Mystery': 'olive',\n",
    "    'Romance': 'navy',\n",
    "    'Sci-Fi': 'teal',\n",
    "    'Thriller': 'salmon',\n",
    "    'War': 'gold',\n",
    "    'Western': 'coral'\n",
    "}\n",
    "\n",
    "import plotly.express as px\n",
    "fig = px.scatter(data, x='Genere', y='Count',\n",
    "                 color='Genere', color_discrete_sequence=list(colors.values()),\n",
    "                 size='Count', text='label', size_max=90\n",
    "                )\n",
    "fig.update_layout(width=900, height=320,\n",
    "                  margin=dict(t=50, l=0, r=0, b=0),\n",
    "                  showlegend=False\n",
    "                 )\n",
    "fig.update_traces(textposition='top center')\n",
    "fig.update_xaxes(showgrid=False, zeroline=False, visible=False, tickangle=45)\n",
    "fig.update_yaxes(showgrid=False, zeroline=False, visible=False)\n",
    "fig.update_layout(plot_bgcolor='white', paper_bgcolor='white')\n",
    "fig.update_layout(autosize=False, width=1050, height=300, hovermode='closest')\n",
    "fig.update_yaxes(showticklabels=False, showgrid=False, zeroline=False, visible=False)\n",
    "fig.show()"
   ]
  },
  {
   "cell_type": "markdown",
   "id": "efdbc8c9-639b-4289-8d29-fad536d9e3b3",
   "metadata": {},
   "source": [
    "![BubbleChart](newplot.png)"
   ]
  }
 ],
 "metadata": {
  "kernelspec": {
   "display_name": "anaconda-2022.05-py39",
   "language": "python",
   "name": "conda-env-anaconda-2022.05-py39-py"
  },
  "language_info": {
   "codemirror_mode": {
    "name": "ipython",
    "version": 3
   },
   "file_extension": ".py",
   "mimetype": "text/x-python",
   "name": "python",
   "nbconvert_exporter": "python",
   "pygments_lexer": "ipython3",
   "version": "3.9.12"
  }
 },
 "nbformat": 4,
 "nbformat_minor": 5
}
