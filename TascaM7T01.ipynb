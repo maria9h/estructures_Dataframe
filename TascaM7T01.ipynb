{
 "cells": [
  {
   "cell_type": "markdown",
   "metadata": {},
   "source": [
    "# Tasca M7 T01"
   ]
  },
  {
   "cell_type": "markdown",
   "metadata": {},
   "source": [
    "Exercicis d'algoritmes de Classificació."
   ]
  },
  {
   "cell_type": "markdown",
   "metadata": {},
   "source": [
    "### Exercici 1\n",
    "Crea almenys dos models de classificació diferents per intentar predir el millor les classes de l'arxiu adjunt."
   ]
  },
  {
   "cell_type": "code",
   "execution_count": 103,
   "metadata": {},
   "outputs": [],
   "source": [
    "# Load libraries\n",
    "import pandas as pd\n",
    "import sklearn\n",
    "from sklearn.tree import DecisionTreeClassifier # Import Decision Tree Classifier\n",
    "from sklearn.model_selection import train_test_split # Import train_test_split function\n",
    "from sklearn import metrics #Import scikit-learn metrics module for accuracy calculation"
   ]
  },
  {
   "cell_type": "code",
   "execution_count": 104,
   "metadata": {},
   "outputs": [
    {
     "data": {
      "text/html": [
       "<div>\n",
       "<style scoped>\n",
       "    .dataframe tbody tr th:only-of-type {\n",
       "        vertical-align: middle;\n",
       "    }\n",
       "\n",
       "    .dataframe tbody tr th {\n",
       "        vertical-align: top;\n",
       "    }\n",
       "\n",
       "    .dataframe thead th {\n",
       "        text-align: right;\n",
       "    }\n",
       "</style>\n",
       "<table border=\"1\" class=\"dataframe\">\n",
       "  <thead>\n",
       "    <tr style=\"text-align: right;\">\n",
       "      <th></th>\n",
       "      <th>Cultivars</th>\n",
       "      <th>Alcohol</th>\n",
       "      <th>Malic acid</th>\n",
       "      <th>Ash</th>\n",
       "      <th>Alcalinity of ash</th>\n",
       "      <th>Magnesium</th>\n",
       "      <th>Total phenols</th>\n",
       "      <th>Flavanoids</th>\n",
       "      <th>Nonflavano id phenols</th>\n",
       "      <th>Proanthocy anins</th>\n",
       "      <th>Color intensity</th>\n",
       "      <th>Hue</th>\n",
       "      <th>OD280/OD315 of diluted wines</th>\n",
       "      <th>Proline</th>\n",
       "    </tr>\n",
       "  </thead>\n",
       "  <tbody>\n",
       "    <tr>\n",
       "      <th>0</th>\n",
       "      <td>1</td>\n",
       "      <td>14.23</td>\n",
       "      <td>1.71</td>\n",
       "      <td>2.43</td>\n",
       "      <td>15.6</td>\n",
       "      <td>127</td>\n",
       "      <td>2.80</td>\n",
       "      <td>3.06</td>\n",
       "      <td>0.28</td>\n",
       "      <td>2.29</td>\n",
       "      <td>5.64</td>\n",
       "      <td>1.04</td>\n",
       "      <td>3.92</td>\n",
       "      <td>1065</td>\n",
       "    </tr>\n",
       "    <tr>\n",
       "      <th>1</th>\n",
       "      <td>1</td>\n",
       "      <td>13.20</td>\n",
       "      <td>1.78</td>\n",
       "      <td>2.14</td>\n",
       "      <td>11.2</td>\n",
       "      <td>100</td>\n",
       "      <td>2.65</td>\n",
       "      <td>2.76</td>\n",
       "      <td>0.26</td>\n",
       "      <td>1.28</td>\n",
       "      <td>4.38</td>\n",
       "      <td>1.05</td>\n",
       "      <td>3.40</td>\n",
       "      <td>1050</td>\n",
       "    </tr>\n",
       "    <tr>\n",
       "      <th>2</th>\n",
       "      <td>1</td>\n",
       "      <td>13.16</td>\n",
       "      <td>2.36</td>\n",
       "      <td>2.67</td>\n",
       "      <td>18.6</td>\n",
       "      <td>101</td>\n",
       "      <td>2.80</td>\n",
       "      <td>3.24</td>\n",
       "      <td>0.30</td>\n",
       "      <td>2.81</td>\n",
       "      <td>5.68</td>\n",
       "      <td>1.03</td>\n",
       "      <td>3.17</td>\n",
       "      <td>1185</td>\n",
       "    </tr>\n",
       "    <tr>\n",
       "      <th>3</th>\n",
       "      <td>1</td>\n",
       "      <td>14.37</td>\n",
       "      <td>1.95</td>\n",
       "      <td>2.50</td>\n",
       "      <td>16.8</td>\n",
       "      <td>113</td>\n",
       "      <td>3.85</td>\n",
       "      <td>3.49</td>\n",
       "      <td>0.24</td>\n",
       "      <td>2.18</td>\n",
       "      <td>7.80</td>\n",
       "      <td>0.86</td>\n",
       "      <td>3.45</td>\n",
       "      <td>1480</td>\n",
       "    </tr>\n",
       "    <tr>\n",
       "      <th>4</th>\n",
       "      <td>1</td>\n",
       "      <td>13.24</td>\n",
       "      <td>2.59</td>\n",
       "      <td>2.87</td>\n",
       "      <td>21.0</td>\n",
       "      <td>118</td>\n",
       "      <td>2.80</td>\n",
       "      <td>2.69</td>\n",
       "      <td>0.39</td>\n",
       "      <td>1.82</td>\n",
       "      <td>4.32</td>\n",
       "      <td>1.04</td>\n",
       "      <td>2.93</td>\n",
       "      <td>735</td>\n",
       "    </tr>\n",
       "  </tbody>\n",
       "</table>\n",
       "</div>"
      ],
      "text/plain": [
       "   Cultivars  Alcohol  Malic acid   Ash  Alcalinity of ash  Magnesium  \\\n",
       "0          1    14.23        1.71  2.43               15.6        127   \n",
       "1          1    13.20        1.78  2.14               11.2        100   \n",
       "2          1    13.16        2.36  2.67               18.6        101   \n",
       "3          1    14.37        1.95  2.50               16.8        113   \n",
       "4          1    13.24        2.59  2.87               21.0        118   \n",
       "\n",
       "   Total phenols  Flavanoids  Nonflavano id phenols  Proanthocy anins  \\\n",
       "0           2.80        3.06                   0.28              2.29   \n",
       "1           2.65        2.76                   0.26              1.28   \n",
       "2           2.80        3.24                   0.30              2.81   \n",
       "3           3.85        3.49                   0.24              2.18   \n",
       "4           2.80        2.69                   0.39              1.82   \n",
       "\n",
       "   Color intensity   Hue  OD280/OD315 of diluted wines  Proline  \n",
       "0             5.64  1.04                          3.92     1065  \n",
       "1             4.38  1.05                          3.40     1050  \n",
       "2             5.68  1.03                          3.17     1185  \n",
       "3             7.80  0.86                          3.45     1480  \n",
       "4             4.32  1.04                          2.93      735  "
      ]
     },
     "execution_count": 104,
     "metadata": {},
     "output_type": "execute_result"
    }
   ],
   "source": [
    "col_names = ['Cultivars','Alcohol','Malic acid','Ash','Alcalinity of ash','Magnesium','Total phenols','Flavanoids','Nonflavano id phenols','Proanthocy anins','Color intensity','Hue','OD280/OD315 of diluted wines','Proline']\n",
    "wines = pd.read_csv(\"wineData.txt\", header=None, names=col_names)\n",
    "\n",
    "wines.head()\n"
   ]
  },
  {
   "cell_type": "code",
   "execution_count": 105,
   "metadata": {},
   "outputs": [],
   "source": [
    "#split dataset in features and target variable\n",
    "feature_cols = ['Alcohol','Malic acid','Ash','Alcalinity of ash','Magnesium','Total phenols','Flavanoids','Nonflavano id phenols','Proanthocy anins','Color intensity','Hue','OD280/OD315 of diluted wines','Proline']\n",
    "X = wines[feature_cols] # Features\n",
    "y = wines.Cultivars # Target variable\n"
   ]
  },
  {
   "cell_type": "code",
   "execution_count": 106,
   "metadata": {},
   "outputs": [],
   "source": [
    "# Split dataset into training set and test set\n",
    "X_train, X_test, y_train, y_test = train_test_split(X, y, test_size=0.25, random_state=1) # 75% training and 25% test\n"
   ]
  },
  {
   "cell_type": "markdown",
   "metadata": {},
   "source": [
    "MODEL A - Decision Tree"
   ]
  },
  {
   "cell_type": "code",
   "execution_count": 107,
   "metadata": {},
   "outputs": [],
   "source": [
    "# Create Decision Tree classifer object\n",
    "dt_clf = DecisionTreeClassifier()\n",
    "\n",
    "# Train Decision Tree Classifer\n",
    "dt_clf = dt_clf.fit(X_train,y_train)\n",
    "\n",
    "#Predict the response for test dataset\n",
    "y_pred_dt = dt_clf.predict(X_test)\n"
   ]
  },
  {
   "cell_type": "markdown",
   "metadata": {},
   "source": [
    "MODEL B - KNN"
   ]
  },
  {
   "cell_type": "code",
   "execution_count": 108,
   "metadata": {},
   "outputs": [],
   "source": [
    "from sklearn.neighbors import KNeighborsClassifier\n",
    "\n",
    "knn_clf = KNeighborsClassifier()\n",
    "classifier.fit(X_train, y_train)\n",
    "\n",
    "y_pred_knn = classifier.predict(X_test)"
   ]
  },
  {
   "cell_type": "markdown",
   "metadata": {},
   "source": [
    "### Exercici 2\n",
    "Compara els models de classificació utilitzant la precisió (accuracy), una matriu de confusió i d’altres mètriques més avançades."
   ]
  },
  {
   "cell_type": "markdown",
   "metadata": {},
   "source": [
    "- CONFUSION MATRIX\n",
    "\n",
    "++ Model A"
   ]
  },
  {
   "cell_type": "code",
   "execution_count": 109,
   "metadata": {},
   "outputs": [
    {
     "name": "stdout",
     "output_type": "stream",
     "text": [
      "              precision    recall  f1-score   support\n",
      "\n",
      "           1       0.95      1.00      0.97        18\n",
      "           2       1.00      0.88      0.94        17\n",
      "           3       0.91      1.00      0.95        10\n",
      "\n",
      "    accuracy                           0.96        45\n",
      "   macro avg       0.95      0.96      0.95        45\n",
      "weighted avg       0.96      0.96      0.95        45\n",
      "\n"
     ]
    },
    {
     "data": {
      "image/png": "[encoded data removed]",
      "text/plain": [
       "<Figure size 640x480 with 2 Axes>"
      ]
     },
     "metadata": {},
     "output_type": "display_data"
    }
   ],
   "source": [
    "from sklearn.metrics import classification_report, confusion_matrix\n",
    "#importing Seaborn's to use the heatmap \n",
    "import seaborn as sns\n",
    "\n",
    "# Adding classes names for better interpretation\n",
    "classes_names = ['class 1','class 2','class 3']\n",
    "cm = pd.DataFrame(confusion_matrix(y_test, y_pred_dt), \n",
    "                  columns=classes_names, index = classes_names)\n",
    "                  \n",
    "# Seaborn's heatmap to better visualize the confusion matrix\n",
    "sns.heatmap(cm, annot=True, fmt='d');\n",
    "\n",
    "print(classification_report(y_test, y_pred_dt))"
   ]
  },
  {
   "cell_type": "markdown",
   "metadata": {},
   "source": [
    "++ Model B"
   ]
  },
  {
   "cell_type": "code",
   "execution_count": 121,
   "metadata": {},
   "outputs": [
    {
     "name": "stdout",
     "output_type": "stream",
     "text": [
      "              precision    recall  f1-score   support\n",
      "\n",
      "           1       0.94      0.89      0.91        18\n",
      "           2       0.63      0.71      0.67        17\n",
      "           3       0.33      0.30      0.32        10\n",
      "\n",
      "    accuracy                           0.69        45\n",
      "   macro avg       0.64      0.63      0.63        45\n",
      "weighted avg       0.69      0.69      0.69        45\n",
      "\n"
     ]
    },
    {
     "data": {
      "image/png": "[encoded data removed]",
      "text/plain": [
       "<Figure size 640x480 with 2 Axes>"
      ]
     },
     "metadata": {},
     "output_type": "display_data"
    }
   ],
   "source": [
    "# Adding classes names for better interpretation\n",
    "classes_names = ['class 1','class 2','class 3']\n",
    "cm = pd.DataFrame(confusion_matrix(y_test, y_pred_knn), \n",
    "                  columns=classes_names, index = classes_names)\n",
    "\n",
    "# Seaborn's heatmap to better visualize the confusion matrix\n",
    "sns.heatmap(cm, annot=True, fmt='d');\n",
    "\n",
    "print(classification_report(y_test, y_pred_knn))"
   ]
  },
  {
   "cell_type": "markdown",
   "metadata": {},
   "source": [
    "Els resultats mostren que s'han classificat 45 entrades amb una precisió del 96% al model A i un 69% al model B. De les métriques per cada una de les classes, es pot observar que el model A té la millor precisió per la classe 3 (100%), mentre el model B és la classe 1 (94%). La pitjor del model A és la classe 2 (94%), en canvi la del model B és la 3 (33%). En qualsevol cas, es pot afirmar que el model A és més precís.\n",
    "\n",
    "Respecte al f1-score, el model A permet predir correctament totes les classes. En canvi, el model B prediu majoritariament bé les classes 1 i 2, mentre la classe 3 només permet predir un terç dels valors correctament.\n",
    "\n",
    "Pel que fa la matriu de confusió, ens indica que al model A s'ha confós 1 entrada de la classe 1 amb la classe 2. Pel que fa el model B  de la classe 3 s'han confós 7 entrades com si fossin de la classe 2 i 2 de la classe 2 com si fossin de la 3. "
   ]
  },
  {
   "cell_type": "markdown",
   "metadata": {},
   "source": [
    "### Exercici 3\n",
    "Entrena’ls usant els diferents paràmetres que admeten per tal de millorar-ne la predicció.\n",
    "\n",
    "- Modificant el paràmetre f1-score"
   ]
  },
  {
   "cell_type": "code",
   "execution_count": 111,
   "metadata": {},
   "outputs": [],
   "source": [
    "from sklearn.metrics import f1_score\n",
    "\n",
    "f1s = []\n",
    "\n",
    "# Calculating f1 score for K values between 1 and 40\n",
    "for i in range(1, 40):\n",
    "    knn = KNeighborsClassifier(n_neighbors=i)\n",
    "    knn.fit(X_train, y_train)\n",
    "    pred_i = knn.predict(X_test)\n",
    "    # using average='weighted' to calculate a weighted average for the 4 classes \n",
    "    f1s.append(f1_score(y_test, pred_i, average='weighted'))"
   ]
  },
  {
   "cell_type": "code",
   "execution_count": 112,
   "metadata": {},
   "outputs": [
    {
     "data": {
      "text/plain": [
       "Text(0, 0.5, 'F1 Score')"
      ]
     },
     "execution_count": 112,
     "metadata": {},
     "output_type": "execute_result"
    },
    {
     "data": {
      "image/png": "[encoded data removed]",
      "text/plain": [
       "<Figure size 1200x600 with 1 Axes>"
      ]
     },
     "metadata": {},
     "output_type": "display_data"
    }
   ],
   "source": [
    "import matplotlib.pyplot as plt\n",
    "\n",
    "plt.figure(figsize=(12, 6))\n",
    "plt.plot(range(1, 40), f1s, color='red', linestyle='dashed', marker='o',\n",
    "         markerfacecolor='blue', markersize=10)\n",
    "plt.title('F1 Score K Value')\n",
    "plt.xlabel('K Value')\n",
    "plt.ylabel('F1 Score')"
   ]
  },
  {
   "cell_type": "markdown",
   "metadata": {},
   "source": [
    "Donat que el màxim valor de F1-score (0.7667) s'obté quan K-value=16, millorarem la classificació fent servir aquest valor."
   ]
  },
  {
   "cell_type": "code",
   "execution_count": 113,
   "metadata": {},
   "outputs": [
    {
     "name": "stdout",
     "output_type": "stream",
     "text": [
      "              precision    recall  f1-score   support\n",
      "\n",
      "           1       0.94      0.83      0.88        18\n",
      "           2       0.71      0.71      0.71        17\n",
      "           3       0.42      0.50      0.45        10\n",
      "\n",
      "    accuracy                           0.71        45\n",
      "   macro avg       0.69      0.68      0.68        45\n",
      "weighted avg       0.73      0.71      0.72        45\n",
      "\n"
     ]
    }
   ],
   "source": [
    "classifier16 = KNeighborsClassifier(n_neighbors=16)\n",
    "classifier16.fit(X_train, y_train)\n",
    "y_pred16 = classifier16.predict(X_test)\n",
    "print(classification_report(y_test, y_pred16))"
   ]
  },
  {
   "cell_type": "markdown",
   "metadata": {},
   "source": [
    "### Exercici 4\n",
    "Compara el seu rendiment fent servir l’aproximació traint/test o cross-validation."
   ]
  },
  {
   "cell_type": "code",
   "execution_count": 114,
   "metadata": {},
   "outputs": [],
   "source": [
    "import numpy as np\n",
    "from sklearn import svm\n",
    "from sklearn import metrics\n",
    "from sklearn.model_selection import KFold\n",
    "from sklearn.model_selection import cross_val_score\n",
    "\n",
    "dt_scores = cross_val_score(dt_clf, X_train, y_train, cv=5)\n",
    "knn_scores = cross_val_score(knn_clf, X_train, y_train, cv=5)"
   ]
  },
  {
   "cell_type": "code",
   "execution_count": 115,
   "metadata": {},
   "outputs": [],
   "source": [
    "mean_dt_score = np.mean(dt_scores)\n",
    "std_dt_score = np.std(dt_scores)\n",
    "\n",
    "mean_knn_score = np.mean(knn_scores)\n",
    "std_knn_score = np.std(knn_scores)\n"
   ]
  },
  {
   "cell_type": "code",
   "execution_count": 116,
   "metadata": {},
   "outputs": [
    {
     "name": "stdout",
     "output_type": "stream",
     "text": [
      "Decision Tree Mean Accuracy: 0.9324786324786325\n",
      "Decision Tree Standard Deviation: 0.02758682264822839\n",
      "KNN Mean Accuracy: 0.6837606837606838\n",
      "KNN Standard Deviation: 0.0473569065887011\n"
     ]
    }
   ],
   "source": [
    "print(\"Decision Tree Mean Accuracy:\", mean_dt_score)\n",
    "print(\"Decision Tree Standard Deviation:\", std_dt_score)\n",
    "\n",
    "print(\"KNN Mean Accuracy:\", mean_knn_score)\n",
    "print(\"KNN Standard Deviation:\", std_knn_score)\n"
   ]
  },
  {
   "cell_type": "markdown",
   "metadata": {},
   "source": [
    "Els resultats obtinguts a partir d'una 'corss-validation', indiquen una millor precisió del model A (decision tree) que el model B (KNN) i una desviació de gairebé el 5% en ambdós casos. Per tant, el model A té un millor rendiment, donat que és més precís."
   ]
  },
  {
   "cell_type": "markdown",
   "metadata": {},
   "source": [
    "### Exercici 5\n",
    "Aplica algun procés d'enginyeria per millorar els resultats (normalització, estandardització, mostreig...)\n"
   ]
  },
  {
   "cell_type": "markdown",
   "metadata": {},
   "source": [
    "Estandarització de la base de dades"
   ]
  },
  {
   "cell_type": "code",
   "execution_count": 117,
   "metadata": {},
   "outputs": [],
   "source": [
    "from sklearn.preprocessing import StandardScaler\n",
    "\n",
    "scaler = StandardScaler()\n",
    "scaler.fit(X_train)\n",
    "\n",
    "X_trainT = scaler.transform(X_train)\n",
    "X_testT = scaler.transform(X_test)"
   ]
  },
  {
   "cell_type": "code",
   "execution_count": 118,
   "metadata": {},
   "outputs": [
    {
     "data": {
      "text/html": [
       "<div>\n",
       "<style scoped>\n",
       "    .dataframe tbody tr th:only-of-type {\n",
       "        vertical-align: middle;\n",
       "    }\n",
       "\n",
       "    .dataframe tbody tr th {\n",
       "        vertical-align: top;\n",
       "    }\n",
       "\n",
       "    .dataframe thead th {\n",
       "        text-align: right;\n",
       "    }\n",
       "</style>\n",
       "<table border=\"1\" class=\"dataframe\">\n",
       "  <thead>\n",
       "    <tr style=\"text-align: right;\">\n",
       "      <th></th>\n",
       "      <th>Alcohol</th>\n",
       "      <th>Malic acid</th>\n",
       "      <th>Ash</th>\n",
       "      <th>Alcalinity of ash</th>\n",
       "      <th>Magnesium</th>\n",
       "      <th>Total phenols</th>\n",
       "      <th>Flavanoids</th>\n",
       "      <th>Nonflavano id phenols</th>\n",
       "      <th>Proanthocy anins</th>\n",
       "      <th>Color intensity</th>\n",
       "      <th>Hue</th>\n",
       "      <th>OD280/OD315 of diluted wines</th>\n",
       "      <th>Proline</th>\n",
       "    </tr>\n",
       "  </thead>\n",
       "  <tbody>\n",
       "    <tr>\n",
       "      <th>0</th>\n",
       "      <td>0.093977</td>\n",
       "      <td>-0.557879</td>\n",
       "      <td>-0.957529</td>\n",
       "      <td>-0.812987</td>\n",
       "      <td>0.602004</td>\n",
       "      <td>1.180371</td>\n",
       "      <td>1.021742</td>\n",
       "      <td>-0.743746</td>\n",
       "      <td>0.801107</td>\n",
       "      <td>0.000157</td>\n",
       "      <td>-0.332934</td>\n",
       "      <td>1.081639</td>\n",
       "      <td>0.471259</td>\n",
       "    </tr>\n",
       "    <tr>\n",
       "      <th>1</th>\n",
       "      <td>-0.815037</td>\n",
       "      <td>-1.226791</td>\n",
       "      <td>-1.506457</td>\n",
       "      <td>-1.489936</td>\n",
       "      <td>2.718621</td>\n",
       "      <td>-0.567133</td>\n",
       "      <td>-0.121876</td>\n",
       "      <td>-0.158431</td>\n",
       "      <td>2.052185</td>\n",
       "      <td>-0.686666</td>\n",
       "      <td>0.432278</td>\n",
       "      <td>-0.366970</td>\n",
       "      <td>0.024107</td>\n",
       "    </tr>\n",
       "    <tr>\n",
       "      <th>2</th>\n",
       "      <td>0.990366</td>\n",
       "      <td>-0.763698</td>\n",
       "      <td>1.238184</td>\n",
       "      <td>-0.043726</td>\n",
       "      <td>2.426674</td>\n",
       "      <td>1.100939</td>\n",
       "      <td>0.763185</td>\n",
       "      <td>1.095816</td>\n",
       "      <td>-0.364280</td>\n",
       "      <td>0.150924</td>\n",
       "      <td>1.240002</td>\n",
       "      <td>0.594126</td>\n",
       "      <td>1.630543</td>\n",
       "    </tr>\n",
       "    <tr>\n",
       "      <th>3</th>\n",
       "      <td>1.533249</td>\n",
       "      <td>-0.712243</td>\n",
       "      <td>0.433089</td>\n",
       "      <td>-0.966839</td>\n",
       "      <td>0.674991</td>\n",
       "      <td>1.656963</td>\n",
       "      <td>1.946581</td>\n",
       "      <td>-0.409281</td>\n",
       "      <td>0.509760</td>\n",
       "      <td>1.532946</td>\n",
       "      <td>1.154978</td>\n",
       "      <td>0.343406</td>\n",
       "      <td>3.104490</td>\n",
       "    </tr>\n",
       "    <tr>\n",
       "      <th>4</th>\n",
       "      <td>0.939865</td>\n",
       "      <td>-0.849456</td>\n",
       "      <td>0.506280</td>\n",
       "      <td>-0.905298</td>\n",
       "      <td>0.674991</td>\n",
       "      <td>1.815827</td>\n",
       "      <td>1.688024</td>\n",
       "      <td>-1.496294</td>\n",
       "      <td>0.818245</td>\n",
       "      <td>0.737236</td>\n",
       "      <td>-0.290423</td>\n",
       "      <td>0.413050</td>\n",
       "      <td>1.796155</td>\n",
       "    </tr>\n",
       "  </tbody>\n",
       "</table>\n",
       "</div>"
      ],
      "text/plain": [
       "    Alcohol  Malic acid       Ash  Alcalinity of ash  Magnesium  \\\n",
       "0  0.093977   -0.557879 -0.957529          -0.812987   0.602004   \n",
       "1 -0.815037   -1.226791 -1.506457          -1.489936   2.718621   \n",
       "2  0.990366   -0.763698  1.238184          -0.043726   2.426674   \n",
       "3  1.533249   -0.712243  0.433089          -0.966839   0.674991   \n",
       "4  0.939865   -0.849456  0.506280          -0.905298   0.674991   \n",
       "\n",
       "   Total phenols  Flavanoids  Nonflavano id phenols  Proanthocy anins  \\\n",
       "0       1.180371    1.021742              -0.743746          0.801107   \n",
       "1      -0.567133   -0.121876              -0.158431          2.052185   \n",
       "2       1.100939    0.763185               1.095816         -0.364280   \n",
       "3       1.656963    1.946581              -0.409281          0.509760   \n",
       "4       1.815827    1.688024              -1.496294          0.818245   \n",
       "\n",
       "   Color intensity       Hue  OD280/OD315 of diluted wines   Proline  \n",
       "0         0.000157 -0.332934                      1.081639  0.471259  \n",
       "1        -0.686666  0.432278                     -0.366970  0.024107  \n",
       "2         0.150924  1.240002                      0.594126  1.630543  \n",
       "3         1.532946  1.154978                      0.343406  3.104490  \n",
       "4         0.737236 -0.290423                      0.413050  1.796155  "
      ]
     },
     "execution_count": 118,
     "metadata": {},
     "output_type": "execute_result"
    }
   ],
   "source": [
    "col_names = ['Alcohol','Malic acid','Ash','Alcalinity of ash','Magnesium','Total phenols','Flavanoids','Nonflavano id phenols','Proanthocy anins','Color intensity','Hue','OD280/OD315 of diluted wines','Proline']\n",
    "scaled_df = pd.DataFrame(X_trainT, columns=col_names)\n",
    "scaled_df.head()\n"
   ]
  }
 ],
 "metadata": {
  "kernelspec": {
   "display_name": "Python 3",
   "language": "python",
   "name": "python3"
  },
  "language_info": {
   "codemirror_mode": {
    "name": "ipython",
    "version": 3
   },
   "file_extension": ".py",
   "mimetype": "text/x-python",
   "name": "python",
   "nbconvert_exporter": "python",
   "pygments_lexer": "ipython3",
   "version": "3.11.0"
  },
  "orig_nbformat": 4
 },
 "nbformat": 4,
 "nbformat_minor": 2
}
