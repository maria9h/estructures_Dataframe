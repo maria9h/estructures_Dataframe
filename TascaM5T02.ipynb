{
 "cells": [
  {
   "cell_type": "markdown",
   "id": "0905fbb9-561c-401a-b5e0-d1ccc4e56e2b",
   "metadata": {},
   "source": [
    "# Tasca M5 T01\n",
    "\n",
    "Exercicis de Train-Test amb ScikitLearn a partir d'un dataset amb informació sobre les vivendes de Houston.\n",
    "\n",
    "### Exercici 1\n",
    "Parteix el conjunt de dades adjunt en train i test. Estudia els dos conjunts per separat, a nivell descriptiu.\n",
    "\n",
    "També adjunt trobaràs una descripció de les diferents variables del dataset."
   ]
  },
  {
   "cell_type": "code",
   "execution_count": 1,
   "id": "ad7def33-cb5d-4628-81b8-f695d6aa5191",
   "metadata": {},
   "outputs": [],
   "source": [
    "import numpy as np\n",
    "import pandas as pd\n",
    "import matplotlib.pyplot as plt"
   ]
  },
  {
   "cell_type": "code",
   "execution_count": 2,
   "id": "42cb24a3-1ee0-4822-b991-9ec17c1de919",
   "metadata": {},
   "outputs": [
    {
     "name": "stdout",
     "output_type": "stream",
     "text": [
      "housing data.csv\n"
     ]
    },
    {
     "data": {
      "text/html": [
       "<div>\n",
       "<style scoped>\n",
       "    .dataframe tbody tr th:only-of-type {\n",
       "        vertical-align: middle;\n",
       "    }\n",
       "\n",
       "    .dataframe tbody tr th {\n",
       "        vertical-align: top;\n",
       "    }\n",
       "\n",
       "    .dataframe thead th {\n",
       "        text-align: right;\n",
       "    }\n",
       "</style>\n",
       "<table border=\"1\" class=\"dataframe\">\n",
       "  <thead>\n",
       "    <tr style=\"text-align: right;\">\n",
       "      <th></th>\n",
       "      <th>CRIM</th>\n",
       "      <th>ZN</th>\n",
       "      <th>INDUS</th>\n",
       "      <th>CHAS</th>\n",
       "      <th>NOX</th>\n",
       "      <th>RM</th>\n",
       "      <th>AGE</th>\n",
       "      <th>DIS</th>\n",
       "      <th>RAD</th>\n",
       "      <th>TAX</th>\n",
       "      <th>PTRATIO</th>\n",
       "      <th>B</th>\n",
       "      <th>LSTAT</th>\n",
       "      <th>MDEV</th>\n",
       "    </tr>\n",
       "  </thead>\n",
       "  <tbody>\n",
       "    <tr>\n",
       "      <th>0</th>\n",
       "      <td>0.00632</td>\n",
       "      <td>18.0</td>\n",
       "      <td>2.31</td>\n",
       "      <td>0</td>\n",
       "      <td>0.538</td>\n",
       "      <td>6.575</td>\n",
       "      <td>65.2</td>\n",
       "      <td>4.0900</td>\n",
       "      <td>1</td>\n",
       "      <td>296.0</td>\n",
       "      <td>15.3</td>\n",
       "      <td>396.90</td>\n",
       "      <td>4.98</td>\n",
       "      <td>24.0</td>\n",
       "    </tr>\n",
       "    <tr>\n",
       "      <th>1</th>\n",
       "      <td>0.02731</td>\n",
       "      <td>0.0</td>\n",
       "      <td>7.07</td>\n",
       "      <td>0</td>\n",
       "      <td>0.469</td>\n",
       "      <td>6.421</td>\n",
       "      <td>78.9</td>\n",
       "      <td>4.9671</td>\n",
       "      <td>2</td>\n",
       "      <td>242.0</td>\n",
       "      <td>17.8</td>\n",
       "      <td>396.90</td>\n",
       "      <td>9.14</td>\n",
       "      <td>21.6</td>\n",
       "    </tr>\n",
       "    <tr>\n",
       "      <th>2</th>\n",
       "      <td>0.02729</td>\n",
       "      <td>0.0</td>\n",
       "      <td>7.07</td>\n",
       "      <td>0</td>\n",
       "      <td>0.469</td>\n",
       "      <td>7.185</td>\n",
       "      <td>61.1</td>\n",
       "      <td>4.9671</td>\n",
       "      <td>2</td>\n",
       "      <td>242.0</td>\n",
       "      <td>17.8</td>\n",
       "      <td>392.83</td>\n",
       "      <td>4.03</td>\n",
       "      <td>34.7</td>\n",
       "    </tr>\n",
       "    <tr>\n",
       "      <th>3</th>\n",
       "      <td>0.03237</td>\n",
       "      <td>0.0</td>\n",
       "      <td>2.18</td>\n",
       "      <td>0</td>\n",
       "      <td>0.458</td>\n",
       "      <td>6.998</td>\n",
       "      <td>45.8</td>\n",
       "      <td>6.0622</td>\n",
       "      <td>3</td>\n",
       "      <td>222.0</td>\n",
       "      <td>18.7</td>\n",
       "      <td>394.63</td>\n",
       "      <td>2.94</td>\n",
       "      <td>33.4</td>\n",
       "    </tr>\n",
       "    <tr>\n",
       "      <th>4</th>\n",
       "      <td>0.06905</td>\n",
       "      <td>0.0</td>\n",
       "      <td>2.18</td>\n",
       "      <td>0</td>\n",
       "      <td>0.458</td>\n",
       "      <td>7.147</td>\n",
       "      <td>54.2</td>\n",
       "      <td>6.0622</td>\n",
       "      <td>3</td>\n",
       "      <td>222.0</td>\n",
       "      <td>18.7</td>\n",
       "      <td>396.90</td>\n",
       "      <td>5.33</td>\n",
       "      <td>36.2</td>\n",
       "    </tr>\n",
       "  </tbody>\n",
       "</table>\n",
       "</div>"
      ],
      "text/plain": [
       "      CRIM    ZN  INDUS  CHAS    NOX     RM   AGE     DIS  RAD    TAX  \\\n",
       "0  0.00632  18.0   2.31     0  0.538  6.575  65.2  4.0900    1  296.0   \n",
       "1  0.02731   0.0   7.07     0  0.469  6.421  78.9  4.9671    2  242.0   \n",
       "2  0.02729   0.0   7.07     0  0.469  7.185  61.1  4.9671    2  242.0   \n",
       "3  0.03237   0.0   2.18     0  0.458  6.998  45.8  6.0622    3  222.0   \n",
       "4  0.06905   0.0   2.18     0  0.458  7.147  54.2  6.0622    3  222.0   \n",
       "\n",
       "   PTRATIO       B  LSTAT  MDEV  \n",
       "0     15.3  396.90   4.98  24.0  \n",
       "1     17.8  396.90   9.14  21.6  \n",
       "2     17.8  392.83   4.03  34.7  \n",
       "3     18.7  394.63   2.94  33.4  \n",
       "4     18.7  396.90   5.33  36.2  "
      ]
     },
     "execution_count": 2,
     "metadata": {},
     "output_type": "execute_result"
    }
   ],
   "source": [
    "data = 'housing data.csv'\n",
    "print(data)\n",
    "dataNames = ['CRIM','ZN','INDUS', 'CHAS', 'NOX', 'RM', 'AGE', 'DIS', 'RAD', 'TAX', 'PTRATIO', 'B', 'LSTAT', 'MDEV']\n",
    "\n",
    "df = pd.read_csv(data, header = None, names = dataNames)\n",
    "df.head()"
   ]
  },
  {
   "cell_type": "code",
   "execution_count": 3,
   "id": "f28e34f6-43ce-4264-b47f-3c93321674a0",
   "metadata": {},
   "outputs": [],
   "source": [
    "#Parició del conjunt en train i test\n",
    "train_x = df['CRIM'][:int(0.8*len(df))]\n",
    "train_y = df['AGE'][:int(0.8*len(df))]\n",
    "\n",
    "test_x = df['CRIM'][int(0.8*len(df)):]\n",
    "test_y = df['AGE'][int(0.8*len(df)):]"
   ]
  },
  {
   "cell_type": "code",
   "execution_count": 4,
   "id": "8de4515f-6129-4699-a16a-035a22668d7c",
   "metadata": {},
   "outputs": [],
   "source": [
    "### Dimensionalitat, Variables, Resum estadístic, Visualització, Valors perduts, Valors atípics"
   ]
  },
  {
   "cell_type": "code",
   "execution_count": 5,
   "id": "27d65efd-28a1-4020-aa3b-2266875e4a72",
   "metadata": {},
   "outputs": [
    {
     "data": {
      "image/png": "[encoded data removed]",
      "text/plain": [
       "<Figure size 432x288 with 1 Axes>"
      ]
     },
     "metadata": {
      "needs_background": "light"
     },
     "output_type": "display_data"
    },
    {
     "data": {
      "image/png": "[encoded data removed]",
      "text/plain": [
       "<Figure size 432x288 with 1 Axes>"
      ]
     },
     "metadata": {
      "needs_background": "light"
     },
     "output_type": "display_data"
    }
   ],
   "source": [
    "plt.scatter(train_x, train_y)\n",
    "plt.show()\n",
    "plt.scatter(test_x, test_y)\n",
    "plt.show()"
   ]
  },
  {
   "cell_type": "code",
   "execution_count": 6,
   "id": "8850f0d1-f0f8-4d1c-ad07-5edcc2caba9c",
   "metadata": {},
   "outputs": [
    {
     "data": {
      "text/plain": [
       "count    404.000000\n",
       "mean       1.915899\n",
       "std        6.218916\n",
       "min        0.006320\n",
       "25%        0.066358\n",
       "50%        0.165995\n",
       "75%        0.775792\n",
       "max       88.976200\n",
       "Name: CRIM, dtype: float64"
      ]
     },
     "execution_count": 6,
     "metadata": {},
     "output_type": "execute_result"
    }
   ],
   "source": [
    "#Descripció dels subconjunts\n",
    "train_x.describe()"
   ]
  },
  {
   "cell_type": "code",
   "execution_count": 7,
   "id": "ea809f76-733f-4236-af0b-a198c46b58d3",
   "metadata": {},
   "outputs": [
    {
     "data": {
      "text/plain": [
       "count    404.000000\n",
       "mean      64.427475\n",
       "std       29.053901\n",
       "min        2.900000\n",
       "25%       38.025000\n",
       "50%       69.550000\n",
       "75%       92.250000\n",
       "max      100.000000\n",
       "Name: AGE, dtype: float64"
      ]
     },
     "execution_count": 7,
     "metadata": {},
     "output_type": "execute_result"
    }
   ],
   "source": [
    "train_y.describe()"
   ]
  },
  {
   "cell_type": "code",
   "execution_count": 8,
   "id": "ebf1352a-dc1d-4187-9a83-c9201af4bc97",
   "metadata": {},
   "outputs": [
    {
     "data": {
      "text/plain": [
       "count    102.000000\n",
       "mean      10.337447\n",
       "std       12.586885\n",
       "min        0.045270\n",
       "25%        4.116005\n",
       "50%        7.208765\n",
       "75%       12.023925\n",
       "max       73.534100\n",
       "Name: CRIM, dtype: float64"
      ]
     },
     "execution_count": 8,
     "metadata": {},
     "output_type": "execute_result"
    }
   ],
   "source": [
    "test_x.describe()"
   ]
  },
  {
   "cell_type": "code",
   "execution_count": 9,
   "id": "484e876c-b6aa-4f58-ba5e-12ecb4895e17",
   "metadata": {},
   "outputs": [
    {
     "data": {
      "text/plain": [
       "count    102.000000\n",
       "mean      85.001961\n",
       "std       15.884222\n",
       "min       28.800000\n",
       "25%       77.275000\n",
       "50%       89.950000\n",
       "75%       97.075000\n",
       "max      100.000000\n",
       "Name: AGE, dtype: float64"
      ]
     },
     "execution_count": 9,
     "metadata": {},
     "output_type": "execute_result"
    }
   ],
   "source": [
    "test_y.describe()"
   ]
  },
  {
   "cell_type": "markdown",
   "id": "477d89a5-d0ad-4db9-894b-d35c817171cd",
   "metadata": {},
   "source": [
    "### Exercici 1*"
   ]
  },
  {
   "cell_type": "code",
   "execution_count": 10,
   "id": "dd7bbe9a-4ad0-4d64-a319-8f6e160ab6f4",
   "metadata": {},
   "outputs": [
    {
     "data": {
      "text/plain": [
       "[        CRIM    ZN  INDUS  CHAS     NOX     RM    AGE     DIS  RAD    TAX  \\\n",
       " 64   0.01951  17.5   1.38     0  0.4161  7.104   59.5  9.2229    3  216.0   \n",
       " 453  8.24809   0.0  18.10     0  0.7130  7.393   99.3  2.4527   24  666.0   \n",
       " 62   0.11027  25.0   5.13     0  0.4530  6.456   67.8  7.2255    8  284.0   \n",
       " 393  8.64476   0.0  18.10     0  0.6930  6.193   92.6  1.7912   24  666.0   \n",
       " 255  0.03548  80.0   3.64     0  0.3920  5.876   19.1  9.2203    1  315.0   \n",
       " ..       ...   ...    ...   ...     ...    ...    ...     ...  ...    ...   \n",
       " 249  0.19073  22.0   5.86     0  0.4310  6.718   17.5  7.8265    7  330.0   \n",
       " 128  0.32543   0.0  21.89     0  0.6240  6.431   98.8  1.8125    4  437.0   \n",
       " 402  9.59571   0.0  18.10     0  0.6930  6.404  100.0  1.6390   24  666.0   \n",
       " 39   0.02763  75.0   2.95     0  0.4280  6.595   21.8  5.4011    3  252.0   \n",
       " 102  0.22876   0.0   8.56     0  0.5200  6.405   85.4  2.7147    5  384.0   \n",
       " \n",
       "      PTRATIO       B  LSTAT  MDEV  \n",
       " 64      18.6  393.24   8.05  33.0  \n",
       " 453     20.2  375.87  16.74  17.8  \n",
       " 62      19.7  396.90   6.73  22.2  \n",
       " 393     20.2  396.90  15.17  13.8  \n",
       " 255     16.4  395.18   9.25  20.9  \n",
       " ..       ...     ...    ...   ...  \n",
       " 249     19.1  393.74   6.56  26.2  \n",
       " 128     21.2  396.90  15.39  18.0  \n",
       " 402     20.2  376.11  20.31  12.1  \n",
       " 39      18.3  395.63   4.32  30.8  \n",
       " 102     20.9   70.80  10.63  18.6  \n",
       " \n",
       " [404 rows x 14 columns],\n",
       "         CRIM    ZN  INDUS  CHAS    NOX     RM   AGE     DIS  RAD    TAX  \\\n",
       " 13   0.62976   0.0   8.14     0  0.538  5.949  61.8  4.7075    4  307.0   \n",
       " 98   0.08187   0.0   2.89     0  0.445  7.820  36.9  3.4952    2  276.0   \n",
       " 337  0.03041   0.0   5.19     0  0.515  5.895  59.6  5.6150    5  224.0   \n",
       " 456  4.66883   0.0  18.10     0  0.713  5.976  87.9  2.5806   24  666.0   \n",
       " 76   0.10153   0.0  12.83     0  0.437  6.279  74.5  4.0522    5  398.0   \n",
       " ..       ...   ...    ...   ...    ...    ...   ...     ...  ...    ...   \n",
       " 9    0.17004  12.5   7.87     0  0.524  6.004  85.9  6.5921    5  311.0   \n",
       " 176  0.07022   0.0   4.05     0  0.510  6.020  47.2  3.5549    5  296.0   \n",
       " 166  2.01019   0.0  19.58     0  0.605  7.929  96.2  2.0459    5  403.0   \n",
       " 241  0.10612  30.0   4.93     0  0.428  6.095  65.1  6.3361    6  300.0   \n",
       " 45   0.17142   0.0   6.91     0  0.448  5.682  33.8  5.1004    3  233.0   \n",
       " \n",
       "      PTRATIO       B  LSTAT  MDEV  \n",
       " 13      21.0  396.90   8.26  20.4  \n",
       " 98      18.0  393.53   3.57  43.8  \n",
       " 337     20.2  394.81  10.56  18.5  \n",
       " 456     20.2   10.48  19.01  12.7  \n",
       " 76      18.7  373.66  11.97  20.0  \n",
       " ..       ...     ...    ...   ...  \n",
       " 9       15.2  386.71  17.10  18.9  \n",
       " 176     16.6  393.23  10.11  23.2  \n",
       " 166     14.7  369.30   3.70  50.0  \n",
       " 241     16.6  394.62  12.40  20.1  \n",
       " 45      17.9  396.90  10.21  19.3  \n",
       " \n",
       " [102 rows x 14 columns]]"
      ]
     },
     "execution_count": 10,
     "metadata": {},
     "output_type": "execute_result"
    }
   ],
   "source": [
    "from sklearn.model_selection import train_test_split\n",
    "\n",
    "train_test_split(df, train_size=0.8)"
   ]
  },
  {
   "cell_type": "markdown",
   "id": "189ff2b4-0fd6-4304-95a9-34e623c3b1ae",
   "metadata": {},
   "source": [
    "### Exercici 2\n",
    "Aplica algun procés de transformació (estandarditzar les dades numèriques, crear columnes dummies, polinomis...)."
   ]
  },
  {
   "cell_type": "code",
   "execution_count": 32,
   "id": "ce7a19db-f997-4f56-a0c0-f1cbe6cbd3fd",
   "metadata": {},
   "outputs": [
    {
     "name": "stdout",
     "output_type": "stream",
     "text": [
      "[[-0.41978194 -0.12001342]\n",
      " [-0.41733926  0.36716642]\n",
      " [-0.41734159 -0.26581176]\n",
      " ...\n",
      " [-0.41344658  0.79744934]\n",
      " [-0.40776407  0.73699637]\n",
      " [-0.41500016  0.43473151]]\n"
     ]
    },
    {
     "data": {
      "text/plain": [
       "(array([ 1.,  0.,  0.,  5.,  1.,  3.,  1.,  3.,  0.,  0.,  1.,  1.,  2.,\n",
       "         3.,  2.,  6.,  4.,  2.,  2.,  8.,  1.,  2.,  1.,  1.,  1.,  5.,\n",
       "         5.,  3.,  2.,  8.,  7.,  5.,  5.,  2.,  5.,  4.,  4.,  2.,  5.,\n",
       "         3.,  6.,  2.,  2.,  4.,  4.,  4.,  4.,  3.,  2.,  1.,  4.,  5.,\n",
       "         8.,  1.,  2.,  4.,  3.,  6.,  4.,  1.,  5.,  5.,  0.,  2.,  5.,\n",
       "         4.,  4.,  4.,  4.,  6.,  4.,  3.,  5.,  4.,  3.,  4.,  5.,  5.,\n",
       "         4.,  5.,  3.,  6., 10.,  7.,  8.,  5.,  5., 10., 10.,  7., 10.,\n",
       "        11.,  9., 14., 13., 18., 13., 16., 19., 45.]),\n",
       " array([  2.9  ,   3.871,   4.842,   5.813,   6.784,   7.755,   8.726,\n",
       "          9.697,  10.668,  11.639,  12.61 ,  13.581,  14.552,  15.523,\n",
       "         16.494,  17.465,  18.436,  19.407,  20.378,  21.349,  22.32 ,\n",
       "         23.291,  24.262,  25.233,  26.204,  27.175,  28.146,  29.117,\n",
       "         30.088,  31.059,  32.03 ,  33.001,  33.972,  34.943,  35.914,\n",
       "         36.885,  37.856,  38.827,  39.798,  40.769,  41.74 ,  42.711,\n",
       "         43.682,  44.653,  45.624,  46.595,  47.566,  48.537,  49.508,\n",
       "         50.479,  51.45 ,  52.421,  53.392,  54.363,  55.334,  56.305,\n",
       "         57.276,  58.247,  59.218,  60.189,  61.16 ,  62.131,  63.102,\n",
       "         64.073,  65.044,  66.015,  66.986,  67.957,  68.928,  69.899,\n",
       "         70.87 ,  71.841,  72.812,  73.783,  74.754,  75.725,  76.696,\n",
       "         77.667,  78.638,  79.609,  80.58 ,  81.551,  82.522,  83.493,\n",
       "         84.464,  85.435,  86.406,  87.377,  88.348,  89.319,  90.29 ,\n",
       "         91.261,  92.232,  93.203,  94.174,  95.145,  96.116,  97.087,\n",
       "         98.058,  99.029, 100.   ]),\n",
       " <BarContainer object of 100 artists>)"
      ]
     },
     "execution_count": 32,
     "metadata": {},
     "output_type": "execute_result"
    },
    {
     "data": {
      "image/png": "[encoded data removed]",
      "text/plain": [
       "<Figure size 432x288 with 1 Axes>"
      ]
     },
     "metadata": {
      "needs_background": "light"
     },
     "output_type": "display_data"
    }
   ],
   "source": [
    "# Estandarització de les dades numèriques\n",
    "from sklearn import linear_model\n",
    "from sklearn.preprocessing import StandardScaler\n",
    "scale = StandardScaler()\n",
    "\n",
    "X = df[['CRIM', 'AGE']]\n",
    "\n",
    "scaledX = scale.fit_transform(X)\n",
    "\n",
    "print(scaledX)\n",
    "plt.hist(df['CRIM'],100)\n",
    "plt.hist(df['AGE'],100)"
   ]
  },
  {
   "cell_type": "code",
   "execution_count": 31,
   "id": "ada22662-be35-46a4-86fc-35236a338d05",
   "metadata": {},
   "outputs": [
    {
     "data": {
      "image/png": "[encoded data removed]",
      "text/plain": [
       "<Figure size 432x288 with 1 Axes>"
      ]
     },
     "metadata": {
      "needs_background": "light"
     },
     "output_type": "display_data"
    }
   ],
   "source": [
    "# Regressió polonòmica - no és un bon exemple de regressió\n",
    "model = np.poly1d(np.polyfit(df['CRIM'], df['AGE'], 3))\n",
    "line = np.linspace(1, 90, 100)\n",
    "plt.scatter(df['CRIM'], df['AGE'])\n",
    "plt.plot(line, model(line))\n",
    "plt.show()"
   ]
  },
  {
   "cell_type": "markdown",
   "id": "fd388146-ae5b-40ce-bbf0-aaf76056e030",
   "metadata": {},
   "source": [
    "### Exercici 3\n",
    "Resumeix les noves columnes generades de manera estadística i gràfica"
   ]
  },
  {
   "cell_type": "code",
   "execution_count": null,
   "id": "90455749-24d8-4b50-bf04-1204815613d9",
   "metadata": {},
   "outputs": [],
   "source": [
    "# Les dades han estat representades anteriorment. "
   ]
  }
 ],
 "metadata": {
  "kernelspec": {
   "display_name": "anaconda-2022.05-py39",
   "language": "python",
   "name": "conda-env-anaconda-2022.05-py39-py"
  },
  "language_info": {
   "codemirror_mode": {
    "name": "ipython",
    "version": 3
   },
   "file_extension": ".py",
   "mimetype": "text/x-python",
   "name": "python",
   "nbconvert_exporter": "python",
   "pygments_lexer": "ipython3",
   "version": "3.9.12"
  }
 },
 "nbformat": 4,
 "nbformat_minor": 5
}
