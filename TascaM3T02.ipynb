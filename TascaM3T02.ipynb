{
 "cells": [
  {
   "cell_type": "markdown",
   "id": "5d99ca2d-fb11-4c14-bd6d-802deadde626",
   "metadata": {},
   "source": [
    "### Exercici 1\n",
    "Descarrega el data set Airlines Delay: Airline on-time statistics and delay causes i carrega’l a un Pandas Dataframe. Explora les dades que conté, explica breument quines variables hi ha i queda’t únicament amb les columnes que consideris rellevants. Justifica la teva elecció."
   ]
  },
  {
   "cell_type": "code",
   "execution_count": 2,
   "id": "62eb7008-ab51-4d36-9a75-56c753532561",
   "metadata": {},
   "outputs": [],
   "source": [
    "import pandas as pd\n",
    "\n",
    "DelayedFlights = pd.read_csv('DelayedFlights.csv')"
   ]
  },
  {
   "cell_type": "markdown",
   "id": "fe433f58-c95e-4746-8ad0-d36376c444d4",
   "metadata": {},
   "source": [
    "El data set conté dades sobre vols domèstics als Estats Units. Inclou les variables:\n",
    "- Year: L'any en què es va realitzar el vol.\n",
    "- Month: El mes en què es va realitzar el vol.\n",
    "- DayofMonth: El dia del mes en què es va realitzar el vol.\n",
    "- DayOfWeek: El dia de la setmana en què es va realitzar el vol\n",
    "- DepTime: L'hora de sortida real del vol.\n",
    "- CRSDepTime: L'hora de sortida programada del vol.\n",
    "- ArrTime: L'hora d'arribada real del vol.\n",
    "- CRSArrTime: L'hora d'arribada programada del vol.\n",
    "- UniqueCarrier: La companyia aèria que va operar el vol.\n",
    "- Cancelled: Indica si el vol va ser cancel·lat (1) o no (0).\n",
    "- Diverted: Indica si el vol va ser desviat.\n",
    "- CarrierDelay: El temps de retard degut a problemes amb la companyia aèria.\n",
    "- WeatherDelay: El temps de retard degut a factors meteorològics.\n",
    "- NASDelay: El temps de retard degut a problemes en el sistema nacional d'aviació.\n",
    "- SecurityDelay: El temps de retard degut a factors de seguretat.\n",
    "- LateAircraftDelay: El temps de retard degut a que l'avió va arribar tard al vol anterior.\n"
   ]
  },
  {
   "cell_type": "code",
   "execution_count": 3,
   "id": "d1255ea0-d8b5-47b5-98ea-b0a2e6fc791e",
   "metadata": {},
   "outputs": [
    {
     "name": "stdout",
     "output_type": "stream",
     "text": [
      "        Unnamed: 0  Year  Month  DayofMonth  DayOfWeek  DepTime  CRSDepTime  \\\n",
      "52136       171758  2008      1           2          3   1016.0         900   \n",
      "177923      581574  2008      1          20          7   1217.0        1140   \n",
      "62337       204858  2008      1          23          3   1711.0        1705   \n",
      "68051       222217  2008      1          23          3   2002.0        1800   \n",
      "101240      325624  2008      1          21          1   2126.0        2120   \n",
      "\n",
      "        ArrTime  CRSArrTime UniqueCarrier  ...  TaxiIn TaxiOut  Cancelled  \\\n",
      "52136    1253.0        1141            OO  ...     4.0    21.0          0   \n",
      "177923   1453.0        1350            CO  ...    14.0    26.0          0   \n",
      "62337    1807.0        1744            OO  ...     8.0    13.0          0   \n",
      "68051    2245.0        2104            UA  ...     5.0    15.0          0   \n",
      "101240   2233.0        2228            EV  ...     4.0    12.0          0   \n",
      "\n",
      "        CancellationCode  Diverted  CarrierDelay  WeatherDelay NASDelay  \\\n",
      "52136                  N         0          72.0           0.0      0.0   \n",
      "177923                 N         0          37.0           0.0     26.0   \n",
      "62337                  N         0           0.0           0.0     23.0   \n",
      "68051                  N         0           0.0           9.0      0.0   \n",
      "101240                 N         0           NaN           NaN      NaN   \n",
      "\n",
      "       SecurityDelay  LateAircraftDelay  \n",
      "52136            0.0                0.0  \n",
      "177923           0.0                0.0  \n",
      "62337            0.0                0.0  \n",
      "68051            0.0               92.0  \n",
      "101240           NaN                NaN  \n",
      "\n",
      "[5 rows x 30 columns]\n"
     ]
    }
   ],
   "source": [
    "subset = DelayedFlights.sample(n = 200000)\n",
    "\n",
    "print(subset.head(5))"
   ]
  },
  {
   "cell_type": "markdown",
   "id": "3a53d760-551f-4d39-a43e-7904e491b610",
   "metadata": {},
   "source": [
    "He seleccionat les columnes referents a la data (Year, Month...) per tenir una classificació horaria; els moments de sortida i d'arribada, i els moments oficial de sortida i d'arribada per conèixer el temps de vol i el retard; els vols cancel·lats i els motius, així com els vols desviats; per últim l'operador de vol."
   ]
  },
  {
   "cell_type": "code",
   "execution_count": 38,
   "id": "f6e38672-7416-410d-8900-0c24d24b4178",
   "metadata": {},
   "outputs": [
    {
     "name": "stdout",
     "output_type": "stream",
     "text": [
      "        Year  Month  DayofMonth  DayOfWeek  DepTime  CRSDepTime  ArrTime  \\\n",
      "108925  2008      1           4          5   1952.0        1945   2106.0   \n",
      "175964  2008      1           7          1   1552.0        1545   1817.0   \n",
      "98217   2008      1          22          2   1843.0        1759   2037.0   \n",
      "43376   2008      1          13          7   1950.0        1935   2027.0   \n",
      "81010   2008      1           4          5    652.0         645    838.0   \n",
      "\n",
      "        CRSArrTime UniqueCarrier  Cancelled  Diverted  CarrierDelay  \\\n",
      "108925        2059            F9          0         0           NaN   \n",
      "175964        1815            CO          0         0           NaN   \n",
      "98217         2002            DL          0         0           0.0   \n",
      "43376         2014            YV          0         0           NaN   \n",
      "81010          830            UA          0         0           NaN   \n",
      "\n",
      "        WeatherDelay  NASDelay  SecurityDelay  LateAircraftDelay  \n",
      "108925           NaN       NaN            NaN                NaN  \n",
      "175964           NaN       NaN            NaN                NaN  \n",
      "98217            0.0       0.0            0.0               35.0  \n",
      "43376            NaN       NaN            NaN                NaN  \n",
      "81010            NaN       NaN            NaN                NaN  \n"
     ]
    }
   ],
   "source": [
    "df = subset[['Year', 'Month', 'DayofMonth', 'DayOfWeek', 'DepTime','CRSDepTime', 'ArrTime','CRSArrTime', 'UniqueCarrier', 'Cancelled', 'Diverted', 'CarrierDelay', 'WeatherDelay', 'NASDelay', 'SecurityDelay', 'LateAircraftDelay']][:10]\n",
    "print(df.head(5))"
   ]
  },
  {
   "cell_type": "markdown",
   "id": "9ee5f7e2-3d1c-4b80-8c02-46be35883be2",
   "metadata": {},
   "source": [
    "### Exercici 2\n",
    "Fes un informe complet del dataset:\n",
    "\n",
    "- Resumeix estadísticament el dataset i les columnes d’interès. "
   ]
  },
  {
   "cell_type": "code",
   "execution_count": 5,
   "id": "c3149684-dafc-4c92-9762-61526e2c81cd",
   "metadata": {},
   "outputs": [
    {
     "name": "stdout",
     "output_type": "stream",
     "text": [
      "         Year      Month  DayofMonth  DayOfWeek     DepTime   CRSDepTime  \\\n",
      "count    10.0  10.000000   10.000000  10.000000    10.00000    10.000000   \n",
      "mean   2008.0   1.100000   16.800000   4.100000  1427.00000  1367.200000   \n",
      "std       0.0   0.316228   11.516172   2.469818   566.23513   526.231424   \n",
      "min    2008.0   1.000000    1.000000   1.000000   606.00000   600.000000   \n",
      "25%    2008.0   1.000000    5.750000   2.250000  1050.00000  1035.000000   \n",
      "50%    2008.0   1.000000   18.000000   3.500000  1476.50000  1416.000000   \n",
      "75%    2008.0   1.000000   26.750000   6.750000  1713.25000  1695.000000   \n",
      "max    2008.0   2.000000   31.000000   7.000000  2228.00000  2215.000000   \n",
      "\n",
      "           ArrTime   CRSArrTime  Cancelled  Diverted  CarrierDelay  \\\n",
      "count    10.000000    10.000000       10.0      10.0          4.00   \n",
      "mean   1482.700000  1417.200000        0.0       0.0         10.75   \n",
      "std     593.736764   527.785899        0.0       0.0         13.50   \n",
      "min     618.000000   608.000000        0.0       0.0          0.00   \n",
      "25%     978.750000   966.250000        0.0       0.0          0.00   \n",
      "50%    1582.500000  1523.500000        0.0       0.0          7.50   \n",
      "75%    1910.500000  1820.250000        0.0       0.0         18.25   \n",
      "max    2243.000000  2154.000000        0.0       0.0         28.00   \n",
      "\n",
      "       WeatherDelay   NASDelay  SecurityDelay  LateAircraftDelay  \n",
      "count          4.00   4.000000            4.0                4.0  \n",
      "mean           3.75  22.500000            0.0               55.5  \n",
      "std            7.50  18.046237            0.0              111.0  \n",
      "min            0.00   0.000000            0.0                0.0  \n",
      "25%            0.00  12.000000            0.0                0.0  \n",
      "50%            0.00  25.500000            0.0                0.0  \n",
      "75%            3.75  36.000000            0.0               55.5  \n",
      "max           15.00  39.000000            0.0              222.0  \n"
     ]
    }
   ],
   "source": [
    "summary = df.describe()\n",
    "print(summary)"
   ]
  },
  {
   "cell_type": "markdown",
   "id": "63e1a8be-68d7-4e3a-bca4-a38152a8f30b",
   "metadata": {},
   "source": [
    "- Fes una anàlisi estadístic del que consideris rellevant."
   ]
  },
  {
   "cell_type": "markdown",
   "id": "4c329391-7ba7-478d-8166-7cbe61ddae8b",
   "metadata": {},
   "source": [
    "- Troba quantes dades faltants hi ha per columna."
   ]
  },
  {
   "cell_type": "code",
   "execution_count": 7,
   "id": "00faaf25-99a1-46d1-bdea-2db633e27ae8",
   "metadata": {},
   "outputs": [
    {
     "name": "stdout",
     "output_type": "stream",
     "text": [
      "Year                 0\n",
      "Month                0\n",
      "DayofMonth           0\n",
      "DayOfWeek            0\n",
      "DepTime              0\n",
      "CRSDepTime           0\n",
      "ArrTime              0\n",
      "CRSArrTime           0\n",
      "UniqueCarrier        0\n",
      "Cancelled            0\n",
      "Diverted             0\n",
      "CarrierDelay         6\n",
      "WeatherDelay         6\n",
      "NASDelay             6\n",
      "SecurityDelay        6\n",
      "LateAircraftDelay    6\n",
      "dtype: int64\n"
     ]
    }
   ],
   "source": [
    "missing = df[['Year', 'Month', 'DayofMonth', 'DayOfWeek', 'DepTime','CRSDepTime', 'ArrTime','CRSArrTime', 'UniqueCarrier', 'Cancelled', 'Diverted', 'CarrierDelay', 'WeatherDelay', 'NASDelay', 'SecurityDelay', 'LateAircraftDelay']].isnull().sum()\n",
    "\n",
    "print(missing)"
   ]
  },
  {
   "cell_type": "markdown",
   "id": "d4d2f3a1-ed80-4f45-a937-2556316f1877",
   "metadata": {},
   "source": [
    "- Crea columnes noves"
   ]
  },
  {
   "cell_type": "code",
   "execution_count": 24,
   "id": "217d7e39-59aa-45af-ae4d-6d4860e03954",
   "metadata": {},
   "outputs": [
    {
     "name": "stdout",
     "output_type": "stream",
     "text": [
      "        Year  Month  DayofMonth  DayOfWeek  DepTime  CRSDepTime  ArrTime  \\\n",
      "100783  2008      1          31          4    955.0         940   1149.0   \n",
      "100464  2008      1           2          3   1401.0        1322   1653.0   \n",
      "48707   2008      1          14          1   1335.0        1320   1512.0   \n",
      "27356   2008      1          28          1   1716.0        1710   1934.0   \n",
      "183727  2008      2           3          7   2147.0        1805   2243.0   \n",
      "\n",
      "        CRSArrTime UniqueCarrier  Cancelled  Diverted  CarrierDelay  \\\n",
      "100783        1138            EV          0         0           NaN   \n",
      "100464        1625            EV          0         0          28.0   \n",
      "48707         1422            OH          0         0           0.0   \n",
      "27356         1925            WN          0         0           NaN   \n",
      "183727        1845            WN          0         0           0.0   \n",
      "\n",
      "        WeatherDelay  NASDelay  SecurityDelay  LateAircraftDelay  ArrDelay  \\\n",
      "100783           NaN       NaN            NaN                NaN        11   \n",
      "100464           0.0       0.0            0.0                0.0        28   \n",
      "48707           15.0      35.0            0.0                0.0        90   \n",
      "27356            NaN       NaN            NaN                NaN         9   \n",
      "183727           0.0      16.0            0.0              222.0       398   \n",
      "\n",
      "        LateArrival  CancelledFlight  FlightTime  \n",
      "100783            1                0         194  \n",
      "100464            1                0         252  \n",
      "48707             1                0         177  \n",
      "27356             1                0         218  \n",
      "183727            1                0          96  \n"
     ]
    }
   ],
   "source": [
    "# Arrival Delay en minuts\n",
    "\n",
    "df['ArrDelay'] = df['ArrTime'] - df['CRSArrTime']\n",
    "\n",
    "df['ArrDelay'] = df['ArrDelay'].apply(lambda x: max(0, x))\n",
    "\n",
    "df['ArrDelay'] = df['ArrDelay'].fillna(0)\n",
    "\n",
    "df['ArrDelay'] = df['ArrDelay'].astype(int)\n",
    "\n",
    "print(df.head(5))"
   ]
  },
  {
   "cell_type": "code",
   "execution_count": 23,
   "id": "a399ecc4-4920-4845-9a4f-fb04510f140d",
   "metadata": {},
   "outputs": [
    {
     "name": "stdout",
     "output_type": "stream",
     "text": [
      "        Year  Month  DayofMonth  DayOfWeek  DepTime  CRSDepTime  ArrTime  \\\n",
      "100783  2008      1          31          4    955.0         940   1149.0   \n",
      "100464  2008      1           2          3   1401.0        1322   1653.0   \n",
      "48707   2008      1          14          1   1335.0        1320   1512.0   \n",
      "27356   2008      1          28          1   1716.0        1710   1934.0   \n",
      "183727  2008      2           3          7   2147.0        1805   2243.0   \n",
      "\n",
      "        CRSArrTime UniqueCarrier  Cancelled  Diverted  CarrierDelay  \\\n",
      "100783        1138            EV          0         0           NaN   \n",
      "100464        1625            EV          0         0          28.0   \n",
      "48707         1422            OH          0         0           0.0   \n",
      "27356         1925            WN          0         0           NaN   \n",
      "183727        1845            WN          0         0           0.0   \n",
      "\n",
      "        WeatherDelay  NASDelay  SecurityDelay  LateAircraftDelay  ArrDelay  \\\n",
      "100783           NaN       NaN            NaN                NaN        11   \n",
      "100464           0.0       0.0            0.0                0.0        28   \n",
      "48707           15.0      35.0            0.0                0.0        90   \n",
      "27356            NaN       NaN            NaN                NaN         9   \n",
      "183727           0.0      16.0            0.0              222.0       398   \n",
      "\n",
      "        LateArrival  CancelledFlight  FlightTime  \n",
      "100783            1                0         194  \n",
      "100464            1                0         252  \n",
      "48707             1                0         177  \n",
      "27356             1                0         218  \n",
      "183727            1                0          96  \n"
     ]
    }
   ],
   "source": [
    "# Late Arrivals (1 si ha arribat tard, 0 si no)\n",
    "\n",
    "def late_arrival(r):\n",
    "    if r['ArrDelay'] > 0:\n",
    "        return 1\n",
    "    else:\n",
    "        return 0\n",
    "\n",
    "df['LateArrival'] = df.apply(late_arrival, axis=1)\n",
    "\n",
    "print(df.head(5))"
   ]
  },
  {
   "cell_type": "code",
   "execution_count": 17,
   "id": "27824501-2f32-4810-b05a-710809089cdb",
   "metadata": {},
   "outputs": [
    {
     "name": "stdout",
     "output_type": "stream",
     "text": [
      "        Year  Month  DayofMonth  DayOfWeek  DepTime  CRSDepTime  ArrTime  \\\n",
      "100783  2008      1          31          4    955.0         940   1149.0   \n",
      "100464  2008      1           2          3   1401.0        1322   1653.0   \n",
      "\n",
      "        CRSArrTime UniqueCarrier  Cancelled  Diverted  CarrierDelay  \\\n",
      "100783        1138            EV          0         0           NaN   \n",
      "100464        1625            EV          0         0          28.0   \n",
      "\n",
      "        WeatherDelay  NASDelay  SecurityDelay  LateAircraftDelay  ArrDelay  \\\n",
      "100783           NaN       NaN            NaN                NaN        11   \n",
      "100464           0.0       0.0            0.0                0.0        28   \n",
      "\n",
      "        LateArrival  CancelledFlight  \n",
      "100783            1                0  \n",
      "100464            1                0  \n"
     ]
    }
   ],
   "source": [
    "# Vols cancel·lats (1 si ha estat cancel·lat, 0 si no)\n",
    "\n",
    "def cancelled_flight(row):\n",
    "    if row['Cancelled'] == 1:\n",
    "        return 1\n",
    "    else:\n",
    "        return 0\n",
    "\n",
    "df['CancelledFlight'] = df.apply(cancelled_flight, axis=1)\n",
    "print(df.head(2))"
   ]
  },
  {
   "cell_type": "markdown",
   "id": "a24a7e21-fe5b-4ec0-bff6-e7b204ff82a8",
   "metadata": {},
   "source": [
    "- Fes una taula de les aerolínies amb més endarreriments acumulats."
   ]
  },
  {
   "cell_type": "code",
   "execution_count": 22,
   "id": "9c1d7ac3-bc53-4c86-8137-182bff931637",
   "metadata": {},
   "outputs": [
    {
     "name": "stdout",
     "output_type": "stream",
     "text": [
      "UniqueCarrier\n",
      "WN    407\n",
      "EV    133\n",
      "OH     90\n",
      "DL     52\n",
      "UA     23\n",
      "Name: ArrDelay, dtype: int64\n"
     ]
    }
   ],
   "source": [
    "delays_by_carrier = df.groupby('UniqueCarrier')['ArrDelay'].sum().sort_values(ascending=False)\n",
    "\n",
    "print(delays_by_carrier.head(5))"
   ]
  },
  {
   "cell_type": "markdown",
   "id": "b6e10d56-5b00-4911-b8e1-2949863b4b9f",
   "metadata": {},
   "source": [
    "- Quins són els vols més llargs? I els més endarrerits?"
   ]
  },
  {
   "cell_type": "code",
   "execution_count": 21,
   "id": "2e5ae4e1-c257-4b48-ab19-77c43b252e59",
   "metadata": {},
   "outputs": [
    {
     "name": "stdout",
     "output_type": "stream",
     "text": [
      "        Year  Month  DayofMonth  DayOfWeek  DepTime  CRSDepTime  ArrTime  \\\n",
      "99118   2008      1          26          6   1552.0        1510   2206.0   \n",
      "79586   2008      1          20          7    625.0         600    922.0   \n",
      "100464  2008      1           2          3   1401.0        1322   1653.0   \n",
      "27356   2008      1          28          1   1716.0        1710   1934.0   \n",
      "100783  2008      1          31          4    955.0         940   1149.0   \n",
      "\n",
      "        CRSArrTime UniqueCarrier  Cancelled  Diverted  CarrierDelay  \\\n",
      "99118         2154            DL          0         0           NaN   \n",
      "79586          909            UA          0         0           NaN   \n",
      "100464        1625            EV          0         0          28.0   \n",
      "27356         1925            WN          0         0           NaN   \n",
      "100783        1138            EV          0         0           NaN   \n",
      "\n",
      "        WeatherDelay  NASDelay  SecurityDelay  LateAircraftDelay  ArrDelay  \\\n",
      "99118            NaN       NaN            NaN                NaN        52   \n",
      "79586            NaN       NaN            NaN                NaN        13   \n",
      "100464           0.0       0.0            0.0                0.0        28   \n",
      "27356            NaN       NaN            NaN                NaN         9   \n",
      "100783           NaN       NaN            NaN                NaN        11   \n",
      "\n",
      "        LateArrival  CancelledFlight  FlightTime  \n",
      "99118             1                0         654  \n",
      "79586             1                0         297  \n",
      "100464            1                0         252  \n",
      "27356             1                0         218  \n",
      "100783            1                0         194  \n"
     ]
    }
   ],
   "source": [
    "#FlightTime, indica la durada del vol en minuts\n",
    "\n",
    "df['FlightTime'] = (df['ArrTime'] - df['DepTime']).fillna(0)\n",
    "\n",
    "df['FlightTime'] = df['FlightTime'].apply(lambda x: max(0, x))\n",
    "\n",
    "df['FlightTime'] = df['FlightTime'].astype(int)\n",
    "\n",
    "long_flights = df.sort_values(by='FlightTime', ascending=False)\n",
    "\n",
    "print(long_flights.head(5))"
   ]
  },
  {
   "cell_type": "code",
   "execution_count": 25,
   "id": "8df6cfbe-3e86-49a9-8bdb-d033779103b7",
   "metadata": {},
   "outputs": [
    {
     "name": "stdout",
     "output_type": "stream",
     "text": [
      "        Year  Month  DayofMonth  DayOfWeek  DepTime  CRSDepTime  ArrTime  \\\n",
      "183727  2008      2           3          7   2147.0        1805   2243.0   \n",
      "107783  2008      1          16          3   1705.0        1650   1840.0   \n",
      "48707   2008      1          14          1   1335.0        1320   1512.0   \n",
      "99118   2008      1          26          6   1552.0        1510   2206.0   \n",
      "100464  2008      1           2          3   1401.0        1322   1653.0   \n",
      "\n",
      "        CRSArrTime UniqueCarrier  Cancelled  Diverted  CarrierDelay  \\\n",
      "183727        1845            WN          0         0           0.0   \n",
      "107783        1746            EV          0         0          15.0   \n",
      "48707         1422            OH          0         0           0.0   \n",
      "99118         2154            DL          0         0           NaN   \n",
      "100464        1625            EV          0         0          28.0   \n",
      "\n",
      "        WeatherDelay  NASDelay  SecurityDelay  LateAircraftDelay  ArrDelay  \\\n",
      "183727           0.0      16.0            0.0              222.0       398   \n",
      "107783           0.0      39.0            0.0                0.0        94   \n",
      "48707           15.0      35.0            0.0                0.0        90   \n",
      "99118            NaN       NaN            NaN                NaN        52   \n",
      "100464           0.0       0.0            0.0                0.0        28   \n",
      "\n",
      "        LateArrival  CancelledFlight  FlightTime  \n",
      "183727            1                0          96  \n",
      "107783            1                0         135  \n",
      "48707             1                0         177  \n",
      "99118             1                0         654  \n",
      "100464            1                0         252  \n"
     ]
    }
   ],
   "source": [
    "#Enderreriment dels vols\n",
    "\n",
    "most_delayed_flights = df.sort_values(by='ArrDelay', ascending=False)\n",
    "\n",
    "print(most_delayed_flights.head(5))"
   ]
  },
  {
   "cell_type": "markdown",
   "id": "74867ea2-75e1-4e86-9989-0bcc6d82ef77",
   "metadata": {},
   "source": [
    "- Aporta allò que consideris rellevant."
   ]
  },
  {
   "cell_type": "code",
   "execution_count": 39,
   "id": "4acb6587-6463-4c1b-ba89-c96e6e340caf",
   "metadata": {},
   "outputs": [
    {
     "name": "stdout",
     "output_type": "stream",
     "text": [
      "CarrierDelay         19.0\n",
      "WeatherDelay          0.0\n",
      "NASDelay              7.0\n",
      "SecurityDelay         0.0\n",
      "LateAircraftDelay    65.0\n",
      "dtype: float64\n"
     ]
    }
   ],
   "source": [
    "#Causes de retard\n",
    "\n",
    "cols = [\"CarrierDelay\", \"WeatherDelay\", \"NASDelay\", \"SecurityDelay\", \"LateAircraftDelay\"]\n",
    "df = df[cols]\n",
    "\n",
    "causes_retard = df.sum()\n",
    "print(causes_retard)"
   ]
  },
  {
   "cell_type": "markdown",
   "id": "066eae59-59b4-489f-a18c-20f72687305a",
   "metadata": {},
   "source": [
    "### Exercici 3\n",
    "Exporta el dataset net i amb les noves columnes a Excel."
   ]
  },
  {
   "cell_type": "code",
   "execution_count": null,
   "id": "be5d8065-8484-42a3-a742-22c7bf2d3f55",
   "metadata": {},
   "outputs": [],
   "source": [
    "import pandas as pd\n",
    "\n",
    "df.to_excel(\"DelayedFlights_net.xlsx\", index=False)"
   ]
  },
  {
   "cell_type": "code",
   "execution_count": null,
   "id": "a7122cb9-15a1-4128-9dec-8285d0c44dcb",
   "metadata": {},
   "outputs": [],
   "source": [
    "![Delayed_net]('DelayedFlights.csv'"
   ]
  }
 ],
 "metadata": {
  "kernelspec": {
   "display_name": "anaconda-2022.05-py39",
   "language": "python",
   "name": "conda-env-anaconda-2022.05-py39-py"
  },
  "language_info": {
   "codemirror_mode": {
    "name": "ipython",
    "version": 3
   },
   "file_extension": ".py",
   "mimetype": "text/x-python",
   "name": "python",
   "nbconvert_exporter": "python",
   "pygments_lexer": "ipython3",
   "version": "3.9.12"
  }
 },
 "nbformat": 4,
 "nbformat_minor": 5
}
