{
 "cells": [
  {
   "cell_type": "markdown",
   "id": "03f4961e-c664-4dd2-b7c5-407b65dc0b3f",
   "metadata": {},
   "source": [
    "# Tasca M6 T01"
   ]
  },
  {
   "cell_type": "markdown",
   "id": "83dc8e0f-54be-491e-9cfc-91ca76a9141a",
   "metadata": {},
   "source": [
    "## Exercici 1\n",
    "Crea almenys dos models de regressió diferents per intentar predir el millor possible el preu de les vivendes (MEDV) de l'arxiu adjunt."
   ]
  },
  {
   "cell_type": "code",
   "execution_count": 16,
   "id": "34b4d16c-bfd0-407f-b322-ae603f8ab309",
   "metadata": {},
   "outputs": [],
   "source": [
    "import numpy as np\n",
    "import pandas as pd\n",
    "from sklearn.linear_model import LinearRegression\n",
    "from sklearn.preprocessing import PolynomialFeatures\n",
    "from sklearn.model_selection import train_test_split\n",
    "from sklearn.metrics import r2_score, mean_squared_error\n",
    "from sklearn.linear_model import Ridge"
   ]
  },
  {
   "cell_type": "code",
   "execution_count": 2,
   "id": "9ab208f1-ec86-4260-a86e-e2477260ca47",
   "metadata": {},
   "outputs": [
    {
     "data": {
      "text/html": [
       "<div>\n",
       "<style scoped>\n",
       "    .dataframe tbody tr th:only-of-type {\n",
       "        vertical-align: middle;\n",
       "    }\n",
       "\n",
       "    .dataframe tbody tr th {\n",
       "        vertical-align: top;\n",
       "    }\n",
       "\n",
       "    .dataframe thead th {\n",
       "        text-align: right;\n",
       "    }\n",
       "</style>\n",
       "<table border=\"1\" class=\"dataframe\">\n",
       "  <thead>\n",
       "    <tr style=\"text-align: right;\">\n",
       "      <th></th>\n",
       "      <th>CRIM</th>\n",
       "      <th>ZN</th>\n",
       "      <th>INDUS</th>\n",
       "      <th>CHAS</th>\n",
       "      <th>NOX</th>\n",
       "      <th>RM</th>\n",
       "      <th>AGE</th>\n",
       "      <th>DIS</th>\n",
       "      <th>RAD</th>\n",
       "      <th>TAX</th>\n",
       "      <th>PTRATIO</th>\n",
       "      <th>B</th>\n",
       "      <th>LSTAT</th>\n",
       "      <th>MDEV</th>\n",
       "    </tr>\n",
       "  </thead>\n",
       "  <tbody>\n",
       "    <tr>\n",
       "      <th>0</th>\n",
       "      <td>0.00632</td>\n",
       "      <td>18.0</td>\n",
       "      <td>2.31</td>\n",
       "      <td>0</td>\n",
       "      <td>0.538</td>\n",
       "      <td>6.575</td>\n",
       "      <td>65.2</td>\n",
       "      <td>4.0900</td>\n",
       "      <td>1</td>\n",
       "      <td>296.0</td>\n",
       "      <td>15.3</td>\n",
       "      <td>396.90</td>\n",
       "      <td>4.98</td>\n",
       "      <td>24.0</td>\n",
       "    </tr>\n",
       "    <tr>\n",
       "      <th>1</th>\n",
       "      <td>0.02731</td>\n",
       "      <td>0.0</td>\n",
       "      <td>7.07</td>\n",
       "      <td>0</td>\n",
       "      <td>0.469</td>\n",
       "      <td>6.421</td>\n",
       "      <td>78.9</td>\n",
       "      <td>4.9671</td>\n",
       "      <td>2</td>\n",
       "      <td>242.0</td>\n",
       "      <td>17.8</td>\n",
       "      <td>396.90</td>\n",
       "      <td>9.14</td>\n",
       "      <td>21.6</td>\n",
       "    </tr>\n",
       "    <tr>\n",
       "      <th>2</th>\n",
       "      <td>0.02729</td>\n",
       "      <td>0.0</td>\n",
       "      <td>7.07</td>\n",
       "      <td>0</td>\n",
       "      <td>0.469</td>\n",
       "      <td>7.185</td>\n",
       "      <td>61.1</td>\n",
       "      <td>4.9671</td>\n",
       "      <td>2</td>\n",
       "      <td>242.0</td>\n",
       "      <td>17.8</td>\n",
       "      <td>392.83</td>\n",
       "      <td>4.03</td>\n",
       "      <td>34.7</td>\n",
       "    </tr>\n",
       "    <tr>\n",
       "      <th>3</th>\n",
       "      <td>0.03237</td>\n",
       "      <td>0.0</td>\n",
       "      <td>2.18</td>\n",
       "      <td>0</td>\n",
       "      <td>0.458</td>\n",
       "      <td>6.998</td>\n",
       "      <td>45.8</td>\n",
       "      <td>6.0622</td>\n",
       "      <td>3</td>\n",
       "      <td>222.0</td>\n",
       "      <td>18.7</td>\n",
       "      <td>394.63</td>\n",
       "      <td>2.94</td>\n",
       "      <td>33.4</td>\n",
       "    </tr>\n",
       "    <tr>\n",
       "      <th>4</th>\n",
       "      <td>0.06905</td>\n",
       "      <td>0.0</td>\n",
       "      <td>2.18</td>\n",
       "      <td>0</td>\n",
       "      <td>0.458</td>\n",
       "      <td>7.147</td>\n",
       "      <td>54.2</td>\n",
       "      <td>6.0622</td>\n",
       "      <td>3</td>\n",
       "      <td>222.0</td>\n",
       "      <td>18.7</td>\n",
       "      <td>396.90</td>\n",
       "      <td>5.33</td>\n",
       "      <td>36.2</td>\n",
       "    </tr>\n",
       "  </tbody>\n",
       "</table>\n",
       "</div>"
      ],
      "text/plain": [
       "      CRIM    ZN  INDUS  CHAS    NOX     RM   AGE     DIS  RAD    TAX  \\\n",
       "0  0.00632  18.0   2.31     0  0.538  6.575  65.2  4.0900    1  296.0   \n",
       "1  0.02731   0.0   7.07     0  0.469  6.421  78.9  4.9671    2  242.0   \n",
       "2  0.02729   0.0   7.07     0  0.469  7.185  61.1  4.9671    2  242.0   \n",
       "3  0.03237   0.0   2.18     0  0.458  6.998  45.8  6.0622    3  222.0   \n",
       "4  0.06905   0.0   2.18     0  0.458  7.147  54.2  6.0622    3  222.0   \n",
       "\n",
       "   PTRATIO       B  LSTAT  MDEV  \n",
       "0     15.3  396.90   4.98  24.0  \n",
       "1     17.8  396.90   9.14  21.6  \n",
       "2     17.8  392.83   4.03  34.7  \n",
       "3     18.7  394.63   2.94  33.4  \n",
       "4     18.7  396.90   5.33  36.2  "
      ]
     },
     "execution_count": 2,
     "metadata": {},
     "output_type": "execute_result"
    }
   ],
   "source": [
    "#Crear un DataFrame\n",
    "dades = 'housingData.csv'\n",
    "dataNames = ['CRIM','ZN','INDUS', 'CHAS', 'NOX', 'RM', 'AGE', 'DIS', 'RAD', 'TAX', 'PTRATIO', 'B', 'LSTAT', 'MDEV']\n",
    "\n",
    "data = pd.read_csv(dades, header = None, names = dataNames)\n",
    "data.head()"
   ]
  },
  {
   "cell_type": "code",
   "execution_count": 3,
   "id": "0193a735-62c7-479d-a4a6-9b2726d910fb",
   "metadata": {},
   "outputs": [],
   "source": [
    "# Dividir les dades entre característiques (X) i objectiu (y)\n",
    "X = data.drop(['MDEV','RM'], axis=1)\n",
    "y = data['MDEV']"
   ]
  },
  {
   "cell_type": "markdown",
   "id": "0db39308-962d-4f5b-80e9-24b2bb8990b4",
   "metadata": {
    "tags": []
   },
   "source": [
    "#### · Model 1 - Regressió lineal"
   ]
  },
  {
   "cell_type": "code",
   "execution_count": 4,
   "id": "fc704e0a-2cae-46c9-a292-23e1a47d1fa0",
   "metadata": {},
   "outputs": [],
   "source": [
    "linear_model = LinearRegression()\n",
    "linear_model.fit(X, y)\n",
    "linear_predictions = linear_model.predict(X)"
   ]
  },
  {
   "cell_type": "markdown",
   "id": "2282f470-90a0-4535-a13e-5e15a21e7c1f",
   "metadata": {
    "tags": []
   },
   "source": [
    "#### · Model 2 - Regressió polinòmica"
   ]
  },
  {
   "cell_type": "code",
   "execution_count": 5,
   "id": "3c6db722-3453-4b29-b514-71aa757566e9",
   "metadata": {},
   "outputs": [],
   "source": [
    "polynomial_features = PolynomialFeatures(degree=2)\n",
    "X_poly = polynomial_features.fit_transform(X)\n",
    "\n",
    "polynomial_model = LinearRegression()\n",
    "polynomial_model.fit(X_poly, y)\n",
    "polynomial_predictions = polynomial_model.predict(X_poly)"
   ]
  },
  {
   "cell_type": "markdown",
   "id": "48f456e9-b85c-4a8e-881f-b09089129b14",
   "metadata": {},
   "source": [
    "## Exercici 2\n",
    "Compara’ls en base al MSE i al R2.\n",
    "\n",
    "Calcula el MSE: Utiliza la función mean_squared_error de sklearn.metrics para calcular el MSE de cada modelo. Cuanto menor sea el MSE, mejor será el modelo en términos de ajuste a los datos.\n",
    "\n",
    "Calcula el R2: Utiliza la función r2_score de sklearn.metrics para calcular el coeficiente de determinación (R2) de cada modelo. R2 es una medida de qué tan bien se ajustan los datos a la línea de regresión. Un valor cercano a 1 indica un buen ajuste, mientras que un valor cercano a 0 indica un mal ajuste."
   ]
  },
  {
   "cell_type": "code",
   "execution_count": 6,
   "id": "437914cd-3a25-4c28-8bbe-a2570f6857bc",
   "metadata": {},
   "outputs": [
    {
     "name": "stdout",
     "output_type": "stream",
     "text": [
      "Model Lineal:\n",
      "R2: 0.6968344625005228\n",
      "MSE: 25.593100117551227\n",
      "\n",
      "Model Polinómic:\n",
      "R2: 0.7988002004041156\n",
      "MSE: 16.985197780594017\n"
     ]
    }
   ],
   "source": [
    "linear_r2 = r2_score(y, linear_predictions)\n",
    "linear_mse = mean_squared_error(y, linear_predictions)\n",
    "\n",
    "polynomial_r2 = r2_score(y, polynomial_predictions)\n",
    "polynomial_mse = mean_squared_error(y, polynomial_predictions)\n",
    "\n",
    "print(\"Model Lineal:\")\n",
    "print(\"R2:\", linear_r2)\n",
    "print(\"MSE:\", linear_mse)\n",
    "print(\"\\nModel Polinómic:\")\n",
    "print(\"R2:\", polynomial_r2)\n",
    "print(\"MSE:\", polynomial_mse)"
   ]
  },
  {
   "cell_type": "markdown",
   "id": "de68bbc4-1465-45c8-a2f1-8baf4f0dd1be",
   "metadata": {},
   "source": [
    "Comparant els valors de R2 i MSE, podem concloure que el model polinómic s'ajusta millor al DataFrame, ja que R2 té un valor més proper a 1 i el MSE més petit que el del model lineal."
   ]
  },
  {
   "cell_type": "markdown",
   "id": "b9cad6d4-a79a-4285-87d9-92dc47947e43",
   "metadata": {},
   "source": [
    "## Exercici 3\n",
    "Entrena’ls utilitzant els diferents paràmetres que admeten per intentar millorar-ne la predicció."
   ]
  },
  {
   "cell_type": "markdown",
   "id": "689baafd-6b98-4a59-a1d3-d5616f700084",
   "metadata": {},
   "source": [
    "#### · Model 1 - Regressió lineal Ridge"
   ]
  },
  {
   "cell_type": "code",
   "execution_count": 17,
   "id": "19917a08-ca6e-4926-8291-abd961bc82ae",
   "metadata": {},
   "outputs": [],
   "source": [
    "ridge_model = Ridge(alpha=0.5)\n",
    "ridge_model.fit(X, y)\n",
    "linear_predictions = ridge_model.predict(X)\n",
    "linear_coefficients = ridge_model.coef_"
   ]
  },
  {
   "cell_type": "markdown",
   "id": "508390e9-0912-4093-9d91-fa417e742738",
   "metadata": {},
   "source": [
    "#### · Model 2 - Regressió polonòmica Ridge"
   ]
  },
  {
   "cell_type": "code",
   "execution_count": 18,
   "id": "61e350d3-5505-4023-9cbd-8a5eb484fe9e",
   "metadata": {},
   "outputs": [],
   "source": [
    "polynomial_features = PolynomialFeatures(degree=2)\n",
    "X_poly = polynomial_features.fit_transform(X)\n",
    "\n",
    "ridge_model_poly = Ridge(alpha=0.5)\n",
    "ridge_model_poly.fit(X_poly, y)\n",
    "polynomial_predictions = ridge_model_poly.predict(X_poly)\n",
    "polynomial_coefficients = ridge_model_poly.coef_"
   ]
  },
  {
   "cell_type": "code",
   "execution_count": 19,
   "id": "c461f5dd-a40d-474c-a0d9-8469e4efcdd0",
   "metadata": {},
   "outputs": [
    {
     "name": "stdout",
     "output_type": "stream",
     "text": [
      "Model Lineal:\n",
      "Coeficients: [-1.13425563e-01  6.68398206e-02 -5.31957406e-02  2.84956798e+00\n",
      " -1.58981061e+01  2.12805385e-02 -1.64482567e+00  3.90617021e-01\n",
      " -1.53202077e-02 -1.08784124e+00  6.98977343e-03 -7.80434805e-01]\n",
      "R2: 0.695876290964814\n",
      "MSE: 25.67398853331724\n",
      "\n",
      "Model Polinómic:\n",
      "Coeficients: [ 0.00000000e+00 -2.00474302e-02  2.37446850e-01 -2.38045367e+00\n",
      " -1.95819680e+00 -1.82937221e-01  8.92885522e-01 -4.78955137e+00\n",
      "  6.98158085e+00 -2.93700278e-01 -2.39936609e+00  5.34448062e-02\n",
      " -4.35745211e+00  3.21305085e-03  1.90217544e-01 -1.82096459e-01\n",
      "  3.37665365e+00 -6.99270334e-01 -2.25157131e-03  5.93782323e-02\n",
      " -3.03502451e-01  2.26304270e-02 -2.17914254e-01  6.92044045e-05\n",
      "  5.79504214e-03  1.26622170e-03 -1.01020494e-02 -7.69411417e-02\n",
      "  5.82464898e-01 -1.22388682e-03 -3.57596409e-02 -1.25611749e-02\n",
      "  2.77513256e-04 -1.34448787e-02 -1.80867579e-04 -1.43514662e-03\n",
      "  2.31250444e-02  1.34223657e-01  2.78408660e+00  6.48746946e-03\n",
      "  1.43540565e-01  7.93340335e-02 -1.32243422e-03 -2.41895387e-02\n",
      "  4.30752820e-04 -9.06703411e-03 -1.95819680e+00 -4.95478179e+00\n",
      " -2.78044199e-02  1.68132717e+00 -2.70466260e-01 -2.69505283e-02\n",
      "  2.67110254e-01  1.78545359e-02 -1.85997435e-03 -7.56906481e-01\n",
      " -8.10342180e-01  6.52601603e+00 -2.50272762e+00  1.61639156e-01\n",
      " -4.52830826e+00 -4.25644181e-03  1.89629560e+00  8.04438540e-04\n",
      " -6.65684833e-03  1.05934801e-02 -4.50001239e-04 -1.08366483e-02\n",
      " -6.47780953e-04 -6.10137206e-03  5.05515599e-01 -8.63712042e-02\n",
      " -3.26465498e-03 -1.69142948e-01 -2.91065648e-03  1.13019875e-01\n",
      " -9.12299912e-02  1.18291316e-03 -2.05768746e-01 -2.64288363e-03\n",
      " -2.07595533e-02  1.92255858e-05  9.61026351e-03  1.27030088e-04\n",
      " -3.56477763e-04  7.21213778e-02  6.71834322e-04  9.34173328e-02\n",
      " -4.46344069e-05 -3.27040532e-04  4.45550893e-02]\n",
      "R2: 0.8535218240467115\n",
      "MSE: 12.36562260054133\n"
     ]
    }
   ],
   "source": [
    "linear_r2m = r2_score(y, linear_predictions)\n",
    "linear_msem = mean_squared_error(y, linear_predictions)\n",
    "\n",
    "polynomial_r2m = r2_score(y, polynomial_predictions)\n",
    "polynomial_msem = mean_squared_error(y, polynomial_predictions)\n",
    "\n",
    "print(\"Model Lineal:\")\n",
    "print(\"Coeficients:\", linear_coefficients)\n",
    "print(\"R2:\", linear_r2m)\n",
    "print(\"MSE:\", linear_msem)\n",
    "print(\"\\nModel Polinómic:\")\n",
    "print(\"Coeficients:\", polynomial_coefficients)\n",
    "print(\"R2:\", polynomial_r2m)\n",
    "print(\"MSE:\", polynomial_msem)"
   ]
  },
  {
   "cell_type": "markdown",
   "id": "2e3675b1-2230-4487-9064-47c499902689",
   "metadata": {},
   "source": [
    "Després d'utilitzar Ridge veiem que els models s'ajusten millor, donat que els valors de R2 són més alts i els de MSE més baixos."
   ]
  },
  {
   "cell_type": "markdown",
   "id": "c3d198e4-acc1-435d-9c3b-0fd31d091db8",
   "metadata": {},
   "source": [
    "## Exercici 4"
   ]
  },
  {
   "cell_type": "code",
   "execution_count": 7,
   "id": "15a4cf93-db9f-4bac-85b2-b90b7cce39fe",
   "metadata": {
    "tags": []
   },
   "outputs": [],
   "source": [
    "#Parició del conjunt en train i test\n",
    "X_train, X_test, y_train, y_test = train_test_split(X, y, test_size=0.2, random_state=42)"
   ]
  },
  {
   "cell_type": "markdown",
   "id": "227c31d1-dd5d-441d-b489-da3297ccfdc9",
   "metadata": {},
   "source": [
    "#### · Model 1* - Regressió lineal"
   ]
  },
  {
   "cell_type": "code",
   "execution_count": 8,
   "id": "cbfbccbf-bc22-492d-a803-49346c130f6c",
   "metadata": {},
   "outputs": [],
   "source": [
    "# Modelo lineal amb train/test\n",
    "linear_model_train_test = LinearRegression()\n",
    "linear_model_train_test.fit(X_train, y_train)\n",
    "linear_predictions_train_test = linear_model_train_test.predict(X_test)"
   ]
  },
  {
   "cell_type": "markdown",
   "id": "59a3bc7a-e554-4845-b3aa-1e1d044cb5f7",
   "metadata": {},
   "source": [
    "#### · Model 2* - Regressió polonòmica"
   ]
  },
  {
   "cell_type": "code",
   "execution_count": 9,
   "id": "572a6b64-c17c-46ae-a0b9-049bb10e40e6",
   "metadata": {},
   "outputs": [],
   "source": [
    "# Modelo polinómico amb train/test\n",
    "X_train_poly = polynomial_features.transform(X_train)\n",
    "X_test_poly = polynomial_features.transform(X_test)\n",
    "\n",
    "polynomial_model_train_test = LinearRegression()\n",
    "polynomial_model_train_test.fit(X_train_poly, y_train)\n",
    "polynomial_predictions_train_test = polynomial_model_train_test.predict(X_test_poly)"
   ]
  },
  {
   "cell_type": "code",
   "execution_count": 10,
   "id": "1793acbd-b9db-4732-b963-b9af951ff3c0",
   "metadata": {},
   "outputs": [
    {
     "name": "stdout",
     "output_type": "stream",
     "text": [
      "\n",
      "Model Lineal amb train/test:\n",
      "R2: 0.6981848483147011\n",
      "MSE: 22.133246888189696\n",
      "\n",
      "Model Polinómic amb train/test:\n",
      "R2: 0.761521242161368\n",
      "MSE: 17.48854951568141\n"
     ]
    }
   ],
   "source": [
    "linear_r2_train_test = r2_score(y_test, linear_predictions_train_test)\n",
    "linear_mse_train_test = mean_squared_error(y_test, linear_predictions_train_test)\n",
    "\n",
    "polynomial_r2_train_test = r2_score(y_test, polynomial_predictions_train_test)\n",
    "polynomial_mse_train_test = mean_squared_error(y_test, polynomial_predictions_train_test)\n",
    "\n",
    "print(\"\\nModel Lineal amb train/test:\")\n",
    "print(\"R2:\", linear_r2_train_test)\n",
    "print(\"MSE:\", linear_mse_train_test)\n",
    "print(\"\\nModel Polinómic amb train/test:\")\n",
    "print(\"R2:\", polynomial_r2_train_test)\n",
    "print(\"MSE:\", polynomial_mse_train_test)"
   ]
  },
  {
   "cell_type": "markdown",
   "id": "95935c7f-1f44-4487-b787-7b2ea4890116",
   "metadata": {},
   "source": [
    "Dels diferents ajustos realitzats podem dir que els models utilitzant Ridge s'ajusten millor que amb el métode Train/Test o emprant totes les dades. Entre aquest dos últims el que s'ajusta més és el primer."
   ]
  },
  {
   "cell_type": "markdown",
   "id": "4744ddc2-cb1c-4d23-8f2a-cbb36adb3b00",
   "metadata": {},
   "source": [
    "#### Exercici 5\n",
    "No facis servir la variable del nombre d'habitacions (RM) a l’hora de fer prediccions."
   ]
  },
  {
   "cell_type": "code",
   "execution_count": null,
   "id": "d3cbf3cb-d1f9-4fdd-853d-f33982e2b5e8",
   "metadata": {},
   "outputs": [],
   "source": [
    "#S'ha eliminat RM d'entrada per evitar-lo durant les prediccions."
   ]
  }
 ],
 "metadata": {
  "kernelspec": {
   "display_name": "anaconda-panel-2023.05-py310",
   "language": "python",
   "name": "conda-env-anaconda-panel-2023.05-py310-py"
  },
  "language_info": {
   "codemirror_mode": {
    "name": "ipython",
    "version": 3
   },
   "file_extension": ".py",
   "mimetype": "text/x-python",
   "name": "python",
   "nbconvert_exporter": "python",
   "pygments_lexer": "ipython3",
   "version": "3.11.3"
  }
 },
 "nbformat": 4,
 "nbformat_minor": 5
}
